{
 "cells": [
  {
   "cell_type": "code",
   "execution_count": 2,
   "metadata": {},
   "outputs": [],
   "source": [
    "import osmnx as ox\n",
    "import matplotlib.pyplot as plt\n",
    "import geopandas as gpd\n",
    "import csv"
   ]
  },
  {
   "cell_type": "code",
   "execution_count": 3,
   "metadata": {},
   "outputs": [],
   "source": [
    "# Data Extraction\n",
    "\n",
    "# Read GeoJSON file using GeoPandas\n",
    "data = gpd.read_file(\"/Users/ACER/Desktop/VIP_IDI/atl_bg.geojson\")\n",
    "\n",
    "# Extract polygons from the GeoJSON file\n",
    "polygons = [i for i in data[\"geometry\"]]\n",
    "Entropys=[0]*len(polygons)\n",
    "areas = [i for i in data[\"ALAND\"]]  "
   ]
  },
  {
   "cell_type": "code",
   "execution_count": 12,
   "metadata": {},
   "outputs": [
    {
     "name": "stdout",
     "output_type": "stream",
     "text": [
      "ty <class 'geopandas.geodataframe.GeoDataFrame'>\n",
      "ty <class 'geopandas.geodataframe.GeoDataFrame'>\n",
      "ty <class 'geopandas.geodataframe.GeoDataFrame'>\n"
     ]
    },
    {
     "name": "stderr",
     "output_type": "stream",
     "text": [
      "/var/folders/f7/jnv35vy91yn53q0rtcj3pklc0000gn/T/ipykernel_77185/2068339415.py:11: UserWarning: Geometry is in a geographic CRS. Results from 'area' are likely incorrect. Use 'GeoSeries.to_crs()' to re-project geometries to a projected CRS before this operation.\n",
      "\n",
      "  gdf[\"area\"] = gdf.geometry.area\n",
      "/var/folders/f7/jnv35vy91yn53q0rtcj3pklc0000gn/T/ipykernel_77185/2068339415.py:11: UserWarning: Geometry is in a geographic CRS. Results from 'area' are likely incorrect. Use 'GeoSeries.to_crs()' to re-project geometries to a projected CRS before this operation.\n",
      "\n",
      "  gdf[\"area\"] = gdf.geometry.area\n",
      "/var/folders/f7/jnv35vy91yn53q0rtcj3pklc0000gn/T/ipykernel_77185/2068339415.py:11: UserWarning: Geometry is in a geographic CRS. Results from 'area' are likely incorrect. Use 'GeoSeries.to_crs()' to re-project geometries to a projected CRS before this operation.\n",
      "\n",
      "  gdf[\"area\"] = gdf.geometry.area\n",
      "/var/folders/f7/jnv35vy91yn53q0rtcj3pklc0000gn/T/ipykernel_77185/2068339415.py:11: UserWarning: Geometry is in a geographic CRS. Results from 'area' are likely incorrect. Use 'GeoSeries.to_crs()' to re-project geometries to a projected CRS before this operation.\n",
      "\n",
      "  gdf[\"area\"] = gdf.geometry.area\n"
     ]
    },
    {
     "name": "stdout",
     "output_type": "stream",
     "text": [
      "ty <class 'geopandas.geodataframe.GeoDataFrame'>\n",
      "ty <class 'geopandas.geodataframe.GeoDataFrame'>\n",
      "ty <class 'geopandas.geodataframe.GeoDataFrame'>\n"
     ]
    },
    {
     "name": "stderr",
     "output_type": "stream",
     "text": [
      "/var/folders/f7/jnv35vy91yn53q0rtcj3pklc0000gn/T/ipykernel_77185/2068339415.py:11: UserWarning: Geometry is in a geographic CRS. Results from 'area' are likely incorrect. Use 'GeoSeries.to_crs()' to re-project geometries to a projected CRS before this operation.\n",
      "\n",
      "  gdf[\"area\"] = gdf.geometry.area\n",
      "/var/folders/f7/jnv35vy91yn53q0rtcj3pklc0000gn/T/ipykernel_77185/2068339415.py:11: UserWarning: Geometry is in a geographic CRS. Results from 'area' are likely incorrect. Use 'GeoSeries.to_crs()' to re-project geometries to a projected CRS before this operation.\n",
      "\n",
      "  gdf[\"area\"] = gdf.geometry.area\n",
      "/var/folders/f7/jnv35vy91yn53q0rtcj3pklc0000gn/T/ipykernel_77185/2068339415.py:11: UserWarning: Geometry is in a geographic CRS. Results from 'area' are likely incorrect. Use 'GeoSeries.to_crs()' to re-project geometries to a projected CRS before this operation.\n",
      "\n",
      "  gdf[\"area\"] = gdf.geometry.area\n",
      "/var/folders/f7/jnv35vy91yn53q0rtcj3pklc0000gn/T/ipykernel_77185/2068339415.py:11: UserWarning: Geometry is in a geographic CRS. Results from 'area' are likely incorrect. Use 'GeoSeries.to_crs()' to re-project geometries to a projected CRS before this operation.\n",
      "\n",
      "  gdf[\"area\"] = gdf.geometry.area\n"
     ]
    },
    {
     "name": "stdout",
     "output_type": "stream",
     "text": [
      "ty <class 'geopandas.geodataframe.GeoDataFrame'>\n",
      "ty <class 'geopandas.geodataframe.GeoDataFrame'>\n",
      "ty <class 'geopandas.geodataframe.GeoDataFrame'>\n",
      "ty <class 'geopandas.geodataframe.GeoDataFrame'>\n"
     ]
    },
    {
     "name": "stderr",
     "output_type": "stream",
     "text": [
      "/var/folders/f7/jnv35vy91yn53q0rtcj3pklc0000gn/T/ipykernel_77185/2068339415.py:11: UserWarning: Geometry is in a geographic CRS. Results from 'area' are likely incorrect. Use 'GeoSeries.to_crs()' to re-project geometries to a projected CRS before this operation.\n",
      "\n",
      "  gdf[\"area\"] = gdf.geometry.area\n",
      "/var/folders/f7/jnv35vy91yn53q0rtcj3pklc0000gn/T/ipykernel_77185/2068339415.py:11: UserWarning: Geometry is in a geographic CRS. Results from 'area' are likely incorrect. Use 'GeoSeries.to_crs()' to re-project geometries to a projected CRS before this operation.\n",
      "\n",
      "  gdf[\"area\"] = gdf.geometry.area\n",
      "/var/folders/f7/jnv35vy91yn53q0rtcj3pklc0000gn/T/ipykernel_77185/2068339415.py:11: UserWarning: Geometry is in a geographic CRS. Results from 'area' are likely incorrect. Use 'GeoSeries.to_crs()' to re-project geometries to a projected CRS before this operation.\n",
      "\n",
      "  gdf[\"area\"] = gdf.geometry.area\n",
      "/var/folders/f7/jnv35vy91yn53q0rtcj3pklc0000gn/T/ipykernel_77185/2068339415.py:11: UserWarning: Geometry is in a geographic CRS. Results from 'area' are likely incorrect. Use 'GeoSeries.to_crs()' to re-project geometries to a projected CRS before this operation.\n",
      "\n",
      "  gdf[\"area\"] = gdf.geometry.area\n"
     ]
    },
    {
     "name": "stdout",
     "output_type": "stream",
     "text": [
      "ty <class 'geopandas.geodataframe.GeoDataFrame'>\n",
      "ty <class 'geopandas.geodataframe.GeoDataFrame'>\n",
      "ty <class 'geopandas.geodataframe.GeoDataFrame'>\n",
      "ty <class 'geopandas.geodataframe.GeoDataFrame'>\n"
     ]
    },
    {
     "name": "stderr",
     "output_type": "stream",
     "text": [
      "/var/folders/f7/jnv35vy91yn53q0rtcj3pklc0000gn/T/ipykernel_77185/2068339415.py:11: UserWarning: Geometry is in a geographic CRS. Results from 'area' are likely incorrect. Use 'GeoSeries.to_crs()' to re-project geometries to a projected CRS before this operation.\n",
      "\n",
      "  gdf[\"area\"] = gdf.geometry.area\n",
      "/var/folders/f7/jnv35vy91yn53q0rtcj3pklc0000gn/T/ipykernel_77185/2068339415.py:11: UserWarning: Geometry is in a geographic CRS. Results from 'area' are likely incorrect. Use 'GeoSeries.to_crs()' to re-project geometries to a projected CRS before this operation.\n",
      "\n",
      "  gdf[\"area\"] = gdf.geometry.area\n",
      "/var/folders/f7/jnv35vy91yn53q0rtcj3pklc0000gn/T/ipykernel_77185/2068339415.py:11: UserWarning: Geometry is in a geographic CRS. Results from 'area' are likely incorrect. Use 'GeoSeries.to_crs()' to re-project geometries to a projected CRS before this operation.\n",
      "\n",
      "  gdf[\"area\"] = gdf.geometry.area\n",
      "/var/folders/f7/jnv35vy91yn53q0rtcj3pklc0000gn/T/ipykernel_77185/2068339415.py:11: UserWarning: Geometry is in a geographic CRS. Results from 'area' are likely incorrect. Use 'GeoSeries.to_crs()' to re-project geometries to a projected CRS before this operation.\n",
      "\n",
      "  gdf[\"area\"] = gdf.geometry.area\n"
     ]
    },
    {
     "name": "stdout",
     "output_type": "stream",
     "text": [
      "ty <class 'geopandas.geodataframe.GeoDataFrame'>\n",
      "ty <class 'geopandas.geodataframe.GeoDataFrame'>\n",
      "Error with the following Polygon\n",
      "ty <class 'geopandas.geodataframe.GeoDataFrame'>\n"
     ]
    },
    {
     "name": "stderr",
     "output_type": "stream",
     "text": [
      "/var/folders/f7/jnv35vy91yn53q0rtcj3pklc0000gn/T/ipykernel_77185/2068339415.py:11: UserWarning: Geometry is in a geographic CRS. Results from 'area' are likely incorrect. Use 'GeoSeries.to_crs()' to re-project geometries to a projected CRS before this operation.\n",
      "\n",
      "  gdf[\"area\"] = gdf.geometry.area\n",
      "/var/folders/f7/jnv35vy91yn53q0rtcj3pklc0000gn/T/ipykernel_77185/2068339415.py:11: UserWarning: Geometry is in a geographic CRS. Results from 'area' are likely incorrect. Use 'GeoSeries.to_crs()' to re-project geometries to a projected CRS before this operation.\n",
      "\n",
      "  gdf[\"area\"] = gdf.geometry.area\n"
     ]
    },
    {
     "name": "stdout",
     "output_type": "stream",
     "text": [
      "ty <class 'geopandas.geodataframe.GeoDataFrame'>\n",
      "ty <class 'geopandas.geodataframe.GeoDataFrame'>\n"
     ]
    },
    {
     "name": "stderr",
     "output_type": "stream",
     "text": [
      "/var/folders/f7/jnv35vy91yn53q0rtcj3pklc0000gn/T/ipykernel_77185/2068339415.py:11: UserWarning: Geometry is in a geographic CRS. Results from 'area' are likely incorrect. Use 'GeoSeries.to_crs()' to re-project geometries to a projected CRS before this operation.\n",
      "\n",
      "  gdf[\"area\"] = gdf.geometry.area\n",
      "/var/folders/f7/jnv35vy91yn53q0rtcj3pklc0000gn/T/ipykernel_77185/2068339415.py:11: UserWarning: Geometry is in a geographic CRS. Results from 'area' are likely incorrect. Use 'GeoSeries.to_crs()' to re-project geometries to a projected CRS before this operation.\n",
      "\n",
      "  gdf[\"area\"] = gdf.geometry.area\n"
     ]
    },
    {
     "name": "stdout",
     "output_type": "stream",
     "text": [
      "ty <class 'geopandas.geodataframe.GeoDataFrame'>\n",
      "ty <class 'geopandas.geodataframe.GeoDataFrame'>\n"
     ]
    },
    {
     "name": "stderr",
     "output_type": "stream",
     "text": [
      "/var/folders/f7/jnv35vy91yn53q0rtcj3pklc0000gn/T/ipykernel_77185/2068339415.py:11: UserWarning: Geometry is in a geographic CRS. Results from 'area' are likely incorrect. Use 'GeoSeries.to_crs()' to re-project geometries to a projected CRS before this operation.\n",
      "\n",
      "  gdf[\"area\"] = gdf.geometry.area\n",
      "/var/folders/f7/jnv35vy91yn53q0rtcj3pklc0000gn/T/ipykernel_77185/2068339415.py:11: UserWarning: Geometry is in a geographic CRS. Results from 'area' are likely incorrect. Use 'GeoSeries.to_crs()' to re-project geometries to a projected CRS before this operation.\n",
      "\n",
      "  gdf[\"area\"] = gdf.geometry.area\n",
      "/var/folders/f7/jnv35vy91yn53q0rtcj3pklc0000gn/T/ipykernel_77185/2068339415.py:11: UserWarning: Geometry is in a geographic CRS. Results from 'area' are likely incorrect. Use 'GeoSeries.to_crs()' to re-project geometries to a projected CRS before this operation.\n",
      "\n",
      "  gdf[\"area\"] = gdf.geometry.area\n"
     ]
    },
    {
     "name": "stdout",
     "output_type": "stream",
     "text": [
      "ty <class 'geopandas.geodataframe.GeoDataFrame'>\n",
      "ty <class 'geopandas.geodataframe.GeoDataFrame'>\n",
      "ty <class 'geopandas.geodataframe.GeoDataFrame'>\n",
      "ty <class 'geopandas.geodataframe.GeoDataFrame'>\n"
     ]
    },
    {
     "name": "stderr",
     "output_type": "stream",
     "text": [
      "/var/folders/f7/jnv35vy91yn53q0rtcj3pklc0000gn/T/ipykernel_77185/2068339415.py:11: UserWarning: Geometry is in a geographic CRS. Results from 'area' are likely incorrect. Use 'GeoSeries.to_crs()' to re-project geometries to a projected CRS before this operation.\n",
      "\n",
      "  gdf[\"area\"] = gdf.geometry.area\n",
      "/var/folders/f7/jnv35vy91yn53q0rtcj3pklc0000gn/T/ipykernel_77185/2068339415.py:11: UserWarning: Geometry is in a geographic CRS. Results from 'area' are likely incorrect. Use 'GeoSeries.to_crs()' to re-project geometries to a projected CRS before this operation.\n",
      "\n",
      "  gdf[\"area\"] = gdf.geometry.area\n",
      "/var/folders/f7/jnv35vy91yn53q0rtcj3pklc0000gn/T/ipykernel_77185/2068339415.py:11: UserWarning: Geometry is in a geographic CRS. Results from 'area' are likely incorrect. Use 'GeoSeries.to_crs()' to re-project geometries to a projected CRS before this operation.\n",
      "\n",
      "  gdf[\"area\"] = gdf.geometry.area\n",
      "/var/folders/f7/jnv35vy91yn53q0rtcj3pklc0000gn/T/ipykernel_77185/2068339415.py:11: UserWarning: Geometry is in a geographic CRS. Results from 'area' are likely incorrect. Use 'GeoSeries.to_crs()' to re-project geometries to a projected CRS before this operation.\n",
      "\n",
      "  gdf[\"area\"] = gdf.geometry.area\n",
      "/var/folders/f7/jnv35vy91yn53q0rtcj3pklc0000gn/T/ipykernel_77185/2068339415.py:11: UserWarning: Geometry is in a geographic CRS. Results from 'area' are likely incorrect. Use 'GeoSeries.to_crs()' to re-project geometries to a projected CRS before this operation.\n",
      "\n",
      "  gdf[\"area\"] = gdf.geometry.area\n"
     ]
    },
    {
     "name": "stdout",
     "output_type": "stream",
     "text": [
      "ty <class 'geopandas.geodataframe.GeoDataFrame'>\n",
      "ty <class 'geopandas.geodataframe.GeoDataFrame'>\n",
      "ty <class 'geopandas.geodataframe.GeoDataFrame'>\n",
      "ty <class 'geopandas.geodataframe.GeoDataFrame'>\n"
     ]
    },
    {
     "name": "stderr",
     "output_type": "stream",
     "text": [
      "/var/folders/f7/jnv35vy91yn53q0rtcj3pklc0000gn/T/ipykernel_77185/2068339415.py:11: UserWarning: Geometry is in a geographic CRS. Results from 'area' are likely incorrect. Use 'GeoSeries.to_crs()' to re-project geometries to a projected CRS before this operation.\n",
      "\n",
      "  gdf[\"area\"] = gdf.geometry.area\n",
      "/var/folders/f7/jnv35vy91yn53q0rtcj3pklc0000gn/T/ipykernel_77185/2068339415.py:11: UserWarning: Geometry is in a geographic CRS. Results from 'area' are likely incorrect. Use 'GeoSeries.to_crs()' to re-project geometries to a projected CRS before this operation.\n",
      "\n",
      "  gdf[\"area\"] = gdf.geometry.area\n",
      "/var/folders/f7/jnv35vy91yn53q0rtcj3pklc0000gn/T/ipykernel_77185/2068339415.py:11: UserWarning: Geometry is in a geographic CRS. Results from 'area' are likely incorrect. Use 'GeoSeries.to_crs()' to re-project geometries to a projected CRS before this operation.\n",
      "\n",
      "  gdf[\"area\"] = gdf.geometry.area\n",
      "/var/folders/f7/jnv35vy91yn53q0rtcj3pklc0000gn/T/ipykernel_77185/2068339415.py:11: UserWarning: Geometry is in a geographic CRS. Results from 'area' are likely incorrect. Use 'GeoSeries.to_crs()' to re-project geometries to a projected CRS before this operation.\n",
      "\n",
      "  gdf[\"area\"] = gdf.geometry.area\n"
     ]
    },
    {
     "name": "stdout",
     "output_type": "stream",
     "text": [
      "ty <class 'geopandas.geodataframe.GeoDataFrame'>\n",
      "ty <class 'geopandas.geodataframe.GeoDataFrame'>\n",
      "ty <class 'geopandas.geodataframe.GeoDataFrame'>\n",
      "ty <class 'geopandas.geodataframe.GeoDataFrame'>\n"
     ]
    },
    {
     "name": "stderr",
     "output_type": "stream",
     "text": [
      "/var/folders/f7/jnv35vy91yn53q0rtcj3pklc0000gn/T/ipykernel_77185/2068339415.py:11: UserWarning: Geometry is in a geographic CRS. Results from 'area' are likely incorrect. Use 'GeoSeries.to_crs()' to re-project geometries to a projected CRS before this operation.\n",
      "\n",
      "  gdf[\"area\"] = gdf.geometry.area\n",
      "/var/folders/f7/jnv35vy91yn53q0rtcj3pklc0000gn/T/ipykernel_77185/2068339415.py:11: UserWarning: Geometry is in a geographic CRS. Results from 'area' are likely incorrect. Use 'GeoSeries.to_crs()' to re-project geometries to a projected CRS before this operation.\n",
      "\n",
      "  gdf[\"area\"] = gdf.geometry.area\n",
      "/var/folders/f7/jnv35vy91yn53q0rtcj3pklc0000gn/T/ipykernel_77185/2068339415.py:11: UserWarning: Geometry is in a geographic CRS. Results from 'area' are likely incorrect. Use 'GeoSeries.to_crs()' to re-project geometries to a projected CRS before this operation.\n",
      "\n",
      "  gdf[\"area\"] = gdf.geometry.area\n",
      "/var/folders/f7/jnv35vy91yn53q0rtcj3pklc0000gn/T/ipykernel_77185/2068339415.py:11: UserWarning: Geometry is in a geographic CRS. Results from 'area' are likely incorrect. Use 'GeoSeries.to_crs()' to re-project geometries to a projected CRS before this operation.\n",
      "\n",
      "  gdf[\"area\"] = gdf.geometry.area\n"
     ]
    },
    {
     "name": "stdout",
     "output_type": "stream",
     "text": [
      "ty <class 'geopandas.geodataframe.GeoDataFrame'>\n",
      "ty <class 'geopandas.geodataframe.GeoDataFrame'>\n",
      "ty <class 'geopandas.geodataframe.GeoDataFrame'>\n",
      "ty <class 'geopandas.geodataframe.GeoDataFrame'>\n"
     ]
    },
    {
     "name": "stderr",
     "output_type": "stream",
     "text": [
      "/var/folders/f7/jnv35vy91yn53q0rtcj3pklc0000gn/T/ipykernel_77185/2068339415.py:11: UserWarning: Geometry is in a geographic CRS. Results from 'area' are likely incorrect. Use 'GeoSeries.to_crs()' to re-project geometries to a projected CRS before this operation.\n",
      "\n",
      "  gdf[\"area\"] = gdf.geometry.area\n",
      "/var/folders/f7/jnv35vy91yn53q0rtcj3pklc0000gn/T/ipykernel_77185/2068339415.py:11: UserWarning: Geometry is in a geographic CRS. Results from 'area' are likely incorrect. Use 'GeoSeries.to_crs()' to re-project geometries to a projected CRS before this operation.\n",
      "\n",
      "  gdf[\"area\"] = gdf.geometry.area\n",
      "/var/folders/f7/jnv35vy91yn53q0rtcj3pklc0000gn/T/ipykernel_77185/2068339415.py:11: UserWarning: Geometry is in a geographic CRS. Results from 'area' are likely incorrect. Use 'GeoSeries.to_crs()' to re-project geometries to a projected CRS before this operation.\n",
      "\n",
      "  gdf[\"area\"] = gdf.geometry.area\n"
     ]
    },
    {
     "name": "stdout",
     "output_type": "stream",
     "text": [
      "ty <class 'geopandas.geodataframe.GeoDataFrame'>\n",
      "ty <class 'geopandas.geodataframe.GeoDataFrame'>\n",
      "ty <class 'geopandas.geodataframe.GeoDataFrame'>\n",
      "ty <class 'geopandas.geodataframe.GeoDataFrame'>\n"
     ]
    },
    {
     "name": "stderr",
     "output_type": "stream",
     "text": [
      "/var/folders/f7/jnv35vy91yn53q0rtcj3pklc0000gn/T/ipykernel_77185/2068339415.py:11: UserWarning: Geometry is in a geographic CRS. Results from 'area' are likely incorrect. Use 'GeoSeries.to_crs()' to re-project geometries to a projected CRS before this operation.\n",
      "\n",
      "  gdf[\"area\"] = gdf.geometry.area\n",
      "/var/folders/f7/jnv35vy91yn53q0rtcj3pklc0000gn/T/ipykernel_77185/2068339415.py:11: UserWarning: Geometry is in a geographic CRS. Results from 'area' are likely incorrect. Use 'GeoSeries.to_crs()' to re-project geometries to a projected CRS before this operation.\n",
      "\n",
      "  gdf[\"area\"] = gdf.geometry.area\n",
      "/var/folders/f7/jnv35vy91yn53q0rtcj3pklc0000gn/T/ipykernel_77185/2068339415.py:11: UserWarning: Geometry is in a geographic CRS. Results from 'area' are likely incorrect. Use 'GeoSeries.to_crs()' to re-project geometries to a projected CRS before this operation.\n",
      "\n",
      "  gdf[\"area\"] = gdf.geometry.area\n",
      "/var/folders/f7/jnv35vy91yn53q0rtcj3pklc0000gn/T/ipykernel_77185/2068339415.py:11: UserWarning: Geometry is in a geographic CRS. Results from 'area' are likely incorrect. Use 'GeoSeries.to_crs()' to re-project geometries to a projected CRS before this operation.\n",
      "\n",
      "  gdf[\"area\"] = gdf.geometry.area\n"
     ]
    },
    {
     "name": "stdout",
     "output_type": "stream",
     "text": [
      "ty <class 'geopandas.geodataframe.GeoDataFrame'>\n",
      "ty <class 'geopandas.geodataframe.GeoDataFrame'>\n",
      "ty <class 'geopandas.geodataframe.GeoDataFrame'>\n",
      "ty <class 'geopandas.geodataframe.GeoDataFrame'>\n"
     ]
    },
    {
     "name": "stderr",
     "output_type": "stream",
     "text": [
      "/var/folders/f7/jnv35vy91yn53q0rtcj3pklc0000gn/T/ipykernel_77185/2068339415.py:11: UserWarning: Geometry is in a geographic CRS. Results from 'area' are likely incorrect. Use 'GeoSeries.to_crs()' to re-project geometries to a projected CRS before this operation.\n",
      "\n",
      "  gdf[\"area\"] = gdf.geometry.area\n",
      "/var/folders/f7/jnv35vy91yn53q0rtcj3pklc0000gn/T/ipykernel_77185/2068339415.py:11: UserWarning: Geometry is in a geographic CRS. Results from 'area' are likely incorrect. Use 'GeoSeries.to_crs()' to re-project geometries to a projected CRS before this operation.\n",
      "\n",
      "  gdf[\"area\"] = gdf.geometry.area\n",
      "/var/folders/f7/jnv35vy91yn53q0rtcj3pklc0000gn/T/ipykernel_77185/2068339415.py:11: UserWarning: Geometry is in a geographic CRS. Results from 'area' are likely incorrect. Use 'GeoSeries.to_crs()' to re-project geometries to a projected CRS before this operation.\n",
      "\n",
      "  gdf[\"area\"] = gdf.geometry.area\n",
      "/var/folders/f7/jnv35vy91yn53q0rtcj3pklc0000gn/T/ipykernel_77185/2068339415.py:11: UserWarning: Geometry is in a geographic CRS. Results from 'area' are likely incorrect. Use 'GeoSeries.to_crs()' to re-project geometries to a projected CRS before this operation.\n",
      "\n",
      "  gdf[\"area\"] = gdf.geometry.area\n"
     ]
    },
    {
     "name": "stdout",
     "output_type": "stream",
     "text": [
      "ty <class 'geopandas.geodataframe.GeoDataFrame'>\n",
      "ty <class 'geopandas.geodataframe.GeoDataFrame'>\n",
      "ty <class 'geopandas.geodataframe.GeoDataFrame'>\n",
      "ty <class 'geopandas.geodataframe.GeoDataFrame'>\n"
     ]
    },
    {
     "name": "stderr",
     "output_type": "stream",
     "text": [
      "/var/folders/f7/jnv35vy91yn53q0rtcj3pklc0000gn/T/ipykernel_77185/2068339415.py:11: UserWarning: Geometry is in a geographic CRS. Results from 'area' are likely incorrect. Use 'GeoSeries.to_crs()' to re-project geometries to a projected CRS before this operation.\n",
      "\n",
      "  gdf[\"area\"] = gdf.geometry.area\n",
      "/var/folders/f7/jnv35vy91yn53q0rtcj3pklc0000gn/T/ipykernel_77185/2068339415.py:11: UserWarning: Geometry is in a geographic CRS. Results from 'area' are likely incorrect. Use 'GeoSeries.to_crs()' to re-project geometries to a projected CRS before this operation.\n",
      "\n",
      "  gdf[\"area\"] = gdf.geometry.area\n",
      "/var/folders/f7/jnv35vy91yn53q0rtcj3pklc0000gn/T/ipykernel_77185/2068339415.py:11: UserWarning: Geometry is in a geographic CRS. Results from 'area' are likely incorrect. Use 'GeoSeries.to_crs()' to re-project geometries to a projected CRS before this operation.\n",
      "\n",
      "  gdf[\"area\"] = gdf.geometry.area\n",
      "/var/folders/f7/jnv35vy91yn53q0rtcj3pklc0000gn/T/ipykernel_77185/2068339415.py:11: UserWarning: Geometry is in a geographic CRS. Results from 'area' are likely incorrect. Use 'GeoSeries.to_crs()' to re-project geometries to a projected CRS before this operation.\n",
      "\n",
      "  gdf[\"area\"] = gdf.geometry.area\n"
     ]
    },
    {
     "name": "stdout",
     "output_type": "stream",
     "text": [
      "ty <class 'geopandas.geodataframe.GeoDataFrame'>\n",
      "ty <class 'geopandas.geodataframe.GeoDataFrame'>\n",
      "ty <class 'geopandas.geodataframe.GeoDataFrame'>\n",
      "ty <class 'geopandas.geodataframe.GeoDataFrame'>\n"
     ]
    },
    {
     "name": "stderr",
     "output_type": "stream",
     "text": [
      "/var/folders/f7/jnv35vy91yn53q0rtcj3pklc0000gn/T/ipykernel_77185/2068339415.py:11: UserWarning: Geometry is in a geographic CRS. Results from 'area' are likely incorrect. Use 'GeoSeries.to_crs()' to re-project geometries to a projected CRS before this operation.\n",
      "\n",
      "  gdf[\"area\"] = gdf.geometry.area\n",
      "/var/folders/f7/jnv35vy91yn53q0rtcj3pklc0000gn/T/ipykernel_77185/2068339415.py:11: UserWarning: Geometry is in a geographic CRS. Results from 'area' are likely incorrect. Use 'GeoSeries.to_crs()' to re-project geometries to a projected CRS before this operation.\n",
      "\n",
      "  gdf[\"area\"] = gdf.geometry.area\n",
      "/var/folders/f7/jnv35vy91yn53q0rtcj3pklc0000gn/T/ipykernel_77185/2068339415.py:11: UserWarning: Geometry is in a geographic CRS. Results from 'area' are likely incorrect. Use 'GeoSeries.to_crs()' to re-project geometries to a projected CRS before this operation.\n",
      "\n",
      "  gdf[\"area\"] = gdf.geometry.area\n",
      "/var/folders/f7/jnv35vy91yn53q0rtcj3pklc0000gn/T/ipykernel_77185/2068339415.py:11: UserWarning: Geometry is in a geographic CRS. Results from 'area' are likely incorrect. Use 'GeoSeries.to_crs()' to re-project geometries to a projected CRS before this operation.\n",
      "\n",
      "  gdf[\"area\"] = gdf.geometry.area\n"
     ]
    },
    {
     "name": "stdout",
     "output_type": "stream",
     "text": [
      "ty <class 'geopandas.geodataframe.GeoDataFrame'>\n",
      "ty <class 'geopandas.geodataframe.GeoDataFrame'>\n",
      "ty <class 'geopandas.geodataframe.GeoDataFrame'>\n",
      "ty <class 'geopandas.geodataframe.GeoDataFrame'>\n"
     ]
    },
    {
     "name": "stderr",
     "output_type": "stream",
     "text": [
      "/var/folders/f7/jnv35vy91yn53q0rtcj3pklc0000gn/T/ipykernel_77185/2068339415.py:11: UserWarning: Geometry is in a geographic CRS. Results from 'area' are likely incorrect. Use 'GeoSeries.to_crs()' to re-project geometries to a projected CRS before this operation.\n",
      "\n",
      "  gdf[\"area\"] = gdf.geometry.area\n",
      "/var/folders/f7/jnv35vy91yn53q0rtcj3pklc0000gn/T/ipykernel_77185/2068339415.py:11: UserWarning: Geometry is in a geographic CRS. Results from 'area' are likely incorrect. Use 'GeoSeries.to_crs()' to re-project geometries to a projected CRS before this operation.\n",
      "\n",
      "  gdf[\"area\"] = gdf.geometry.area\n",
      "/var/folders/f7/jnv35vy91yn53q0rtcj3pklc0000gn/T/ipykernel_77185/2068339415.py:11: UserWarning: Geometry is in a geographic CRS. Results from 'area' are likely incorrect. Use 'GeoSeries.to_crs()' to re-project geometries to a projected CRS before this operation.\n",
      "\n",
      "  gdf[\"area\"] = gdf.geometry.area\n"
     ]
    },
    {
     "name": "stdout",
     "output_type": "stream",
     "text": [
      "ty <class 'geopandas.geodataframe.GeoDataFrame'>\n",
      "ty <class 'geopandas.geodataframe.GeoDataFrame'>\n",
      "ty <class 'geopandas.geodataframe.GeoDataFrame'>\n"
     ]
    },
    {
     "name": "stderr",
     "output_type": "stream",
     "text": [
      "/var/folders/f7/jnv35vy91yn53q0rtcj3pklc0000gn/T/ipykernel_77185/2068339415.py:11: UserWarning: Geometry is in a geographic CRS. Results from 'area' are likely incorrect. Use 'GeoSeries.to_crs()' to re-project geometries to a projected CRS before this operation.\n",
      "\n",
      "  gdf[\"area\"] = gdf.geometry.area\n",
      "/var/folders/f7/jnv35vy91yn53q0rtcj3pklc0000gn/T/ipykernel_77185/2068339415.py:11: UserWarning: Geometry is in a geographic CRS. Results from 'area' are likely incorrect. Use 'GeoSeries.to_crs()' to re-project geometries to a projected CRS before this operation.\n",
      "\n",
      "  gdf[\"area\"] = gdf.geometry.area\n",
      "/var/folders/f7/jnv35vy91yn53q0rtcj3pklc0000gn/T/ipykernel_77185/2068339415.py:11: UserWarning: Geometry is in a geographic CRS. Results from 'area' are likely incorrect. Use 'GeoSeries.to_crs()' to re-project geometries to a projected CRS before this operation.\n",
      "\n",
      "  gdf[\"area\"] = gdf.geometry.area\n",
      "/var/folders/f7/jnv35vy91yn53q0rtcj3pklc0000gn/T/ipykernel_77185/2068339415.py:11: UserWarning: Geometry is in a geographic CRS. Results from 'area' are likely incorrect. Use 'GeoSeries.to_crs()' to re-project geometries to a projected CRS before this operation.\n",
      "\n",
      "  gdf[\"area\"] = gdf.geometry.area\n"
     ]
    },
    {
     "name": "stdout",
     "output_type": "stream",
     "text": [
      "ty <class 'geopandas.geodataframe.GeoDataFrame'>\n",
      "ty <class 'geopandas.geodataframe.GeoDataFrame'>\n",
      "ty <class 'geopandas.geodataframe.GeoDataFrame'>\n",
      "ty <class 'geopandas.geodataframe.GeoDataFrame'>\n"
     ]
    },
    {
     "name": "stderr",
     "output_type": "stream",
     "text": [
      "/var/folders/f7/jnv35vy91yn53q0rtcj3pklc0000gn/T/ipykernel_77185/2068339415.py:11: UserWarning: Geometry is in a geographic CRS. Results from 'area' are likely incorrect. Use 'GeoSeries.to_crs()' to re-project geometries to a projected CRS before this operation.\n",
      "\n",
      "  gdf[\"area\"] = gdf.geometry.area\n",
      "/var/folders/f7/jnv35vy91yn53q0rtcj3pklc0000gn/T/ipykernel_77185/2068339415.py:11: UserWarning: Geometry is in a geographic CRS. Results from 'area' are likely incorrect. Use 'GeoSeries.to_crs()' to re-project geometries to a projected CRS before this operation.\n",
      "\n",
      "  gdf[\"area\"] = gdf.geometry.area\n",
      "/var/folders/f7/jnv35vy91yn53q0rtcj3pklc0000gn/T/ipykernel_77185/2068339415.py:11: UserWarning: Geometry is in a geographic CRS. Results from 'area' are likely incorrect. Use 'GeoSeries.to_crs()' to re-project geometries to a projected CRS before this operation.\n",
      "\n",
      "  gdf[\"area\"] = gdf.geometry.area\n",
      "/var/folders/f7/jnv35vy91yn53q0rtcj3pklc0000gn/T/ipykernel_77185/2068339415.py:11: UserWarning: Geometry is in a geographic CRS. Results from 'area' are likely incorrect. Use 'GeoSeries.to_crs()' to re-project geometries to a projected CRS before this operation.\n",
      "\n",
      "  gdf[\"area\"] = gdf.geometry.area\n"
     ]
    },
    {
     "name": "stdout",
     "output_type": "stream",
     "text": [
      "ty <class 'geopandas.geodataframe.GeoDataFrame'>\n",
      "ty <class 'geopandas.geodataframe.GeoDataFrame'>\n",
      "ty <class 'geopandas.geodataframe.GeoDataFrame'>\n",
      "ty <class 'geopandas.geodataframe.GeoDataFrame'>\n"
     ]
    },
    {
     "name": "stderr",
     "output_type": "stream",
     "text": [
      "/var/folders/f7/jnv35vy91yn53q0rtcj3pklc0000gn/T/ipykernel_77185/2068339415.py:11: UserWarning: Geometry is in a geographic CRS. Results from 'area' are likely incorrect. Use 'GeoSeries.to_crs()' to re-project geometries to a projected CRS before this operation.\n",
      "\n",
      "  gdf[\"area\"] = gdf.geometry.area\n",
      "/var/folders/f7/jnv35vy91yn53q0rtcj3pklc0000gn/T/ipykernel_77185/2068339415.py:11: UserWarning: Geometry is in a geographic CRS. Results from 'area' are likely incorrect. Use 'GeoSeries.to_crs()' to re-project geometries to a projected CRS before this operation.\n",
      "\n",
      "  gdf[\"area\"] = gdf.geometry.area\n",
      "/var/folders/f7/jnv35vy91yn53q0rtcj3pklc0000gn/T/ipykernel_77185/2068339415.py:11: UserWarning: Geometry is in a geographic CRS. Results from 'area' are likely incorrect. Use 'GeoSeries.to_crs()' to re-project geometries to a projected CRS before this operation.\n",
      "\n",
      "  gdf[\"area\"] = gdf.geometry.area\n",
      "/var/folders/f7/jnv35vy91yn53q0rtcj3pklc0000gn/T/ipykernel_77185/2068339415.py:11: UserWarning: Geometry is in a geographic CRS. Results from 'area' are likely incorrect. Use 'GeoSeries.to_crs()' to re-project geometries to a projected CRS before this operation.\n",
      "\n",
      "  gdf[\"area\"] = gdf.geometry.area\n"
     ]
    },
    {
     "name": "stdout",
     "output_type": "stream",
     "text": [
      "ty <class 'geopandas.geodataframe.GeoDataFrame'>\n",
      "ty <class 'geopandas.geodataframe.GeoDataFrame'>\n",
      "ty <class 'geopandas.geodataframe.GeoDataFrame'>\n"
     ]
    },
    {
     "name": "stderr",
     "output_type": "stream",
     "text": [
      "/var/folders/f7/jnv35vy91yn53q0rtcj3pklc0000gn/T/ipykernel_77185/2068339415.py:11: UserWarning: Geometry is in a geographic CRS. Results from 'area' are likely incorrect. Use 'GeoSeries.to_crs()' to re-project geometries to a projected CRS before this operation.\n",
      "\n",
      "  gdf[\"area\"] = gdf.geometry.area\n",
      "/var/folders/f7/jnv35vy91yn53q0rtcj3pklc0000gn/T/ipykernel_77185/2068339415.py:11: UserWarning: Geometry is in a geographic CRS. Results from 'area' are likely incorrect. Use 'GeoSeries.to_crs()' to re-project geometries to a projected CRS before this operation.\n",
      "\n",
      "  gdf[\"area\"] = gdf.geometry.area\n",
      "/var/folders/f7/jnv35vy91yn53q0rtcj3pklc0000gn/T/ipykernel_77185/2068339415.py:11: UserWarning: Geometry is in a geographic CRS. Results from 'area' are likely incorrect. Use 'GeoSeries.to_crs()' to re-project geometries to a projected CRS before this operation.\n",
      "\n",
      "  gdf[\"area\"] = gdf.geometry.area\n",
      "/var/folders/f7/jnv35vy91yn53q0rtcj3pklc0000gn/T/ipykernel_77185/2068339415.py:11: UserWarning: Geometry is in a geographic CRS. Results from 'area' are likely incorrect. Use 'GeoSeries.to_crs()' to re-project geometries to a projected CRS before this operation.\n",
      "\n",
      "  gdf[\"area\"] = gdf.geometry.area\n"
     ]
    },
    {
     "name": "stdout",
     "output_type": "stream",
     "text": [
      "ty <class 'geopandas.geodataframe.GeoDataFrame'>\n",
      "ty <class 'geopandas.geodataframe.GeoDataFrame'>\n",
      "ty <class 'geopandas.geodataframe.GeoDataFrame'>\n",
      "ty <class 'geopandas.geodataframe.GeoDataFrame'>\n"
     ]
    },
    {
     "name": "stderr",
     "output_type": "stream",
     "text": [
      "/var/folders/f7/jnv35vy91yn53q0rtcj3pklc0000gn/T/ipykernel_77185/2068339415.py:11: UserWarning: Geometry is in a geographic CRS. Results from 'area' are likely incorrect. Use 'GeoSeries.to_crs()' to re-project geometries to a projected CRS before this operation.\n",
      "\n",
      "  gdf[\"area\"] = gdf.geometry.area\n",
      "/var/folders/f7/jnv35vy91yn53q0rtcj3pklc0000gn/T/ipykernel_77185/2068339415.py:11: UserWarning: Geometry is in a geographic CRS. Results from 'area' are likely incorrect. Use 'GeoSeries.to_crs()' to re-project geometries to a projected CRS before this operation.\n",
      "\n",
      "  gdf[\"area\"] = gdf.geometry.area\n",
      "/var/folders/f7/jnv35vy91yn53q0rtcj3pklc0000gn/T/ipykernel_77185/2068339415.py:11: UserWarning: Geometry is in a geographic CRS. Results from 'area' are likely incorrect. Use 'GeoSeries.to_crs()' to re-project geometries to a projected CRS before this operation.\n",
      "\n",
      "  gdf[\"area\"] = gdf.geometry.area\n"
     ]
    },
    {
     "name": "stdout",
     "output_type": "stream",
     "text": [
      "ty <class 'geopandas.geodataframe.GeoDataFrame'>\n",
      "ty <class 'geopandas.geodataframe.GeoDataFrame'>\n",
      "ty <class 'geopandas.geodataframe.GeoDataFrame'>\n"
     ]
    },
    {
     "name": "stderr",
     "output_type": "stream",
     "text": [
      "/var/folders/f7/jnv35vy91yn53q0rtcj3pklc0000gn/T/ipykernel_77185/2068339415.py:11: UserWarning: Geometry is in a geographic CRS. Results from 'area' are likely incorrect. Use 'GeoSeries.to_crs()' to re-project geometries to a projected CRS before this operation.\n",
      "\n",
      "  gdf[\"area\"] = gdf.geometry.area\n",
      "/var/folders/f7/jnv35vy91yn53q0rtcj3pklc0000gn/T/ipykernel_77185/2068339415.py:11: UserWarning: Geometry is in a geographic CRS. Results from 'area' are likely incorrect. Use 'GeoSeries.to_crs()' to re-project geometries to a projected CRS before this operation.\n",
      "\n",
      "  gdf[\"area\"] = gdf.geometry.area\n",
      "/var/folders/f7/jnv35vy91yn53q0rtcj3pklc0000gn/T/ipykernel_77185/2068339415.py:11: UserWarning: Geometry is in a geographic CRS. Results from 'area' are likely incorrect. Use 'GeoSeries.to_crs()' to re-project geometries to a projected CRS before this operation.\n",
      "\n",
      "  gdf[\"area\"] = gdf.geometry.area\n",
      "/var/folders/f7/jnv35vy91yn53q0rtcj3pklc0000gn/T/ipykernel_77185/2068339415.py:11: UserWarning: Geometry is in a geographic CRS. Results from 'area' are likely incorrect. Use 'GeoSeries.to_crs()' to re-project geometries to a projected CRS before this operation.\n",
      "\n",
      "  gdf[\"area\"] = gdf.geometry.area\n"
     ]
    },
    {
     "name": "stdout",
     "output_type": "stream",
     "text": [
      "ty <class 'geopandas.geodataframe.GeoDataFrame'>\n",
      "ty <class 'geopandas.geodataframe.GeoDataFrame'>\n",
      "ty <class 'geopandas.geodataframe.GeoDataFrame'>\n",
      "ty <class 'geopandas.geodataframe.GeoDataFrame'>\n",
      "ty <class 'geopandas.geodataframe.GeoDataFrame'>\n"
     ]
    },
    {
     "name": "stderr",
     "output_type": "stream",
     "text": [
      "/var/folders/f7/jnv35vy91yn53q0rtcj3pklc0000gn/T/ipykernel_77185/2068339415.py:11: UserWarning: Geometry is in a geographic CRS. Results from 'area' are likely incorrect. Use 'GeoSeries.to_crs()' to re-project geometries to a projected CRS before this operation.\n",
      "\n",
      "  gdf[\"area\"] = gdf.geometry.area\n",
      "/var/folders/f7/jnv35vy91yn53q0rtcj3pklc0000gn/T/ipykernel_77185/2068339415.py:11: UserWarning: Geometry is in a geographic CRS. Results from 'area' are likely incorrect. Use 'GeoSeries.to_crs()' to re-project geometries to a projected CRS before this operation.\n",
      "\n",
      "  gdf[\"area\"] = gdf.geometry.area\n"
     ]
    },
    {
     "name": "stdout",
     "output_type": "stream",
     "text": [
      "ty <class 'geopandas.geodataframe.GeoDataFrame'>\n",
      "ty <class 'geopandas.geodataframe.GeoDataFrame'>\n",
      "ty <class 'geopandas.geodataframe.GeoDataFrame'>\n",
      "ty <class 'geopandas.geodataframe.GeoDataFrame'>\n"
     ]
    },
    {
     "name": "stderr",
     "output_type": "stream",
     "text": [
      "/var/folders/f7/jnv35vy91yn53q0rtcj3pklc0000gn/T/ipykernel_77185/2068339415.py:11: UserWarning: Geometry is in a geographic CRS. Results from 'area' are likely incorrect. Use 'GeoSeries.to_crs()' to re-project geometries to a projected CRS before this operation.\n",
      "\n",
      "  gdf[\"area\"] = gdf.geometry.area\n",
      "/var/folders/f7/jnv35vy91yn53q0rtcj3pklc0000gn/T/ipykernel_77185/2068339415.py:11: UserWarning: Geometry is in a geographic CRS. Results from 'area' are likely incorrect. Use 'GeoSeries.to_crs()' to re-project geometries to a projected CRS before this operation.\n",
      "\n",
      "  gdf[\"area\"] = gdf.geometry.area\n",
      "/var/folders/f7/jnv35vy91yn53q0rtcj3pklc0000gn/T/ipykernel_77185/2068339415.py:11: UserWarning: Geometry is in a geographic CRS. Results from 'area' are likely incorrect. Use 'GeoSeries.to_crs()' to re-project geometries to a projected CRS before this operation.\n",
      "\n",
      "  gdf[\"area\"] = gdf.geometry.area\n",
      "/var/folders/f7/jnv35vy91yn53q0rtcj3pklc0000gn/T/ipykernel_77185/2068339415.py:11: UserWarning: Geometry is in a geographic CRS. Results from 'area' are likely incorrect. Use 'GeoSeries.to_crs()' to re-project geometries to a projected CRS before this operation.\n",
      "\n",
      "  gdf[\"area\"] = gdf.geometry.area\n"
     ]
    },
    {
     "name": "stdout",
     "output_type": "stream",
     "text": [
      "ty <class 'geopandas.geodataframe.GeoDataFrame'>\n",
      "ty <class 'geopandas.geodataframe.GeoDataFrame'>\n",
      "ty <class 'geopandas.geodataframe.GeoDataFrame'>\n",
      "ty <class 'geopandas.geodataframe.GeoDataFrame'>\n"
     ]
    },
    {
     "name": "stderr",
     "output_type": "stream",
     "text": [
      "/var/folders/f7/jnv35vy91yn53q0rtcj3pklc0000gn/T/ipykernel_77185/2068339415.py:11: UserWarning: Geometry is in a geographic CRS. Results from 'area' are likely incorrect. Use 'GeoSeries.to_crs()' to re-project geometries to a projected CRS before this operation.\n",
      "\n",
      "  gdf[\"area\"] = gdf.geometry.area\n",
      "/var/folders/f7/jnv35vy91yn53q0rtcj3pklc0000gn/T/ipykernel_77185/2068339415.py:11: UserWarning: Geometry is in a geographic CRS. Results from 'area' are likely incorrect. Use 'GeoSeries.to_crs()' to re-project geometries to a projected CRS before this operation.\n",
      "\n",
      "  gdf[\"area\"] = gdf.geometry.area\n",
      "/var/folders/f7/jnv35vy91yn53q0rtcj3pklc0000gn/T/ipykernel_77185/2068339415.py:11: UserWarning: Geometry is in a geographic CRS. Results from 'area' are likely incorrect. Use 'GeoSeries.to_crs()' to re-project geometries to a projected CRS before this operation.\n",
      "\n",
      "  gdf[\"area\"] = gdf.geometry.area\n",
      "/var/folders/f7/jnv35vy91yn53q0rtcj3pklc0000gn/T/ipykernel_77185/2068339415.py:11: UserWarning: Geometry is in a geographic CRS. Results from 'area' are likely incorrect. Use 'GeoSeries.to_crs()' to re-project geometries to a projected CRS before this operation.\n",
      "\n",
      "  gdf[\"area\"] = gdf.geometry.area\n"
     ]
    },
    {
     "name": "stdout",
     "output_type": "stream",
     "text": [
      "ty <class 'geopandas.geodataframe.GeoDataFrame'>\n",
      "ty <class 'geopandas.geodataframe.GeoDataFrame'>\n",
      "ty <class 'geopandas.geodataframe.GeoDataFrame'>\n",
      "ty <class 'geopandas.geodataframe.GeoDataFrame'>\n"
     ]
    },
    {
     "name": "stderr",
     "output_type": "stream",
     "text": [
      "/var/folders/f7/jnv35vy91yn53q0rtcj3pklc0000gn/T/ipykernel_77185/2068339415.py:11: UserWarning: Geometry is in a geographic CRS. Results from 'area' are likely incorrect. Use 'GeoSeries.to_crs()' to re-project geometries to a projected CRS before this operation.\n",
      "\n",
      "  gdf[\"area\"] = gdf.geometry.area\n",
      "/var/folders/f7/jnv35vy91yn53q0rtcj3pklc0000gn/T/ipykernel_77185/2068339415.py:11: UserWarning: Geometry is in a geographic CRS. Results from 'area' are likely incorrect. Use 'GeoSeries.to_crs()' to re-project geometries to a projected CRS before this operation.\n",
      "\n",
      "  gdf[\"area\"] = gdf.geometry.area\n",
      "/var/folders/f7/jnv35vy91yn53q0rtcj3pklc0000gn/T/ipykernel_77185/2068339415.py:11: UserWarning: Geometry is in a geographic CRS. Results from 'area' are likely incorrect. Use 'GeoSeries.to_crs()' to re-project geometries to a projected CRS before this operation.\n",
      "\n",
      "  gdf[\"area\"] = gdf.geometry.area\n",
      "/var/folders/f7/jnv35vy91yn53q0rtcj3pklc0000gn/T/ipykernel_77185/2068339415.py:11: UserWarning: Geometry is in a geographic CRS. Results from 'area' are likely incorrect. Use 'GeoSeries.to_crs()' to re-project geometries to a projected CRS before this operation.\n",
      "\n",
      "  gdf[\"area\"] = gdf.geometry.area\n"
     ]
    },
    {
     "name": "stdout",
     "output_type": "stream",
     "text": [
      "ty <class 'geopandas.geodataframe.GeoDataFrame'>\n",
      "ty <class 'geopandas.geodataframe.GeoDataFrame'>\n",
      "ty <class 'geopandas.geodataframe.GeoDataFrame'>\n",
      "ty <class 'geopandas.geodataframe.GeoDataFrame'>\n"
     ]
    },
    {
     "name": "stderr",
     "output_type": "stream",
     "text": [
      "/var/folders/f7/jnv35vy91yn53q0rtcj3pklc0000gn/T/ipykernel_77185/2068339415.py:11: UserWarning: Geometry is in a geographic CRS. Results from 'area' are likely incorrect. Use 'GeoSeries.to_crs()' to re-project geometries to a projected CRS before this operation.\n",
      "\n",
      "  gdf[\"area\"] = gdf.geometry.area\n",
      "/var/folders/f7/jnv35vy91yn53q0rtcj3pklc0000gn/T/ipykernel_77185/2068339415.py:11: UserWarning: Geometry is in a geographic CRS. Results from 'area' are likely incorrect. Use 'GeoSeries.to_crs()' to re-project geometries to a projected CRS before this operation.\n",
      "\n",
      "  gdf[\"area\"] = gdf.geometry.area\n",
      "/var/folders/f7/jnv35vy91yn53q0rtcj3pklc0000gn/T/ipykernel_77185/2068339415.py:11: UserWarning: Geometry is in a geographic CRS. Results from 'area' are likely incorrect. Use 'GeoSeries.to_crs()' to re-project geometries to a projected CRS before this operation.\n",
      "\n",
      "  gdf[\"area\"] = gdf.geometry.area\n",
      "/var/folders/f7/jnv35vy91yn53q0rtcj3pklc0000gn/T/ipykernel_77185/2068339415.py:11: UserWarning: Geometry is in a geographic CRS. Results from 'area' are likely incorrect. Use 'GeoSeries.to_crs()' to re-project geometries to a projected CRS before this operation.\n",
      "\n",
      "  gdf[\"area\"] = gdf.geometry.area\n"
     ]
    },
    {
     "name": "stdout",
     "output_type": "stream",
     "text": [
      "ty <class 'geopandas.geodataframe.GeoDataFrame'>\n",
      "ty <class 'geopandas.geodataframe.GeoDataFrame'>\n",
      "ty <class 'geopandas.geodataframe.GeoDataFrame'>\n",
      "ty <class 'geopandas.geodataframe.GeoDataFrame'>\n"
     ]
    },
    {
     "name": "stderr",
     "output_type": "stream",
     "text": [
      "/var/folders/f7/jnv35vy91yn53q0rtcj3pklc0000gn/T/ipykernel_77185/2068339415.py:11: UserWarning: Geometry is in a geographic CRS. Results from 'area' are likely incorrect. Use 'GeoSeries.to_crs()' to re-project geometries to a projected CRS before this operation.\n",
      "\n",
      "  gdf[\"area\"] = gdf.geometry.area\n",
      "/var/folders/f7/jnv35vy91yn53q0rtcj3pklc0000gn/T/ipykernel_77185/2068339415.py:11: UserWarning: Geometry is in a geographic CRS. Results from 'area' are likely incorrect. Use 'GeoSeries.to_crs()' to re-project geometries to a projected CRS before this operation.\n",
      "\n",
      "  gdf[\"area\"] = gdf.geometry.area\n",
      "/var/folders/f7/jnv35vy91yn53q0rtcj3pklc0000gn/T/ipykernel_77185/2068339415.py:11: UserWarning: Geometry is in a geographic CRS. Results from 'area' are likely incorrect. Use 'GeoSeries.to_crs()' to re-project geometries to a projected CRS before this operation.\n",
      "\n",
      "  gdf[\"area\"] = gdf.geometry.area\n",
      "/var/folders/f7/jnv35vy91yn53q0rtcj3pklc0000gn/T/ipykernel_77185/2068339415.py:11: UserWarning: Geometry is in a geographic CRS. Results from 'area' are likely incorrect. Use 'GeoSeries.to_crs()' to re-project geometries to a projected CRS before this operation.\n",
      "\n",
      "  gdf[\"area\"] = gdf.geometry.area\n"
     ]
    },
    {
     "name": "stdout",
     "output_type": "stream",
     "text": [
      "ty <class 'geopandas.geodataframe.GeoDataFrame'>\n",
      "ty <class 'geopandas.geodataframe.GeoDataFrame'>\n",
      "ty <class 'geopandas.geodataframe.GeoDataFrame'>\n",
      "ty <class 'geopandas.geodataframe.GeoDataFrame'>\n"
     ]
    },
    {
     "name": "stderr",
     "output_type": "stream",
     "text": [
      "/var/folders/f7/jnv35vy91yn53q0rtcj3pklc0000gn/T/ipykernel_77185/2068339415.py:11: UserWarning: Geometry is in a geographic CRS. Results from 'area' are likely incorrect. Use 'GeoSeries.to_crs()' to re-project geometries to a projected CRS before this operation.\n",
      "\n",
      "  gdf[\"area\"] = gdf.geometry.area\n",
      "/var/folders/f7/jnv35vy91yn53q0rtcj3pklc0000gn/T/ipykernel_77185/2068339415.py:11: UserWarning: Geometry is in a geographic CRS. Results from 'area' are likely incorrect. Use 'GeoSeries.to_crs()' to re-project geometries to a projected CRS before this operation.\n",
      "\n",
      "  gdf[\"area\"] = gdf.geometry.area\n",
      "/var/folders/f7/jnv35vy91yn53q0rtcj3pklc0000gn/T/ipykernel_77185/2068339415.py:11: UserWarning: Geometry is in a geographic CRS. Results from 'area' are likely incorrect. Use 'GeoSeries.to_crs()' to re-project geometries to a projected CRS before this operation.\n",
      "\n",
      "  gdf[\"area\"] = gdf.geometry.area\n",
      "/var/folders/f7/jnv35vy91yn53q0rtcj3pklc0000gn/T/ipykernel_77185/2068339415.py:11: UserWarning: Geometry is in a geographic CRS. Results from 'area' are likely incorrect. Use 'GeoSeries.to_crs()' to re-project geometries to a projected CRS before this operation.\n",
      "\n",
      "  gdf[\"area\"] = gdf.geometry.area\n"
     ]
    },
    {
     "name": "stdout",
     "output_type": "stream",
     "text": [
      "ty <class 'geopandas.geodataframe.GeoDataFrame'>\n",
      "ty <class 'geopandas.geodataframe.GeoDataFrame'>\n",
      "ty <class 'geopandas.geodataframe.GeoDataFrame'>\n",
      "ty <class 'geopandas.geodataframe.GeoDataFrame'>\n"
     ]
    },
    {
     "name": "stderr",
     "output_type": "stream",
     "text": [
      "/var/folders/f7/jnv35vy91yn53q0rtcj3pklc0000gn/T/ipykernel_77185/2068339415.py:11: UserWarning: Geometry is in a geographic CRS. Results from 'area' are likely incorrect. Use 'GeoSeries.to_crs()' to re-project geometries to a projected CRS before this operation.\n",
      "\n",
      "  gdf[\"area\"] = gdf.geometry.area\n",
      "/var/folders/f7/jnv35vy91yn53q0rtcj3pklc0000gn/T/ipykernel_77185/2068339415.py:11: UserWarning: Geometry is in a geographic CRS. Results from 'area' are likely incorrect. Use 'GeoSeries.to_crs()' to re-project geometries to a projected CRS before this operation.\n",
      "\n",
      "  gdf[\"area\"] = gdf.geometry.area\n",
      "/var/folders/f7/jnv35vy91yn53q0rtcj3pklc0000gn/T/ipykernel_77185/2068339415.py:11: UserWarning: Geometry is in a geographic CRS. Results from 'area' are likely incorrect. Use 'GeoSeries.to_crs()' to re-project geometries to a projected CRS before this operation.\n",
      "\n",
      "  gdf[\"area\"] = gdf.geometry.area\n",
      "/var/folders/f7/jnv35vy91yn53q0rtcj3pklc0000gn/T/ipykernel_77185/2068339415.py:11: UserWarning: Geometry is in a geographic CRS. Results from 'area' are likely incorrect. Use 'GeoSeries.to_crs()' to re-project geometries to a projected CRS before this operation.\n",
      "\n",
      "  gdf[\"area\"] = gdf.geometry.area\n"
     ]
    },
    {
     "name": "stdout",
     "output_type": "stream",
     "text": [
      "ty <class 'geopandas.geodataframe.GeoDataFrame'>\n",
      "ty <class 'geopandas.geodataframe.GeoDataFrame'>\n",
      "ty <class 'geopandas.geodataframe.GeoDataFrame'>\n",
      "ty <class 'geopandas.geodataframe.GeoDataFrame'>\n"
     ]
    },
    {
     "name": "stderr",
     "output_type": "stream",
     "text": [
      "/var/folders/f7/jnv35vy91yn53q0rtcj3pklc0000gn/T/ipykernel_77185/2068339415.py:11: UserWarning: Geometry is in a geographic CRS. Results from 'area' are likely incorrect. Use 'GeoSeries.to_crs()' to re-project geometries to a projected CRS before this operation.\n",
      "\n",
      "  gdf[\"area\"] = gdf.geometry.area\n",
      "/var/folders/f7/jnv35vy91yn53q0rtcj3pklc0000gn/T/ipykernel_77185/2068339415.py:11: UserWarning: Geometry is in a geographic CRS. Results from 'area' are likely incorrect. Use 'GeoSeries.to_crs()' to re-project geometries to a projected CRS before this operation.\n",
      "\n",
      "  gdf[\"area\"] = gdf.geometry.area\n",
      "/var/folders/f7/jnv35vy91yn53q0rtcj3pklc0000gn/T/ipykernel_77185/2068339415.py:11: UserWarning: Geometry is in a geographic CRS. Results from 'area' are likely incorrect. Use 'GeoSeries.to_crs()' to re-project geometries to a projected CRS before this operation.\n",
      "\n",
      "  gdf[\"area\"] = gdf.geometry.area\n",
      "/var/folders/f7/jnv35vy91yn53q0rtcj3pklc0000gn/T/ipykernel_77185/2068339415.py:11: UserWarning: Geometry is in a geographic CRS. Results from 'area' are likely incorrect. Use 'GeoSeries.to_crs()' to re-project geometries to a projected CRS before this operation.\n",
      "\n",
      "  gdf[\"area\"] = gdf.geometry.area\n"
     ]
    },
    {
     "name": "stdout",
     "output_type": "stream",
     "text": [
      "ty <class 'geopandas.geodataframe.GeoDataFrame'>\n",
      "ty <class 'geopandas.geodataframe.GeoDataFrame'>\n",
      "ty <class 'geopandas.geodataframe.GeoDataFrame'>\n",
      "ty <class 'geopandas.geodataframe.GeoDataFrame'>\n"
     ]
    },
    {
     "name": "stderr",
     "output_type": "stream",
     "text": [
      "/var/folders/f7/jnv35vy91yn53q0rtcj3pklc0000gn/T/ipykernel_77185/2068339415.py:11: UserWarning: Geometry is in a geographic CRS. Results from 'area' are likely incorrect. Use 'GeoSeries.to_crs()' to re-project geometries to a projected CRS before this operation.\n",
      "\n",
      "  gdf[\"area\"] = gdf.geometry.area\n",
      "/var/folders/f7/jnv35vy91yn53q0rtcj3pklc0000gn/T/ipykernel_77185/2068339415.py:11: UserWarning: Geometry is in a geographic CRS. Results from 'area' are likely incorrect. Use 'GeoSeries.to_crs()' to re-project geometries to a projected CRS before this operation.\n",
      "\n",
      "  gdf[\"area\"] = gdf.geometry.area\n",
      "/var/folders/f7/jnv35vy91yn53q0rtcj3pklc0000gn/T/ipykernel_77185/2068339415.py:11: UserWarning: Geometry is in a geographic CRS. Results from 'area' are likely incorrect. Use 'GeoSeries.to_crs()' to re-project geometries to a projected CRS before this operation.\n",
      "\n",
      "  gdf[\"area\"] = gdf.geometry.area\n",
      "/var/folders/f7/jnv35vy91yn53q0rtcj3pklc0000gn/T/ipykernel_77185/2068339415.py:11: UserWarning: Geometry is in a geographic CRS. Results from 'area' are likely incorrect. Use 'GeoSeries.to_crs()' to re-project geometries to a projected CRS before this operation.\n",
      "\n",
      "  gdf[\"area\"] = gdf.geometry.area\n"
     ]
    },
    {
     "name": "stdout",
     "output_type": "stream",
     "text": [
      "ty <class 'geopandas.geodataframe.GeoDataFrame'>\n",
      "ty <class 'geopandas.geodataframe.GeoDataFrame'>\n",
      "ty <class 'geopandas.geodataframe.GeoDataFrame'>\n",
      "ty <class 'geopandas.geodataframe.GeoDataFrame'>\n"
     ]
    },
    {
     "name": "stderr",
     "output_type": "stream",
     "text": [
      "/var/folders/f7/jnv35vy91yn53q0rtcj3pklc0000gn/T/ipykernel_77185/2068339415.py:11: UserWarning: Geometry is in a geographic CRS. Results from 'area' are likely incorrect. Use 'GeoSeries.to_crs()' to re-project geometries to a projected CRS before this operation.\n",
      "\n",
      "  gdf[\"area\"] = gdf.geometry.area\n",
      "/var/folders/f7/jnv35vy91yn53q0rtcj3pklc0000gn/T/ipykernel_77185/2068339415.py:11: UserWarning: Geometry is in a geographic CRS. Results from 'area' are likely incorrect. Use 'GeoSeries.to_crs()' to re-project geometries to a projected CRS before this operation.\n",
      "\n",
      "  gdf[\"area\"] = gdf.geometry.area\n",
      "/var/folders/f7/jnv35vy91yn53q0rtcj3pklc0000gn/T/ipykernel_77185/2068339415.py:11: UserWarning: Geometry is in a geographic CRS. Results from 'area' are likely incorrect. Use 'GeoSeries.to_crs()' to re-project geometries to a projected CRS before this operation.\n",
      "\n",
      "  gdf[\"area\"] = gdf.geometry.area\n",
      "/var/folders/f7/jnv35vy91yn53q0rtcj3pklc0000gn/T/ipykernel_77185/2068339415.py:11: UserWarning: Geometry is in a geographic CRS. Results from 'area' are likely incorrect. Use 'GeoSeries.to_crs()' to re-project geometries to a projected CRS before this operation.\n",
      "\n",
      "  gdf[\"area\"] = gdf.geometry.area\n"
     ]
    },
    {
     "name": "stdout",
     "output_type": "stream",
     "text": [
      "ty <class 'geopandas.geodataframe.GeoDataFrame'>\n",
      "ty <class 'geopandas.geodataframe.GeoDataFrame'>\n",
      "ty <class 'geopandas.geodataframe.GeoDataFrame'>\n"
     ]
    },
    {
     "name": "stderr",
     "output_type": "stream",
     "text": [
      "/var/folders/f7/jnv35vy91yn53q0rtcj3pklc0000gn/T/ipykernel_77185/2068339415.py:11: UserWarning: Geometry is in a geographic CRS. Results from 'area' are likely incorrect. Use 'GeoSeries.to_crs()' to re-project geometries to a projected CRS before this operation.\n",
      "\n",
      "  gdf[\"area\"] = gdf.geometry.area\n",
      "/var/folders/f7/jnv35vy91yn53q0rtcj3pklc0000gn/T/ipykernel_77185/2068339415.py:11: UserWarning: Geometry is in a geographic CRS. Results from 'area' are likely incorrect. Use 'GeoSeries.to_crs()' to re-project geometries to a projected CRS before this operation.\n",
      "\n",
      "  gdf[\"area\"] = gdf.geometry.area\n",
      "/var/folders/f7/jnv35vy91yn53q0rtcj3pklc0000gn/T/ipykernel_77185/2068339415.py:11: UserWarning: Geometry is in a geographic CRS. Results from 'area' are likely incorrect. Use 'GeoSeries.to_crs()' to re-project geometries to a projected CRS before this operation.\n",
      "\n",
      "  gdf[\"area\"] = gdf.geometry.area\n"
     ]
    },
    {
     "name": "stdout",
     "output_type": "stream",
     "text": [
      "ty <class 'geopandas.geodataframe.GeoDataFrame'>\n",
      "ty <class 'geopandas.geodataframe.GeoDataFrame'>\n",
      "ty <class 'geopandas.geodataframe.GeoDataFrame'>\n",
      "ty <class 'geopandas.geodataframe.GeoDataFrame'>\n"
     ]
    },
    {
     "name": "stderr",
     "output_type": "stream",
     "text": [
      "/var/folders/f7/jnv35vy91yn53q0rtcj3pklc0000gn/T/ipykernel_77185/2068339415.py:11: UserWarning: Geometry is in a geographic CRS. Results from 'area' are likely incorrect. Use 'GeoSeries.to_crs()' to re-project geometries to a projected CRS before this operation.\n",
      "\n",
      "  gdf[\"area\"] = gdf.geometry.area\n",
      "/var/folders/f7/jnv35vy91yn53q0rtcj3pklc0000gn/T/ipykernel_77185/2068339415.py:11: UserWarning: Geometry is in a geographic CRS. Results from 'area' are likely incorrect. Use 'GeoSeries.to_crs()' to re-project geometries to a projected CRS before this operation.\n",
      "\n",
      "  gdf[\"area\"] = gdf.geometry.area\n",
      "/var/folders/f7/jnv35vy91yn53q0rtcj3pklc0000gn/T/ipykernel_77185/2068339415.py:11: UserWarning: Geometry is in a geographic CRS. Results from 'area' are likely incorrect. Use 'GeoSeries.to_crs()' to re-project geometries to a projected CRS before this operation.\n",
      "\n",
      "  gdf[\"area\"] = gdf.geometry.area\n",
      "/var/folders/f7/jnv35vy91yn53q0rtcj3pklc0000gn/T/ipykernel_77185/2068339415.py:11: UserWarning: Geometry is in a geographic CRS. Results from 'area' are likely incorrect. Use 'GeoSeries.to_crs()' to re-project geometries to a projected CRS before this operation.\n",
      "\n",
      "  gdf[\"area\"] = gdf.geometry.area\n"
     ]
    },
    {
     "name": "stdout",
     "output_type": "stream",
     "text": [
      "ty <class 'geopandas.geodataframe.GeoDataFrame'>\n",
      "ty <class 'geopandas.geodataframe.GeoDataFrame'>\n",
      "ty <class 'geopandas.geodataframe.GeoDataFrame'>\n",
      "ty <class 'geopandas.geodataframe.GeoDataFrame'>\n"
     ]
    },
    {
     "name": "stderr",
     "output_type": "stream",
     "text": [
      "/var/folders/f7/jnv35vy91yn53q0rtcj3pklc0000gn/T/ipykernel_77185/2068339415.py:11: UserWarning: Geometry is in a geographic CRS. Results from 'area' are likely incorrect. Use 'GeoSeries.to_crs()' to re-project geometries to a projected CRS before this operation.\n",
      "\n",
      "  gdf[\"area\"] = gdf.geometry.area\n",
      "/var/folders/f7/jnv35vy91yn53q0rtcj3pklc0000gn/T/ipykernel_77185/2068339415.py:11: UserWarning: Geometry is in a geographic CRS. Results from 'area' are likely incorrect. Use 'GeoSeries.to_crs()' to re-project geometries to a projected CRS before this operation.\n",
      "\n",
      "  gdf[\"area\"] = gdf.geometry.area\n",
      "/var/folders/f7/jnv35vy91yn53q0rtcj3pklc0000gn/T/ipykernel_77185/2068339415.py:11: UserWarning: Geometry is in a geographic CRS. Results from 'area' are likely incorrect. Use 'GeoSeries.to_crs()' to re-project geometries to a projected CRS before this operation.\n",
      "\n",
      "  gdf[\"area\"] = gdf.geometry.area\n",
      "/var/folders/f7/jnv35vy91yn53q0rtcj3pklc0000gn/T/ipykernel_77185/2068339415.py:11: UserWarning: Geometry is in a geographic CRS. Results from 'area' are likely incorrect. Use 'GeoSeries.to_crs()' to re-project geometries to a projected CRS before this operation.\n",
      "\n",
      "  gdf[\"area\"] = gdf.geometry.area\n"
     ]
    },
    {
     "name": "stdout",
     "output_type": "stream",
     "text": [
      "ty <class 'geopandas.geodataframe.GeoDataFrame'>\n",
      "ty <class 'geopandas.geodataframe.GeoDataFrame'>\n",
      "ty <class 'geopandas.geodataframe.GeoDataFrame'>\n",
      "ty <class 'geopandas.geodataframe.GeoDataFrame'>\n"
     ]
    },
    {
     "name": "stderr",
     "output_type": "stream",
     "text": [
      "/var/folders/f7/jnv35vy91yn53q0rtcj3pklc0000gn/T/ipykernel_77185/2068339415.py:11: UserWarning: Geometry is in a geographic CRS. Results from 'area' are likely incorrect. Use 'GeoSeries.to_crs()' to re-project geometries to a projected CRS before this operation.\n",
      "\n",
      "  gdf[\"area\"] = gdf.geometry.area\n",
      "/var/folders/f7/jnv35vy91yn53q0rtcj3pklc0000gn/T/ipykernel_77185/2068339415.py:11: UserWarning: Geometry is in a geographic CRS. Results from 'area' are likely incorrect. Use 'GeoSeries.to_crs()' to re-project geometries to a projected CRS before this operation.\n",
      "\n",
      "  gdf[\"area\"] = gdf.geometry.area\n",
      "/var/folders/f7/jnv35vy91yn53q0rtcj3pklc0000gn/T/ipykernel_77185/2068339415.py:11: UserWarning: Geometry is in a geographic CRS. Results from 'area' are likely incorrect. Use 'GeoSeries.to_crs()' to re-project geometries to a projected CRS before this operation.\n",
      "\n",
      "  gdf[\"area\"] = gdf.geometry.area\n",
      "/var/folders/f7/jnv35vy91yn53q0rtcj3pklc0000gn/T/ipykernel_77185/2068339415.py:11: UserWarning: Geometry is in a geographic CRS. Results from 'area' are likely incorrect. Use 'GeoSeries.to_crs()' to re-project geometries to a projected CRS before this operation.\n",
      "\n",
      "  gdf[\"area\"] = gdf.geometry.area\n"
     ]
    },
    {
     "name": "stdout",
     "output_type": "stream",
     "text": [
      "ty <class 'geopandas.geodataframe.GeoDataFrame'>\n",
      "ty <class 'geopandas.geodataframe.GeoDataFrame'>\n",
      "ty <class 'geopandas.geodataframe.GeoDataFrame'>\n",
      "ty <class 'geopandas.geodataframe.GeoDataFrame'>\n"
     ]
    },
    {
     "name": "stderr",
     "output_type": "stream",
     "text": [
      "/var/folders/f7/jnv35vy91yn53q0rtcj3pklc0000gn/T/ipykernel_77185/2068339415.py:11: UserWarning: Geometry is in a geographic CRS. Results from 'area' are likely incorrect. Use 'GeoSeries.to_crs()' to re-project geometries to a projected CRS before this operation.\n",
      "\n",
      "  gdf[\"area\"] = gdf.geometry.area\n",
      "/var/folders/f7/jnv35vy91yn53q0rtcj3pklc0000gn/T/ipykernel_77185/2068339415.py:11: UserWarning: Geometry is in a geographic CRS. Results from 'area' are likely incorrect. Use 'GeoSeries.to_crs()' to re-project geometries to a projected CRS before this operation.\n",
      "\n",
      "  gdf[\"area\"] = gdf.geometry.area\n",
      "/var/folders/f7/jnv35vy91yn53q0rtcj3pklc0000gn/T/ipykernel_77185/2068339415.py:11: UserWarning: Geometry is in a geographic CRS. Results from 'area' are likely incorrect. Use 'GeoSeries.to_crs()' to re-project geometries to a projected CRS before this operation.\n",
      "\n",
      "  gdf[\"area\"] = gdf.geometry.area\n",
      "/var/folders/f7/jnv35vy91yn53q0rtcj3pklc0000gn/T/ipykernel_77185/2068339415.py:11: UserWarning: Geometry is in a geographic CRS. Results from 'area' are likely incorrect. Use 'GeoSeries.to_crs()' to re-project geometries to a projected CRS before this operation.\n",
      "\n",
      "  gdf[\"area\"] = gdf.geometry.area\n"
     ]
    },
    {
     "name": "stdout",
     "output_type": "stream",
     "text": [
      "ty <class 'geopandas.geodataframe.GeoDataFrame'>\n",
      "ty <class 'geopandas.geodataframe.GeoDataFrame'>\n",
      "ty <class 'geopandas.geodataframe.GeoDataFrame'>\n"
     ]
    },
    {
     "name": "stderr",
     "output_type": "stream",
     "text": [
      "/var/folders/f7/jnv35vy91yn53q0rtcj3pklc0000gn/T/ipykernel_77185/2068339415.py:11: UserWarning: Geometry is in a geographic CRS. Results from 'area' are likely incorrect. Use 'GeoSeries.to_crs()' to re-project geometries to a projected CRS before this operation.\n",
      "\n",
      "  gdf[\"area\"] = gdf.geometry.area\n",
      "/var/folders/f7/jnv35vy91yn53q0rtcj3pklc0000gn/T/ipykernel_77185/2068339415.py:11: UserWarning: Geometry is in a geographic CRS. Results from 'area' are likely incorrect. Use 'GeoSeries.to_crs()' to re-project geometries to a projected CRS before this operation.\n",
      "\n",
      "  gdf[\"area\"] = gdf.geometry.area\n",
      "/var/folders/f7/jnv35vy91yn53q0rtcj3pklc0000gn/T/ipykernel_77185/2068339415.py:11: UserWarning: Geometry is in a geographic CRS. Results from 'area' are likely incorrect. Use 'GeoSeries.to_crs()' to re-project geometries to a projected CRS before this operation.\n",
      "\n",
      "  gdf[\"area\"] = gdf.geometry.area\n"
     ]
    },
    {
     "name": "stdout",
     "output_type": "stream",
     "text": [
      "ty <class 'geopandas.geodataframe.GeoDataFrame'>\n",
      "ty <class 'geopandas.geodataframe.GeoDataFrame'>\n",
      "ty <class 'geopandas.geodataframe.GeoDataFrame'>\n"
     ]
    },
    {
     "name": "stderr",
     "output_type": "stream",
     "text": [
      "/var/folders/f7/jnv35vy91yn53q0rtcj3pklc0000gn/T/ipykernel_77185/2068339415.py:11: UserWarning: Geometry is in a geographic CRS. Results from 'area' are likely incorrect. Use 'GeoSeries.to_crs()' to re-project geometries to a projected CRS before this operation.\n",
      "\n",
      "  gdf[\"area\"] = gdf.geometry.area\n",
      "/var/folders/f7/jnv35vy91yn53q0rtcj3pklc0000gn/T/ipykernel_77185/2068339415.py:11: UserWarning: Geometry is in a geographic CRS. Results from 'area' are likely incorrect. Use 'GeoSeries.to_crs()' to re-project geometries to a projected CRS before this operation.\n",
      "\n",
      "  gdf[\"area\"] = gdf.geometry.area\n",
      "/var/folders/f7/jnv35vy91yn53q0rtcj3pklc0000gn/T/ipykernel_77185/2068339415.py:11: UserWarning: Geometry is in a geographic CRS. Results from 'area' are likely incorrect. Use 'GeoSeries.to_crs()' to re-project geometries to a projected CRS before this operation.\n",
      "\n",
      "  gdf[\"area\"] = gdf.geometry.area\n",
      "/var/folders/f7/jnv35vy91yn53q0rtcj3pklc0000gn/T/ipykernel_77185/2068339415.py:11: UserWarning: Geometry is in a geographic CRS. Results from 'area' are likely incorrect. Use 'GeoSeries.to_crs()' to re-project geometries to a projected CRS before this operation.\n",
      "\n",
      "  gdf[\"area\"] = gdf.geometry.area\n"
     ]
    },
    {
     "name": "stdout",
     "output_type": "stream",
     "text": [
      "ty <class 'geopandas.geodataframe.GeoDataFrame'>\n",
      "ty <class 'geopandas.geodataframe.GeoDataFrame'>\n",
      "ty <class 'geopandas.geodataframe.GeoDataFrame'>\n"
     ]
    },
    {
     "name": "stderr",
     "output_type": "stream",
     "text": [
      "/var/folders/f7/jnv35vy91yn53q0rtcj3pklc0000gn/T/ipykernel_77185/2068339415.py:11: UserWarning: Geometry is in a geographic CRS. Results from 'area' are likely incorrect. Use 'GeoSeries.to_crs()' to re-project geometries to a projected CRS before this operation.\n",
      "\n",
      "  gdf[\"area\"] = gdf.geometry.area\n",
      "/var/folders/f7/jnv35vy91yn53q0rtcj3pklc0000gn/T/ipykernel_77185/2068339415.py:11: UserWarning: Geometry is in a geographic CRS. Results from 'area' are likely incorrect. Use 'GeoSeries.to_crs()' to re-project geometries to a projected CRS before this operation.\n",
      "\n",
      "  gdf[\"area\"] = gdf.geometry.area\n",
      "/var/folders/f7/jnv35vy91yn53q0rtcj3pklc0000gn/T/ipykernel_77185/2068339415.py:11: UserWarning: Geometry is in a geographic CRS. Results from 'area' are likely incorrect. Use 'GeoSeries.to_crs()' to re-project geometries to a projected CRS before this operation.\n",
      "\n",
      "  gdf[\"area\"] = gdf.geometry.area\n"
     ]
    },
    {
     "name": "stdout",
     "output_type": "stream",
     "text": [
      "ty <class 'geopandas.geodataframe.GeoDataFrame'>\n",
      "ty <class 'geopandas.geodataframe.GeoDataFrame'>\n"
     ]
    },
    {
     "name": "stderr",
     "output_type": "stream",
     "text": [
      "/var/folders/f7/jnv35vy91yn53q0rtcj3pklc0000gn/T/ipykernel_77185/2068339415.py:11: UserWarning: Geometry is in a geographic CRS. Results from 'area' are likely incorrect. Use 'GeoSeries.to_crs()' to re-project geometries to a projected CRS before this operation.\n",
      "\n",
      "  gdf[\"area\"] = gdf.geometry.area\n",
      "/var/folders/f7/jnv35vy91yn53q0rtcj3pklc0000gn/T/ipykernel_77185/2068339415.py:11: UserWarning: Geometry is in a geographic CRS. Results from 'area' are likely incorrect. Use 'GeoSeries.to_crs()' to re-project geometries to a projected CRS before this operation.\n",
      "\n",
      "  gdf[\"area\"] = gdf.geometry.area\n"
     ]
    },
    {
     "name": "stdout",
     "output_type": "stream",
     "text": [
      "ty <class 'geopandas.geodataframe.GeoDataFrame'>\n",
      "ty <class 'geopandas.geodataframe.GeoDataFrame'>\n"
     ]
    },
    {
     "name": "stderr",
     "output_type": "stream",
     "text": [
      "/var/folders/f7/jnv35vy91yn53q0rtcj3pklc0000gn/T/ipykernel_77185/2068339415.py:11: UserWarning: Geometry is in a geographic CRS. Results from 'area' are likely incorrect. Use 'GeoSeries.to_crs()' to re-project geometries to a projected CRS before this operation.\n",
      "\n",
      "  gdf[\"area\"] = gdf.geometry.area\n",
      "/var/folders/f7/jnv35vy91yn53q0rtcj3pklc0000gn/T/ipykernel_77185/2068339415.py:11: UserWarning: Geometry is in a geographic CRS. Results from 'area' are likely incorrect. Use 'GeoSeries.to_crs()' to re-project geometries to a projected CRS before this operation.\n",
      "\n",
      "  gdf[\"area\"] = gdf.geometry.area\n"
     ]
    },
    {
     "name": "stdout",
     "output_type": "stream",
     "text": [
      "ty <class 'geopandas.geodataframe.GeoDataFrame'>\n",
      "ty <class 'geopandas.geodataframe.GeoDataFrame'>\n",
      "ty <class 'geopandas.geodataframe.GeoDataFrame'>\n",
      "ty <class 'geopandas.geodataframe.GeoDataFrame'>\n"
     ]
    },
    {
     "name": "stderr",
     "output_type": "stream",
     "text": [
      "/var/folders/f7/jnv35vy91yn53q0rtcj3pklc0000gn/T/ipykernel_77185/2068339415.py:11: UserWarning: Geometry is in a geographic CRS. Results from 'area' are likely incorrect. Use 'GeoSeries.to_crs()' to re-project geometries to a projected CRS before this operation.\n",
      "\n",
      "  gdf[\"area\"] = gdf.geometry.area\n",
      "/var/folders/f7/jnv35vy91yn53q0rtcj3pklc0000gn/T/ipykernel_77185/2068339415.py:11: UserWarning: Geometry is in a geographic CRS. Results from 'area' are likely incorrect. Use 'GeoSeries.to_crs()' to re-project geometries to a projected CRS before this operation.\n",
      "\n",
      "  gdf[\"area\"] = gdf.geometry.area\n",
      "/var/folders/f7/jnv35vy91yn53q0rtcj3pklc0000gn/T/ipykernel_77185/2068339415.py:11: UserWarning: Geometry is in a geographic CRS. Results from 'area' are likely incorrect. Use 'GeoSeries.to_crs()' to re-project geometries to a projected CRS before this operation.\n",
      "\n",
      "  gdf[\"area\"] = gdf.geometry.area\n",
      "/var/folders/f7/jnv35vy91yn53q0rtcj3pklc0000gn/T/ipykernel_77185/2068339415.py:11: UserWarning: Geometry is in a geographic CRS. Results from 'area' are likely incorrect. Use 'GeoSeries.to_crs()' to re-project geometries to a projected CRS before this operation.\n",
      "\n",
      "  gdf[\"area\"] = gdf.geometry.area\n"
     ]
    },
    {
     "name": "stdout",
     "output_type": "stream",
     "text": [
      "ty <class 'geopandas.geodataframe.GeoDataFrame'>\n",
      "ty <class 'geopandas.geodataframe.GeoDataFrame'>\n",
      "ty <class 'geopandas.geodataframe.GeoDataFrame'>\n"
     ]
    },
    {
     "name": "stderr",
     "output_type": "stream",
     "text": [
      "/var/folders/f7/jnv35vy91yn53q0rtcj3pklc0000gn/T/ipykernel_77185/2068339415.py:11: UserWarning: Geometry is in a geographic CRS. Results from 'area' are likely incorrect. Use 'GeoSeries.to_crs()' to re-project geometries to a projected CRS before this operation.\n",
      "\n",
      "  gdf[\"area\"] = gdf.geometry.area\n",
      "/var/folders/f7/jnv35vy91yn53q0rtcj3pklc0000gn/T/ipykernel_77185/2068339415.py:11: UserWarning: Geometry is in a geographic CRS. Results from 'area' are likely incorrect. Use 'GeoSeries.to_crs()' to re-project geometries to a projected CRS before this operation.\n",
      "\n",
      "  gdf[\"area\"] = gdf.geometry.area\n",
      "/var/folders/f7/jnv35vy91yn53q0rtcj3pklc0000gn/T/ipykernel_77185/2068339415.py:11: UserWarning: Geometry is in a geographic CRS. Results from 'area' are likely incorrect. Use 'GeoSeries.to_crs()' to re-project geometries to a projected CRS before this operation.\n",
      "\n",
      "  gdf[\"area\"] = gdf.geometry.area\n"
     ]
    },
    {
     "name": "stdout",
     "output_type": "stream",
     "text": [
      "ty <class 'geopandas.geodataframe.GeoDataFrame'>\n",
      "ty <class 'geopandas.geodataframe.GeoDataFrame'>\n",
      "ty <class 'geopandas.geodataframe.GeoDataFrame'>\n",
      "ty <class 'geopandas.geodataframe.GeoDataFrame'>\n"
     ]
    },
    {
     "name": "stderr",
     "output_type": "stream",
     "text": [
      "/var/folders/f7/jnv35vy91yn53q0rtcj3pklc0000gn/T/ipykernel_77185/2068339415.py:11: UserWarning: Geometry is in a geographic CRS. Results from 'area' are likely incorrect. Use 'GeoSeries.to_crs()' to re-project geometries to a projected CRS before this operation.\n",
      "\n",
      "  gdf[\"area\"] = gdf.geometry.area\n",
      "/var/folders/f7/jnv35vy91yn53q0rtcj3pklc0000gn/T/ipykernel_77185/2068339415.py:11: UserWarning: Geometry is in a geographic CRS. Results from 'area' are likely incorrect. Use 'GeoSeries.to_crs()' to re-project geometries to a projected CRS before this operation.\n",
      "\n",
      "  gdf[\"area\"] = gdf.geometry.area\n",
      "/var/folders/f7/jnv35vy91yn53q0rtcj3pklc0000gn/T/ipykernel_77185/2068339415.py:11: UserWarning: Geometry is in a geographic CRS. Results from 'area' are likely incorrect. Use 'GeoSeries.to_crs()' to re-project geometries to a projected CRS before this operation.\n",
      "\n",
      "  gdf[\"area\"] = gdf.geometry.area\n"
     ]
    },
    {
     "name": "stdout",
     "output_type": "stream",
     "text": [
      "ty <class 'geopandas.geodataframe.GeoDataFrame'>\n",
      "ty <class 'geopandas.geodataframe.GeoDataFrame'>\n",
      "ty <class 'geopandas.geodataframe.GeoDataFrame'>\n"
     ]
    },
    {
     "name": "stderr",
     "output_type": "stream",
     "text": [
      "/var/folders/f7/jnv35vy91yn53q0rtcj3pklc0000gn/T/ipykernel_77185/2068339415.py:11: UserWarning: Geometry is in a geographic CRS. Results from 'area' are likely incorrect. Use 'GeoSeries.to_crs()' to re-project geometries to a projected CRS before this operation.\n",
      "\n",
      "  gdf[\"area\"] = gdf.geometry.area\n",
      "/var/folders/f7/jnv35vy91yn53q0rtcj3pklc0000gn/T/ipykernel_77185/2068339415.py:11: UserWarning: Geometry is in a geographic CRS. Results from 'area' are likely incorrect. Use 'GeoSeries.to_crs()' to re-project geometries to a projected CRS before this operation.\n",
      "\n",
      "  gdf[\"area\"] = gdf.geometry.area\n",
      "/var/folders/f7/jnv35vy91yn53q0rtcj3pklc0000gn/T/ipykernel_77185/2068339415.py:11: UserWarning: Geometry is in a geographic CRS. Results from 'area' are likely incorrect. Use 'GeoSeries.to_crs()' to re-project geometries to a projected CRS before this operation.\n",
      "\n",
      "  gdf[\"area\"] = gdf.geometry.area\n",
      "/var/folders/f7/jnv35vy91yn53q0rtcj3pklc0000gn/T/ipykernel_77185/2068339415.py:11: UserWarning: Geometry is in a geographic CRS. Results from 'area' are likely incorrect. Use 'GeoSeries.to_crs()' to re-project geometries to a projected CRS before this operation.\n",
      "\n",
      "  gdf[\"area\"] = gdf.geometry.area\n"
     ]
    },
    {
     "name": "stdout",
     "output_type": "stream",
     "text": [
      "ty <class 'geopandas.geodataframe.GeoDataFrame'>\n",
      "ty <class 'geopandas.geodataframe.GeoDataFrame'>\n",
      "ty <class 'geopandas.geodataframe.GeoDataFrame'>\n",
      "ty <class 'geopandas.geodataframe.GeoDataFrame'>\n"
     ]
    },
    {
     "name": "stderr",
     "output_type": "stream",
     "text": [
      "/var/folders/f7/jnv35vy91yn53q0rtcj3pklc0000gn/T/ipykernel_77185/2068339415.py:11: UserWarning: Geometry is in a geographic CRS. Results from 'area' are likely incorrect. Use 'GeoSeries.to_crs()' to re-project geometries to a projected CRS before this operation.\n",
      "\n",
      "  gdf[\"area\"] = gdf.geometry.area\n",
      "/var/folders/f7/jnv35vy91yn53q0rtcj3pklc0000gn/T/ipykernel_77185/2068339415.py:11: UserWarning: Geometry is in a geographic CRS. Results from 'area' are likely incorrect. Use 'GeoSeries.to_crs()' to re-project geometries to a projected CRS before this operation.\n",
      "\n",
      "  gdf[\"area\"] = gdf.geometry.area\n",
      "/var/folders/f7/jnv35vy91yn53q0rtcj3pklc0000gn/T/ipykernel_77185/2068339415.py:11: UserWarning: Geometry is in a geographic CRS. Results from 'area' are likely incorrect. Use 'GeoSeries.to_crs()' to re-project geometries to a projected CRS before this operation.\n",
      "\n",
      "  gdf[\"area\"] = gdf.geometry.area\n",
      "/var/folders/f7/jnv35vy91yn53q0rtcj3pklc0000gn/T/ipykernel_77185/2068339415.py:11: UserWarning: Geometry is in a geographic CRS. Results from 'area' are likely incorrect. Use 'GeoSeries.to_crs()' to re-project geometries to a projected CRS before this operation.\n",
      "\n",
      "  gdf[\"area\"] = gdf.geometry.area\n"
     ]
    },
    {
     "name": "stdout",
     "output_type": "stream",
     "text": [
      "ty <class 'geopandas.geodataframe.GeoDataFrame'>\n",
      "ty <class 'geopandas.geodataframe.GeoDataFrame'>\n",
      "ty <class 'geopandas.geodataframe.GeoDataFrame'>\n"
     ]
    },
    {
     "name": "stderr",
     "output_type": "stream",
     "text": [
      "/var/folders/f7/jnv35vy91yn53q0rtcj3pklc0000gn/T/ipykernel_77185/2068339415.py:11: UserWarning: Geometry is in a geographic CRS. Results from 'area' are likely incorrect. Use 'GeoSeries.to_crs()' to re-project geometries to a projected CRS before this operation.\n",
      "\n",
      "  gdf[\"area\"] = gdf.geometry.area\n",
      "/var/folders/f7/jnv35vy91yn53q0rtcj3pklc0000gn/T/ipykernel_77185/2068339415.py:11: UserWarning: Geometry is in a geographic CRS. Results from 'area' are likely incorrect. Use 'GeoSeries.to_crs()' to re-project geometries to a projected CRS before this operation.\n",
      "\n",
      "  gdf[\"area\"] = gdf.geometry.area\n",
      "/var/folders/f7/jnv35vy91yn53q0rtcj3pklc0000gn/T/ipykernel_77185/2068339415.py:11: UserWarning: Geometry is in a geographic CRS. Results from 'area' are likely incorrect. Use 'GeoSeries.to_crs()' to re-project geometries to a projected CRS before this operation.\n",
      "\n",
      "  gdf[\"area\"] = gdf.geometry.area\n",
      "/var/folders/f7/jnv35vy91yn53q0rtcj3pklc0000gn/T/ipykernel_77185/2068339415.py:11: UserWarning: Geometry is in a geographic CRS. Results from 'area' are likely incorrect. Use 'GeoSeries.to_crs()' to re-project geometries to a projected CRS before this operation.\n",
      "\n",
      "  gdf[\"area\"] = gdf.geometry.area\n"
     ]
    },
    {
     "name": "stdout",
     "output_type": "stream",
     "text": [
      "ty <class 'geopandas.geodataframe.GeoDataFrame'>\n",
      "ty <class 'geopandas.geodataframe.GeoDataFrame'>\n",
      "ty <class 'geopandas.geodataframe.GeoDataFrame'>\n",
      "ty <class 'geopandas.geodataframe.GeoDataFrame'>\n"
     ]
    },
    {
     "name": "stderr",
     "output_type": "stream",
     "text": [
      "/var/folders/f7/jnv35vy91yn53q0rtcj3pklc0000gn/T/ipykernel_77185/2068339415.py:11: UserWarning: Geometry is in a geographic CRS. Results from 'area' are likely incorrect. Use 'GeoSeries.to_crs()' to re-project geometries to a projected CRS before this operation.\n",
      "\n",
      "  gdf[\"area\"] = gdf.geometry.area\n",
      "/var/folders/f7/jnv35vy91yn53q0rtcj3pklc0000gn/T/ipykernel_77185/2068339415.py:11: UserWarning: Geometry is in a geographic CRS. Results from 'area' are likely incorrect. Use 'GeoSeries.to_crs()' to re-project geometries to a projected CRS before this operation.\n",
      "\n",
      "  gdf[\"area\"] = gdf.geometry.area\n",
      "/var/folders/f7/jnv35vy91yn53q0rtcj3pklc0000gn/T/ipykernel_77185/2068339415.py:11: UserWarning: Geometry is in a geographic CRS. Results from 'area' are likely incorrect. Use 'GeoSeries.to_crs()' to re-project geometries to a projected CRS before this operation.\n",
      "\n",
      "  gdf[\"area\"] = gdf.geometry.area\n"
     ]
    },
    {
     "name": "stdout",
     "output_type": "stream",
     "text": [
      "ty <class 'geopandas.geodataframe.GeoDataFrame'>\n",
      "ty <class 'geopandas.geodataframe.GeoDataFrame'>\n",
      "ty <class 'geopandas.geodataframe.GeoDataFrame'>\n"
     ]
    },
    {
     "name": "stderr",
     "output_type": "stream",
     "text": [
      "/var/folders/f7/jnv35vy91yn53q0rtcj3pklc0000gn/T/ipykernel_77185/2068339415.py:11: UserWarning: Geometry is in a geographic CRS. Results from 'area' are likely incorrect. Use 'GeoSeries.to_crs()' to re-project geometries to a projected CRS before this operation.\n",
      "\n",
      "  gdf[\"area\"] = gdf.geometry.area\n",
      "/var/folders/f7/jnv35vy91yn53q0rtcj3pklc0000gn/T/ipykernel_77185/2068339415.py:11: UserWarning: Geometry is in a geographic CRS. Results from 'area' are likely incorrect. Use 'GeoSeries.to_crs()' to re-project geometries to a projected CRS before this operation.\n",
      "\n",
      "  gdf[\"area\"] = gdf.geometry.area\n",
      "/var/folders/f7/jnv35vy91yn53q0rtcj3pklc0000gn/T/ipykernel_77185/2068339415.py:11: UserWarning: Geometry is in a geographic CRS. Results from 'area' are likely incorrect. Use 'GeoSeries.to_crs()' to re-project geometries to a projected CRS before this operation.\n",
      "\n",
      "  gdf[\"area\"] = gdf.geometry.area\n"
     ]
    },
    {
     "name": "stdout",
     "output_type": "stream",
     "text": [
      "ty <class 'geopandas.geodataframe.GeoDataFrame'>\n",
      "ty <class 'geopandas.geodataframe.GeoDataFrame'>\n",
      "ty <class 'geopandas.geodataframe.GeoDataFrame'>\n",
      "ty <class 'geopandas.geodataframe.GeoDataFrame'>\n"
     ]
    },
    {
     "name": "stderr",
     "output_type": "stream",
     "text": [
      "/var/folders/f7/jnv35vy91yn53q0rtcj3pklc0000gn/T/ipykernel_77185/2068339415.py:11: UserWarning: Geometry is in a geographic CRS. Results from 'area' are likely incorrect. Use 'GeoSeries.to_crs()' to re-project geometries to a projected CRS before this operation.\n",
      "\n",
      "  gdf[\"area\"] = gdf.geometry.area\n",
      "/var/folders/f7/jnv35vy91yn53q0rtcj3pklc0000gn/T/ipykernel_77185/2068339415.py:11: UserWarning: Geometry is in a geographic CRS. Results from 'area' are likely incorrect. Use 'GeoSeries.to_crs()' to re-project geometries to a projected CRS before this operation.\n",
      "\n",
      "  gdf[\"area\"] = gdf.geometry.area\n",
      "/var/folders/f7/jnv35vy91yn53q0rtcj3pklc0000gn/T/ipykernel_77185/2068339415.py:11: UserWarning: Geometry is in a geographic CRS. Results from 'area' are likely incorrect. Use 'GeoSeries.to_crs()' to re-project geometries to a projected CRS before this operation.\n",
      "\n",
      "  gdf[\"area\"] = gdf.geometry.area\n",
      "/var/folders/f7/jnv35vy91yn53q0rtcj3pklc0000gn/T/ipykernel_77185/2068339415.py:11: UserWarning: Geometry is in a geographic CRS. Results from 'area' are likely incorrect. Use 'GeoSeries.to_crs()' to re-project geometries to a projected CRS before this operation.\n",
      "\n",
      "  gdf[\"area\"] = gdf.geometry.area\n",
      "/var/folders/f7/jnv35vy91yn53q0rtcj3pklc0000gn/T/ipykernel_77185/2068339415.py:11: UserWarning: Geometry is in a geographic CRS. Results from 'area' are likely incorrect. Use 'GeoSeries.to_crs()' to re-project geometries to a projected CRS before this operation.\n",
      "\n",
      "  gdf[\"area\"] = gdf.geometry.area\n"
     ]
    },
    {
     "name": "stdout",
     "output_type": "stream",
     "text": [
      "ty <class 'geopandas.geodataframe.GeoDataFrame'>\n",
      "ty <class 'geopandas.geodataframe.GeoDataFrame'>\n",
      "ty <class 'geopandas.geodataframe.GeoDataFrame'>\n",
      "ty <class 'geopandas.geodataframe.GeoDataFrame'>\n"
     ]
    },
    {
     "name": "stderr",
     "output_type": "stream",
     "text": [
      "/var/folders/f7/jnv35vy91yn53q0rtcj3pklc0000gn/T/ipykernel_77185/2068339415.py:11: UserWarning: Geometry is in a geographic CRS. Results from 'area' are likely incorrect. Use 'GeoSeries.to_crs()' to re-project geometries to a projected CRS before this operation.\n",
      "\n",
      "  gdf[\"area\"] = gdf.geometry.area\n",
      "/var/folders/f7/jnv35vy91yn53q0rtcj3pklc0000gn/T/ipykernel_77185/2068339415.py:11: UserWarning: Geometry is in a geographic CRS. Results from 'area' are likely incorrect. Use 'GeoSeries.to_crs()' to re-project geometries to a projected CRS before this operation.\n",
      "\n",
      "  gdf[\"area\"] = gdf.geometry.area\n",
      "/var/folders/f7/jnv35vy91yn53q0rtcj3pklc0000gn/T/ipykernel_77185/2068339415.py:11: UserWarning: Geometry is in a geographic CRS. Results from 'area' are likely incorrect. Use 'GeoSeries.to_crs()' to re-project geometries to a projected CRS before this operation.\n",
      "\n",
      "  gdf[\"area\"] = gdf.geometry.area\n",
      "/var/folders/f7/jnv35vy91yn53q0rtcj3pklc0000gn/T/ipykernel_77185/2068339415.py:11: UserWarning: Geometry is in a geographic CRS. Results from 'area' are likely incorrect. Use 'GeoSeries.to_crs()' to re-project geometries to a projected CRS before this operation.\n",
      "\n",
      "  gdf[\"area\"] = gdf.geometry.area\n"
     ]
    },
    {
     "name": "stdout",
     "output_type": "stream",
     "text": [
      "ty <class 'geopandas.geodataframe.GeoDataFrame'>\n",
      "ty <class 'geopandas.geodataframe.GeoDataFrame'>\n",
      "ty <class 'geopandas.geodataframe.GeoDataFrame'>\n",
      "ty <class 'geopandas.geodataframe.GeoDataFrame'>\n"
     ]
    },
    {
     "name": "stderr",
     "output_type": "stream",
     "text": [
      "/var/folders/f7/jnv35vy91yn53q0rtcj3pklc0000gn/T/ipykernel_77185/2068339415.py:11: UserWarning: Geometry is in a geographic CRS. Results from 'area' are likely incorrect. Use 'GeoSeries.to_crs()' to re-project geometries to a projected CRS before this operation.\n",
      "\n",
      "  gdf[\"area\"] = gdf.geometry.area\n",
      "/var/folders/f7/jnv35vy91yn53q0rtcj3pklc0000gn/T/ipykernel_77185/2068339415.py:11: UserWarning: Geometry is in a geographic CRS. Results from 'area' are likely incorrect. Use 'GeoSeries.to_crs()' to re-project geometries to a projected CRS before this operation.\n",
      "\n",
      "  gdf[\"area\"] = gdf.geometry.area\n",
      "/var/folders/f7/jnv35vy91yn53q0rtcj3pklc0000gn/T/ipykernel_77185/2068339415.py:11: UserWarning: Geometry is in a geographic CRS. Results from 'area' are likely incorrect. Use 'GeoSeries.to_crs()' to re-project geometries to a projected CRS before this operation.\n",
      "\n",
      "  gdf[\"area\"] = gdf.geometry.area\n",
      "/var/folders/f7/jnv35vy91yn53q0rtcj3pklc0000gn/T/ipykernel_77185/2068339415.py:11: UserWarning: Geometry is in a geographic CRS. Results from 'area' are likely incorrect. Use 'GeoSeries.to_crs()' to re-project geometries to a projected CRS before this operation.\n",
      "\n",
      "  gdf[\"area\"] = gdf.geometry.area\n",
      "/var/folders/f7/jnv35vy91yn53q0rtcj3pklc0000gn/T/ipykernel_77185/2068339415.py:11: UserWarning: Geometry is in a geographic CRS. Results from 'area' are likely incorrect. Use 'GeoSeries.to_crs()' to re-project geometries to a projected CRS before this operation.\n",
      "\n",
      "  gdf[\"area\"] = gdf.geometry.area\n"
     ]
    },
    {
     "name": "stdout",
     "output_type": "stream",
     "text": [
      "ty <class 'geopandas.geodataframe.GeoDataFrame'>\n",
      "ty <class 'geopandas.geodataframe.GeoDataFrame'>\n",
      "ty <class 'geopandas.geodataframe.GeoDataFrame'>\n",
      "ty <class 'geopandas.geodataframe.GeoDataFrame'>\n"
     ]
    },
    {
     "name": "stderr",
     "output_type": "stream",
     "text": [
      "/var/folders/f7/jnv35vy91yn53q0rtcj3pklc0000gn/T/ipykernel_77185/2068339415.py:11: UserWarning: Geometry is in a geographic CRS. Results from 'area' are likely incorrect. Use 'GeoSeries.to_crs()' to re-project geometries to a projected CRS before this operation.\n",
      "\n",
      "  gdf[\"area\"] = gdf.geometry.area\n",
      "/var/folders/f7/jnv35vy91yn53q0rtcj3pklc0000gn/T/ipykernel_77185/2068339415.py:11: UserWarning: Geometry is in a geographic CRS. Results from 'area' are likely incorrect. Use 'GeoSeries.to_crs()' to re-project geometries to a projected CRS before this operation.\n",
      "\n",
      "  gdf[\"area\"] = gdf.geometry.area\n",
      "/var/folders/f7/jnv35vy91yn53q0rtcj3pklc0000gn/T/ipykernel_77185/2068339415.py:11: UserWarning: Geometry is in a geographic CRS. Results from 'area' are likely incorrect. Use 'GeoSeries.to_crs()' to re-project geometries to a projected CRS before this operation.\n",
      "\n",
      "  gdf[\"area\"] = gdf.geometry.area\n",
      "/var/folders/f7/jnv35vy91yn53q0rtcj3pklc0000gn/T/ipykernel_77185/2068339415.py:11: UserWarning: Geometry is in a geographic CRS. Results from 'area' are likely incorrect. Use 'GeoSeries.to_crs()' to re-project geometries to a projected CRS before this operation.\n",
      "\n",
      "  gdf[\"area\"] = gdf.geometry.area\n"
     ]
    },
    {
     "name": "stdout",
     "output_type": "stream",
     "text": [
      "ty <class 'geopandas.geodataframe.GeoDataFrame'>\n",
      "ty <class 'geopandas.geodataframe.GeoDataFrame'>\n",
      "ty <class 'geopandas.geodataframe.GeoDataFrame'>\n",
      "ty <class 'geopandas.geodataframe.GeoDataFrame'>\n"
     ]
    },
    {
     "name": "stderr",
     "output_type": "stream",
     "text": [
      "/var/folders/f7/jnv35vy91yn53q0rtcj3pklc0000gn/T/ipykernel_77185/2068339415.py:11: UserWarning: Geometry is in a geographic CRS. Results from 'area' are likely incorrect. Use 'GeoSeries.to_crs()' to re-project geometries to a projected CRS before this operation.\n",
      "\n",
      "  gdf[\"area\"] = gdf.geometry.area\n",
      "/var/folders/f7/jnv35vy91yn53q0rtcj3pklc0000gn/T/ipykernel_77185/2068339415.py:11: UserWarning: Geometry is in a geographic CRS. Results from 'area' are likely incorrect. Use 'GeoSeries.to_crs()' to re-project geometries to a projected CRS before this operation.\n",
      "\n",
      "  gdf[\"area\"] = gdf.geometry.area\n",
      "/var/folders/f7/jnv35vy91yn53q0rtcj3pklc0000gn/T/ipykernel_77185/2068339415.py:11: UserWarning: Geometry is in a geographic CRS. Results from 'area' are likely incorrect. Use 'GeoSeries.to_crs()' to re-project geometries to a projected CRS before this operation.\n",
      "\n",
      "  gdf[\"area\"] = gdf.geometry.area\n",
      "/var/folders/f7/jnv35vy91yn53q0rtcj3pklc0000gn/T/ipykernel_77185/2068339415.py:11: UserWarning: Geometry is in a geographic CRS. Results from 'area' are likely incorrect. Use 'GeoSeries.to_crs()' to re-project geometries to a projected CRS before this operation.\n",
      "\n",
      "  gdf[\"area\"] = gdf.geometry.area\n",
      "/var/folders/f7/jnv35vy91yn53q0rtcj3pklc0000gn/T/ipykernel_77185/2068339415.py:11: UserWarning: Geometry is in a geographic CRS. Results from 'area' are likely incorrect. Use 'GeoSeries.to_crs()' to re-project geometries to a projected CRS before this operation.\n",
      "\n",
      "  gdf[\"area\"] = gdf.geometry.area\n"
     ]
    },
    {
     "name": "stdout",
     "output_type": "stream",
     "text": [
      "ty <class 'geopandas.geodataframe.GeoDataFrame'>\n",
      "ty <class 'geopandas.geodataframe.GeoDataFrame'>\n",
      "ty <class 'geopandas.geodataframe.GeoDataFrame'>\n",
      "ty <class 'geopandas.geodataframe.GeoDataFrame'>\n",
      "ty <class 'geopandas.geodataframe.GeoDataFrame'>\n",
      "ty <class 'geopandas.geodataframe.GeoDataFrame'>\n",
      "ty <class 'geopandas.geodataframe.GeoDataFrame'>\n",
      "ty <class 'geopandas.geodataframe.GeoDataFrame'>\n"
     ]
    },
    {
     "name": "stderr",
     "output_type": "stream",
     "text": [
      "/var/folders/f7/jnv35vy91yn53q0rtcj3pklc0000gn/T/ipykernel_77185/2068339415.py:11: UserWarning: Geometry is in a geographic CRS. Results from 'area' are likely incorrect. Use 'GeoSeries.to_crs()' to re-project geometries to a projected CRS before this operation.\n",
      "\n",
      "  gdf[\"area\"] = gdf.geometry.area\n",
      "/var/folders/f7/jnv35vy91yn53q0rtcj3pklc0000gn/T/ipykernel_77185/2068339415.py:11: UserWarning: Geometry is in a geographic CRS. Results from 'area' are likely incorrect. Use 'GeoSeries.to_crs()' to re-project geometries to a projected CRS before this operation.\n",
      "\n",
      "  gdf[\"area\"] = gdf.geometry.area\n",
      "/var/folders/f7/jnv35vy91yn53q0rtcj3pklc0000gn/T/ipykernel_77185/2068339415.py:11: UserWarning: Geometry is in a geographic CRS. Results from 'area' are likely incorrect. Use 'GeoSeries.to_crs()' to re-project geometries to a projected CRS before this operation.\n",
      "\n",
      "  gdf[\"area\"] = gdf.geometry.area\n",
      "/var/folders/f7/jnv35vy91yn53q0rtcj3pklc0000gn/T/ipykernel_77185/2068339415.py:11: UserWarning: Geometry is in a geographic CRS. Results from 'area' are likely incorrect. Use 'GeoSeries.to_crs()' to re-project geometries to a projected CRS before this operation.\n",
      "\n",
      "  gdf[\"area\"] = gdf.geometry.area\n"
     ]
    },
    {
     "name": "stdout",
     "output_type": "stream",
     "text": [
      "ty <class 'geopandas.geodataframe.GeoDataFrame'>\n",
      "ty <class 'geopandas.geodataframe.GeoDataFrame'>\n",
      "ty <class 'geopandas.geodataframe.GeoDataFrame'>\n"
     ]
    },
    {
     "name": "stderr",
     "output_type": "stream",
     "text": [
      "/var/folders/f7/jnv35vy91yn53q0rtcj3pklc0000gn/T/ipykernel_77185/2068339415.py:11: UserWarning: Geometry is in a geographic CRS. Results from 'area' are likely incorrect. Use 'GeoSeries.to_crs()' to re-project geometries to a projected CRS before this operation.\n",
      "\n",
      "  gdf[\"area\"] = gdf.geometry.area\n",
      "/var/folders/f7/jnv35vy91yn53q0rtcj3pklc0000gn/T/ipykernel_77185/2068339415.py:11: UserWarning: Geometry is in a geographic CRS. Results from 'area' are likely incorrect. Use 'GeoSeries.to_crs()' to re-project geometries to a projected CRS before this operation.\n",
      "\n",
      "  gdf[\"area\"] = gdf.geometry.area\n",
      "/var/folders/f7/jnv35vy91yn53q0rtcj3pklc0000gn/T/ipykernel_77185/2068339415.py:11: UserWarning: Geometry is in a geographic CRS. Results from 'area' are likely incorrect. Use 'GeoSeries.to_crs()' to re-project geometries to a projected CRS before this operation.\n",
      "\n",
      "  gdf[\"area\"] = gdf.geometry.area\n",
      "/var/folders/f7/jnv35vy91yn53q0rtcj3pklc0000gn/T/ipykernel_77185/2068339415.py:11: UserWarning: Geometry is in a geographic CRS. Results from 'area' are likely incorrect. Use 'GeoSeries.to_crs()' to re-project geometries to a projected CRS before this operation.\n",
      "\n",
      "  gdf[\"area\"] = gdf.geometry.area\n"
     ]
    },
    {
     "name": "stdout",
     "output_type": "stream",
     "text": [
      "ty <class 'geopandas.geodataframe.GeoDataFrame'>\n",
      "ty <class 'geopandas.geodataframe.GeoDataFrame'>\n"
     ]
    },
    {
     "name": "stderr",
     "output_type": "stream",
     "text": [
      "/var/folders/f7/jnv35vy91yn53q0rtcj3pklc0000gn/T/ipykernel_77185/2068339415.py:11: UserWarning: Geometry is in a geographic CRS. Results from 'area' are likely incorrect. Use 'GeoSeries.to_crs()' to re-project geometries to a projected CRS before this operation.\n",
      "\n",
      "  gdf[\"area\"] = gdf.geometry.area\n",
      "/var/folders/f7/jnv35vy91yn53q0rtcj3pklc0000gn/T/ipykernel_77185/2068339415.py:11: UserWarning: Geometry is in a geographic CRS. Results from 'area' are likely incorrect. Use 'GeoSeries.to_crs()' to re-project geometries to a projected CRS before this operation.\n",
      "\n",
      "  gdf[\"area\"] = gdf.geometry.area\n",
      "/var/folders/f7/jnv35vy91yn53q0rtcj3pklc0000gn/T/ipykernel_77185/2068339415.py:11: UserWarning: Geometry is in a geographic CRS. Results from 'area' are likely incorrect. Use 'GeoSeries.to_crs()' to re-project geometries to a projected CRS before this operation.\n",
      "\n",
      "  gdf[\"area\"] = gdf.geometry.area\n"
     ]
    },
    {
     "name": "stdout",
     "output_type": "stream",
     "text": [
      "ty <class 'geopandas.geodataframe.GeoDataFrame'>\n",
      "ty <class 'geopandas.geodataframe.GeoDataFrame'>\n",
      "ty <class 'geopandas.geodataframe.GeoDataFrame'>\n"
     ]
    },
    {
     "name": "stderr",
     "output_type": "stream",
     "text": [
      "/var/folders/f7/jnv35vy91yn53q0rtcj3pklc0000gn/T/ipykernel_77185/2068339415.py:11: UserWarning: Geometry is in a geographic CRS. Results from 'area' are likely incorrect. Use 'GeoSeries.to_crs()' to re-project geometries to a projected CRS before this operation.\n",
      "\n",
      "  gdf[\"area\"] = gdf.geometry.area\n",
      "/var/folders/f7/jnv35vy91yn53q0rtcj3pklc0000gn/T/ipykernel_77185/2068339415.py:11: UserWarning: Geometry is in a geographic CRS. Results from 'area' are likely incorrect. Use 'GeoSeries.to_crs()' to re-project geometries to a projected CRS before this operation.\n",
      "\n",
      "  gdf[\"area\"] = gdf.geometry.area\n",
      "/var/folders/f7/jnv35vy91yn53q0rtcj3pklc0000gn/T/ipykernel_77185/2068339415.py:11: UserWarning: Geometry is in a geographic CRS. Results from 'area' are likely incorrect. Use 'GeoSeries.to_crs()' to re-project geometries to a projected CRS before this operation.\n",
      "\n",
      "  gdf[\"area\"] = gdf.geometry.area\n",
      "/var/folders/f7/jnv35vy91yn53q0rtcj3pklc0000gn/T/ipykernel_77185/2068339415.py:11: UserWarning: Geometry is in a geographic CRS. Results from 'area' are likely incorrect. Use 'GeoSeries.to_crs()' to re-project geometries to a projected CRS before this operation.\n",
      "\n",
      "  gdf[\"area\"] = gdf.geometry.area\n"
     ]
    },
    {
     "name": "stdout",
     "output_type": "stream",
     "text": [
      "ty <class 'geopandas.geodataframe.GeoDataFrame'>\n",
      "ty <class 'geopandas.geodataframe.GeoDataFrame'>\n",
      "ty <class 'geopandas.geodataframe.GeoDataFrame'>\n",
      "ty <class 'geopandas.geodataframe.GeoDataFrame'>\n"
     ]
    },
    {
     "name": "stderr",
     "output_type": "stream",
     "text": [
      "/var/folders/f7/jnv35vy91yn53q0rtcj3pklc0000gn/T/ipykernel_77185/2068339415.py:11: UserWarning: Geometry is in a geographic CRS. Results from 'area' are likely incorrect. Use 'GeoSeries.to_crs()' to re-project geometries to a projected CRS before this operation.\n",
      "\n",
      "  gdf[\"area\"] = gdf.geometry.area\n",
      "/var/folders/f7/jnv35vy91yn53q0rtcj3pklc0000gn/T/ipykernel_77185/2068339415.py:11: UserWarning: Geometry is in a geographic CRS. Results from 'area' are likely incorrect. Use 'GeoSeries.to_crs()' to re-project geometries to a projected CRS before this operation.\n",
      "\n",
      "  gdf[\"area\"] = gdf.geometry.area\n",
      "/var/folders/f7/jnv35vy91yn53q0rtcj3pklc0000gn/T/ipykernel_77185/2068339415.py:11: UserWarning: Geometry is in a geographic CRS. Results from 'area' are likely incorrect. Use 'GeoSeries.to_crs()' to re-project geometries to a projected CRS before this operation.\n",
      "\n",
      "  gdf[\"area\"] = gdf.geometry.area\n"
     ]
    },
    {
     "name": "stdout",
     "output_type": "stream",
     "text": [
      "ty <class 'geopandas.geodataframe.GeoDataFrame'>\n",
      "ty <class 'geopandas.geodataframe.GeoDataFrame'>\n",
      "ty <class 'geopandas.geodataframe.GeoDataFrame'>\n",
      "ty <class 'geopandas.geodataframe.GeoDataFrame'>\n"
     ]
    },
    {
     "name": "stderr",
     "output_type": "stream",
     "text": [
      "/var/folders/f7/jnv35vy91yn53q0rtcj3pklc0000gn/T/ipykernel_77185/2068339415.py:11: UserWarning: Geometry is in a geographic CRS. Results from 'area' are likely incorrect. Use 'GeoSeries.to_crs()' to re-project geometries to a projected CRS before this operation.\n",
      "\n",
      "  gdf[\"area\"] = gdf.geometry.area\n",
      "/var/folders/f7/jnv35vy91yn53q0rtcj3pklc0000gn/T/ipykernel_77185/2068339415.py:11: UserWarning: Geometry is in a geographic CRS. Results from 'area' are likely incorrect. Use 'GeoSeries.to_crs()' to re-project geometries to a projected CRS before this operation.\n",
      "\n",
      "  gdf[\"area\"] = gdf.geometry.area\n",
      "/var/folders/f7/jnv35vy91yn53q0rtcj3pklc0000gn/T/ipykernel_77185/2068339415.py:11: UserWarning: Geometry is in a geographic CRS. Results from 'area' are likely incorrect. Use 'GeoSeries.to_crs()' to re-project geometries to a projected CRS before this operation.\n",
      "\n",
      "  gdf[\"area\"] = gdf.geometry.area\n",
      "/var/folders/f7/jnv35vy91yn53q0rtcj3pklc0000gn/T/ipykernel_77185/2068339415.py:11: UserWarning: Geometry is in a geographic CRS. Results from 'area' are likely incorrect. Use 'GeoSeries.to_crs()' to re-project geometries to a projected CRS before this operation.\n",
      "\n",
      "  gdf[\"area\"] = gdf.geometry.area\n",
      "/var/folders/f7/jnv35vy91yn53q0rtcj3pklc0000gn/T/ipykernel_77185/2068339415.py:11: UserWarning: Geometry is in a geographic CRS. Results from 'area' are likely incorrect. Use 'GeoSeries.to_crs()' to re-project geometries to a projected CRS before this operation.\n",
      "\n",
      "  gdf[\"area\"] = gdf.geometry.area\n"
     ]
    },
    {
     "name": "stdout",
     "output_type": "stream",
     "text": [
      "ty <class 'geopandas.geodataframe.GeoDataFrame'>\n",
      "ty <class 'geopandas.geodataframe.GeoDataFrame'>\n",
      "ty <class 'geopandas.geodataframe.GeoDataFrame'>\n",
      "ty <class 'geopandas.geodataframe.GeoDataFrame'>\n"
     ]
    },
    {
     "name": "stderr",
     "output_type": "stream",
     "text": [
      "/var/folders/f7/jnv35vy91yn53q0rtcj3pklc0000gn/T/ipykernel_77185/2068339415.py:11: UserWarning: Geometry is in a geographic CRS. Results from 'area' are likely incorrect. Use 'GeoSeries.to_crs()' to re-project geometries to a projected CRS before this operation.\n",
      "\n",
      "  gdf[\"area\"] = gdf.geometry.area\n",
      "/var/folders/f7/jnv35vy91yn53q0rtcj3pklc0000gn/T/ipykernel_77185/2068339415.py:11: UserWarning: Geometry is in a geographic CRS. Results from 'area' are likely incorrect. Use 'GeoSeries.to_crs()' to re-project geometries to a projected CRS before this operation.\n",
      "\n",
      "  gdf[\"area\"] = gdf.geometry.area\n",
      "/var/folders/f7/jnv35vy91yn53q0rtcj3pklc0000gn/T/ipykernel_77185/2068339415.py:11: UserWarning: Geometry is in a geographic CRS. Results from 'area' are likely incorrect. Use 'GeoSeries.to_crs()' to re-project geometries to a projected CRS before this operation.\n",
      "\n",
      "  gdf[\"area\"] = gdf.geometry.area\n",
      "/var/folders/f7/jnv35vy91yn53q0rtcj3pklc0000gn/T/ipykernel_77185/2068339415.py:11: UserWarning: Geometry is in a geographic CRS. Results from 'area' are likely incorrect. Use 'GeoSeries.to_crs()' to re-project geometries to a projected CRS before this operation.\n",
      "\n",
      "  gdf[\"area\"] = gdf.geometry.area\n"
     ]
    },
    {
     "name": "stdout",
     "output_type": "stream",
     "text": [
      "ty <class 'geopandas.geodataframe.GeoDataFrame'>\n",
      "ty <class 'geopandas.geodataframe.GeoDataFrame'>\n",
      "ty <class 'geopandas.geodataframe.GeoDataFrame'>\n",
      "ty <class 'geopandas.geodataframe.GeoDataFrame'>\n"
     ]
    },
    {
     "name": "stderr",
     "output_type": "stream",
     "text": [
      "/var/folders/f7/jnv35vy91yn53q0rtcj3pklc0000gn/T/ipykernel_77185/2068339415.py:11: UserWarning: Geometry is in a geographic CRS. Results from 'area' are likely incorrect. Use 'GeoSeries.to_crs()' to re-project geometries to a projected CRS before this operation.\n",
      "\n",
      "  gdf[\"area\"] = gdf.geometry.area\n",
      "/var/folders/f7/jnv35vy91yn53q0rtcj3pklc0000gn/T/ipykernel_77185/2068339415.py:11: UserWarning: Geometry is in a geographic CRS. Results from 'area' are likely incorrect. Use 'GeoSeries.to_crs()' to re-project geometries to a projected CRS before this operation.\n",
      "\n",
      "  gdf[\"area\"] = gdf.geometry.area\n",
      "/var/folders/f7/jnv35vy91yn53q0rtcj3pklc0000gn/T/ipykernel_77185/2068339415.py:11: UserWarning: Geometry is in a geographic CRS. Results from 'area' are likely incorrect. Use 'GeoSeries.to_crs()' to re-project geometries to a projected CRS before this operation.\n",
      "\n",
      "  gdf[\"area\"] = gdf.geometry.area\n",
      "/var/folders/f7/jnv35vy91yn53q0rtcj3pklc0000gn/T/ipykernel_77185/2068339415.py:11: UserWarning: Geometry is in a geographic CRS. Results from 'area' are likely incorrect. Use 'GeoSeries.to_crs()' to re-project geometries to a projected CRS before this operation.\n",
      "\n",
      "  gdf[\"area\"] = gdf.geometry.area\n"
     ]
    },
    {
     "name": "stdout",
     "output_type": "stream",
     "text": [
      "ty <class 'geopandas.geodataframe.GeoDataFrame'>\n",
      "ty <class 'geopandas.geodataframe.GeoDataFrame'>\n",
      "ty <class 'geopandas.geodataframe.GeoDataFrame'>\n",
      "ty <class 'geopandas.geodataframe.GeoDataFrame'>\n"
     ]
    },
    {
     "name": "stderr",
     "output_type": "stream",
     "text": [
      "/var/folders/f7/jnv35vy91yn53q0rtcj3pklc0000gn/T/ipykernel_77185/2068339415.py:11: UserWarning: Geometry is in a geographic CRS. Results from 'area' are likely incorrect. Use 'GeoSeries.to_crs()' to re-project geometries to a projected CRS before this operation.\n",
      "\n",
      "  gdf[\"area\"] = gdf.geometry.area\n",
      "/var/folders/f7/jnv35vy91yn53q0rtcj3pklc0000gn/T/ipykernel_77185/2068339415.py:11: UserWarning: Geometry is in a geographic CRS. Results from 'area' are likely incorrect. Use 'GeoSeries.to_crs()' to re-project geometries to a projected CRS before this operation.\n",
      "\n",
      "  gdf[\"area\"] = gdf.geometry.area\n",
      "/var/folders/f7/jnv35vy91yn53q0rtcj3pklc0000gn/T/ipykernel_77185/2068339415.py:11: UserWarning: Geometry is in a geographic CRS. Results from 'area' are likely incorrect. Use 'GeoSeries.to_crs()' to re-project geometries to a projected CRS before this operation.\n",
      "\n",
      "  gdf[\"area\"] = gdf.geometry.area\n",
      "/var/folders/f7/jnv35vy91yn53q0rtcj3pklc0000gn/T/ipykernel_77185/2068339415.py:11: UserWarning: Geometry is in a geographic CRS. Results from 'area' are likely incorrect. Use 'GeoSeries.to_crs()' to re-project geometries to a projected CRS before this operation.\n",
      "\n",
      "  gdf[\"area\"] = gdf.geometry.area\n"
     ]
    },
    {
     "name": "stdout",
     "output_type": "stream",
     "text": [
      "ty <class 'geopandas.geodataframe.GeoDataFrame'>\n",
      "ty <class 'geopandas.geodataframe.GeoDataFrame'>\n",
      "ty <class 'geopandas.geodataframe.GeoDataFrame'>\n",
      "ty <class 'geopandas.geodataframe.GeoDataFrame'>\n"
     ]
    },
    {
     "name": "stderr",
     "output_type": "stream",
     "text": [
      "/var/folders/f7/jnv35vy91yn53q0rtcj3pklc0000gn/T/ipykernel_77185/2068339415.py:11: UserWarning: Geometry is in a geographic CRS. Results from 'area' are likely incorrect. Use 'GeoSeries.to_crs()' to re-project geometries to a projected CRS before this operation.\n",
      "\n",
      "  gdf[\"area\"] = gdf.geometry.area\n",
      "/var/folders/f7/jnv35vy91yn53q0rtcj3pklc0000gn/T/ipykernel_77185/2068339415.py:11: UserWarning: Geometry is in a geographic CRS. Results from 'area' are likely incorrect. Use 'GeoSeries.to_crs()' to re-project geometries to a projected CRS before this operation.\n",
      "\n",
      "  gdf[\"area\"] = gdf.geometry.area\n",
      "/var/folders/f7/jnv35vy91yn53q0rtcj3pklc0000gn/T/ipykernel_77185/2068339415.py:11: UserWarning: Geometry is in a geographic CRS. Results from 'area' are likely incorrect. Use 'GeoSeries.to_crs()' to re-project geometries to a projected CRS before this operation.\n",
      "\n",
      "  gdf[\"area\"] = gdf.geometry.area\n",
      "/var/folders/f7/jnv35vy91yn53q0rtcj3pklc0000gn/T/ipykernel_77185/2068339415.py:11: UserWarning: Geometry is in a geographic CRS. Results from 'area' are likely incorrect. Use 'GeoSeries.to_crs()' to re-project geometries to a projected CRS before this operation.\n",
      "\n",
      "  gdf[\"area\"] = gdf.geometry.area\n"
     ]
    },
    {
     "name": "stdout",
     "output_type": "stream",
     "text": [
      "ty <class 'geopandas.geodataframe.GeoDataFrame'>\n",
      "ty <class 'geopandas.geodataframe.GeoDataFrame'>\n",
      "ty <class 'geopandas.geodataframe.GeoDataFrame'>\n",
      "ty <class 'geopandas.geodataframe.GeoDataFrame'>\n"
     ]
    },
    {
     "name": "stderr",
     "output_type": "stream",
     "text": [
      "/var/folders/f7/jnv35vy91yn53q0rtcj3pklc0000gn/T/ipykernel_77185/2068339415.py:11: UserWarning: Geometry is in a geographic CRS. Results from 'area' are likely incorrect. Use 'GeoSeries.to_crs()' to re-project geometries to a projected CRS before this operation.\n",
      "\n",
      "  gdf[\"area\"] = gdf.geometry.area\n",
      "/var/folders/f7/jnv35vy91yn53q0rtcj3pklc0000gn/T/ipykernel_77185/2068339415.py:11: UserWarning: Geometry is in a geographic CRS. Results from 'area' are likely incorrect. Use 'GeoSeries.to_crs()' to re-project geometries to a projected CRS before this operation.\n",
      "\n",
      "  gdf[\"area\"] = gdf.geometry.area\n",
      "/var/folders/f7/jnv35vy91yn53q0rtcj3pklc0000gn/T/ipykernel_77185/2068339415.py:11: UserWarning: Geometry is in a geographic CRS. Results from 'area' are likely incorrect. Use 'GeoSeries.to_crs()' to re-project geometries to a projected CRS before this operation.\n",
      "\n",
      "  gdf[\"area\"] = gdf.geometry.area\n"
     ]
    },
    {
     "name": "stdout",
     "output_type": "stream",
     "text": [
      "ty <class 'geopandas.geodataframe.GeoDataFrame'>\n",
      "ty <class 'geopandas.geodataframe.GeoDataFrame'>\n",
      "ty <class 'geopandas.geodataframe.GeoDataFrame'>\n"
     ]
    },
    {
     "name": "stderr",
     "output_type": "stream",
     "text": [
      "/var/folders/f7/jnv35vy91yn53q0rtcj3pklc0000gn/T/ipykernel_77185/2068339415.py:11: UserWarning: Geometry is in a geographic CRS. Results from 'area' are likely incorrect. Use 'GeoSeries.to_crs()' to re-project geometries to a projected CRS before this operation.\n",
      "\n",
      "  gdf[\"area\"] = gdf.geometry.area\n",
      "/var/folders/f7/jnv35vy91yn53q0rtcj3pklc0000gn/T/ipykernel_77185/2068339415.py:11: UserWarning: Geometry is in a geographic CRS. Results from 'area' are likely incorrect. Use 'GeoSeries.to_crs()' to re-project geometries to a projected CRS before this operation.\n",
      "\n",
      "  gdf[\"area\"] = gdf.geometry.area\n",
      "/var/folders/f7/jnv35vy91yn53q0rtcj3pklc0000gn/T/ipykernel_77185/2068339415.py:11: UserWarning: Geometry is in a geographic CRS. Results from 'area' are likely incorrect. Use 'GeoSeries.to_crs()' to re-project geometries to a projected CRS before this operation.\n",
      "\n",
      "  gdf[\"area\"] = gdf.geometry.area\n",
      "/var/folders/f7/jnv35vy91yn53q0rtcj3pklc0000gn/T/ipykernel_77185/2068339415.py:11: UserWarning: Geometry is in a geographic CRS. Results from 'area' are likely incorrect. Use 'GeoSeries.to_crs()' to re-project geometries to a projected CRS before this operation.\n",
      "\n",
      "  gdf[\"area\"] = gdf.geometry.area\n",
      "/var/folders/f7/jnv35vy91yn53q0rtcj3pklc0000gn/T/ipykernel_77185/2068339415.py:11: UserWarning: Geometry is in a geographic CRS. Results from 'area' are likely incorrect. Use 'GeoSeries.to_crs()' to re-project geometries to a projected CRS before this operation.\n",
      "\n",
      "  gdf[\"area\"] = gdf.geometry.area\n"
     ]
    },
    {
     "name": "stdout",
     "output_type": "stream",
     "text": [
      "ty <class 'geopandas.geodataframe.GeoDataFrame'>\n",
      "ty <class 'geopandas.geodataframe.GeoDataFrame'>\n",
      "ty <class 'geopandas.geodataframe.GeoDataFrame'>\n",
      "ty <class 'geopandas.geodataframe.GeoDataFrame'>\n",
      "ty <class 'geopandas.geodataframe.GeoDataFrame'>\n",
      "ty <class 'geopandas.geodataframe.GeoDataFrame'>\n",
      "ty <class 'geopandas.geodataframe.GeoDataFrame'>\n"
     ]
    },
    {
     "name": "stderr",
     "output_type": "stream",
     "text": [
      "/var/folders/f7/jnv35vy91yn53q0rtcj3pklc0000gn/T/ipykernel_77185/2068339415.py:11: UserWarning: Geometry is in a geographic CRS. Results from 'area' are likely incorrect. Use 'GeoSeries.to_crs()' to re-project geometries to a projected CRS before this operation.\n",
      "\n",
      "  gdf[\"area\"] = gdf.geometry.area\n",
      "/var/folders/f7/jnv35vy91yn53q0rtcj3pklc0000gn/T/ipykernel_77185/2068339415.py:11: UserWarning: Geometry is in a geographic CRS. Results from 'area' are likely incorrect. Use 'GeoSeries.to_crs()' to re-project geometries to a projected CRS before this operation.\n",
      "\n",
      "  gdf[\"area\"] = gdf.geometry.area\n",
      "/var/folders/f7/jnv35vy91yn53q0rtcj3pklc0000gn/T/ipykernel_77185/2068339415.py:11: UserWarning: Geometry is in a geographic CRS. Results from 'area' are likely incorrect. Use 'GeoSeries.to_crs()' to re-project geometries to a projected CRS before this operation.\n",
      "\n",
      "  gdf[\"area\"] = gdf.geometry.area\n"
     ]
    },
    {
     "name": "stdout",
     "output_type": "stream",
     "text": [
      "ty <class 'geopandas.geodataframe.GeoDataFrame'>\n",
      "ty <class 'geopandas.geodataframe.GeoDataFrame'>\n",
      "ty <class 'geopandas.geodataframe.GeoDataFrame'>\n",
      "ty <class 'geopandas.geodataframe.GeoDataFrame'>\n"
     ]
    },
    {
     "name": "stderr",
     "output_type": "stream",
     "text": [
      "/var/folders/f7/jnv35vy91yn53q0rtcj3pklc0000gn/T/ipykernel_77185/2068339415.py:11: UserWarning: Geometry is in a geographic CRS. Results from 'area' are likely incorrect. Use 'GeoSeries.to_crs()' to re-project geometries to a projected CRS before this operation.\n",
      "\n",
      "  gdf[\"area\"] = gdf.geometry.area\n",
      "/var/folders/f7/jnv35vy91yn53q0rtcj3pklc0000gn/T/ipykernel_77185/2068339415.py:11: UserWarning: Geometry is in a geographic CRS. Results from 'area' are likely incorrect. Use 'GeoSeries.to_crs()' to re-project geometries to a projected CRS before this operation.\n",
      "\n",
      "  gdf[\"area\"] = gdf.geometry.area\n",
      "/var/folders/f7/jnv35vy91yn53q0rtcj3pklc0000gn/T/ipykernel_77185/2068339415.py:11: UserWarning: Geometry is in a geographic CRS. Results from 'area' are likely incorrect. Use 'GeoSeries.to_crs()' to re-project geometries to a projected CRS before this operation.\n",
      "\n",
      "  gdf[\"area\"] = gdf.geometry.area\n",
      "/var/folders/f7/jnv35vy91yn53q0rtcj3pklc0000gn/T/ipykernel_77185/2068339415.py:11: UserWarning: Geometry is in a geographic CRS. Results from 'area' are likely incorrect. Use 'GeoSeries.to_crs()' to re-project geometries to a projected CRS before this operation.\n",
      "\n",
      "  gdf[\"area\"] = gdf.geometry.area\n"
     ]
    },
    {
     "name": "stdout",
     "output_type": "stream",
     "text": [
      "ty <class 'geopandas.geodataframe.GeoDataFrame'>\n",
      "ty <class 'geopandas.geodataframe.GeoDataFrame'>\n",
      "ty <class 'geopandas.geodataframe.GeoDataFrame'>\n",
      "ty <class 'geopandas.geodataframe.GeoDataFrame'>\n"
     ]
    },
    {
     "name": "stderr",
     "output_type": "stream",
     "text": [
      "/var/folders/f7/jnv35vy91yn53q0rtcj3pklc0000gn/T/ipykernel_77185/2068339415.py:11: UserWarning: Geometry is in a geographic CRS. Results from 'area' are likely incorrect. Use 'GeoSeries.to_crs()' to re-project geometries to a projected CRS before this operation.\n",
      "\n",
      "  gdf[\"area\"] = gdf.geometry.area\n",
      "/var/folders/f7/jnv35vy91yn53q0rtcj3pklc0000gn/T/ipykernel_77185/2068339415.py:11: UserWarning: Geometry is in a geographic CRS. Results from 'area' are likely incorrect. Use 'GeoSeries.to_crs()' to re-project geometries to a projected CRS before this operation.\n",
      "\n",
      "  gdf[\"area\"] = gdf.geometry.area\n",
      "/var/folders/f7/jnv35vy91yn53q0rtcj3pklc0000gn/T/ipykernel_77185/2068339415.py:11: UserWarning: Geometry is in a geographic CRS. Results from 'area' are likely incorrect. Use 'GeoSeries.to_crs()' to re-project geometries to a projected CRS before this operation.\n",
      "\n",
      "  gdf[\"area\"] = gdf.geometry.area\n",
      "/var/folders/f7/jnv35vy91yn53q0rtcj3pklc0000gn/T/ipykernel_77185/2068339415.py:11: UserWarning: Geometry is in a geographic CRS. Results from 'area' are likely incorrect. Use 'GeoSeries.to_crs()' to re-project geometries to a projected CRS before this operation.\n",
      "\n",
      "  gdf[\"area\"] = gdf.geometry.area\n"
     ]
    },
    {
     "name": "stdout",
     "output_type": "stream",
     "text": [
      "ty <class 'geopandas.geodataframe.GeoDataFrame'>\n",
      "ty <class 'geopandas.geodataframe.GeoDataFrame'>\n",
      "ty <class 'geopandas.geodataframe.GeoDataFrame'>\n",
      "ty <class 'geopandas.geodataframe.GeoDataFrame'>\n"
     ]
    },
    {
     "name": "stderr",
     "output_type": "stream",
     "text": [
      "/var/folders/f7/jnv35vy91yn53q0rtcj3pklc0000gn/T/ipykernel_77185/2068339415.py:11: UserWarning: Geometry is in a geographic CRS. Results from 'area' are likely incorrect. Use 'GeoSeries.to_crs()' to re-project geometries to a projected CRS before this operation.\n",
      "\n",
      "  gdf[\"area\"] = gdf.geometry.area\n",
      "/var/folders/f7/jnv35vy91yn53q0rtcj3pklc0000gn/T/ipykernel_77185/2068339415.py:11: UserWarning: Geometry is in a geographic CRS. Results from 'area' are likely incorrect. Use 'GeoSeries.to_crs()' to re-project geometries to a projected CRS before this operation.\n",
      "\n",
      "  gdf[\"area\"] = gdf.geometry.area\n",
      "/var/folders/f7/jnv35vy91yn53q0rtcj3pklc0000gn/T/ipykernel_77185/2068339415.py:11: UserWarning: Geometry is in a geographic CRS. Results from 'area' are likely incorrect. Use 'GeoSeries.to_crs()' to re-project geometries to a projected CRS before this operation.\n",
      "\n",
      "  gdf[\"area\"] = gdf.geometry.area\n",
      "/var/folders/f7/jnv35vy91yn53q0rtcj3pklc0000gn/T/ipykernel_77185/2068339415.py:11: UserWarning: Geometry is in a geographic CRS. Results from 'area' are likely incorrect. Use 'GeoSeries.to_crs()' to re-project geometries to a projected CRS before this operation.\n",
      "\n",
      "  gdf[\"area\"] = gdf.geometry.area\n",
      "/var/folders/f7/jnv35vy91yn53q0rtcj3pklc0000gn/T/ipykernel_77185/2068339415.py:11: UserWarning: Geometry is in a geographic CRS. Results from 'area' are likely incorrect. Use 'GeoSeries.to_crs()' to re-project geometries to a projected CRS before this operation.\n",
      "\n",
      "  gdf[\"area\"] = gdf.geometry.area\n"
     ]
    },
    {
     "name": "stdout",
     "output_type": "stream",
     "text": [
      "ty <class 'geopandas.geodataframe.GeoDataFrame'>\n",
      "ty <class 'geopandas.geodataframe.GeoDataFrame'>\n",
      "ty <class 'geopandas.geodataframe.GeoDataFrame'>\n",
      "ty <class 'geopandas.geodataframe.GeoDataFrame'>\n"
     ]
    },
    {
     "name": "stderr",
     "output_type": "stream",
     "text": [
      "/var/folders/f7/jnv35vy91yn53q0rtcj3pklc0000gn/T/ipykernel_77185/2068339415.py:11: UserWarning: Geometry is in a geographic CRS. Results from 'area' are likely incorrect. Use 'GeoSeries.to_crs()' to re-project geometries to a projected CRS before this operation.\n",
      "\n",
      "  gdf[\"area\"] = gdf.geometry.area\n",
      "/var/folders/f7/jnv35vy91yn53q0rtcj3pklc0000gn/T/ipykernel_77185/2068339415.py:11: UserWarning: Geometry is in a geographic CRS. Results from 'area' are likely incorrect. Use 'GeoSeries.to_crs()' to re-project geometries to a projected CRS before this operation.\n",
      "\n",
      "  gdf[\"area\"] = gdf.geometry.area\n",
      "/var/folders/f7/jnv35vy91yn53q0rtcj3pklc0000gn/T/ipykernel_77185/2068339415.py:11: UserWarning: Geometry is in a geographic CRS. Results from 'area' are likely incorrect. Use 'GeoSeries.to_crs()' to re-project geometries to a projected CRS before this operation.\n",
      "\n",
      "  gdf[\"area\"] = gdf.geometry.area\n",
      "/var/folders/f7/jnv35vy91yn53q0rtcj3pklc0000gn/T/ipykernel_77185/2068339415.py:11: UserWarning: Geometry is in a geographic CRS. Results from 'area' are likely incorrect. Use 'GeoSeries.to_crs()' to re-project geometries to a projected CRS before this operation.\n",
      "\n",
      "  gdf[\"area\"] = gdf.geometry.area\n"
     ]
    },
    {
     "name": "stdout",
     "output_type": "stream",
     "text": [
      "ty <class 'geopandas.geodataframe.GeoDataFrame'>\n",
      "ty <class 'geopandas.geodataframe.GeoDataFrame'>\n",
      "ty <class 'geopandas.geodataframe.GeoDataFrame'>\n",
      "ty <class 'geopandas.geodataframe.GeoDataFrame'>\n"
     ]
    },
    {
     "name": "stderr",
     "output_type": "stream",
     "text": [
      "/var/folders/f7/jnv35vy91yn53q0rtcj3pklc0000gn/T/ipykernel_77185/2068339415.py:11: UserWarning: Geometry is in a geographic CRS. Results from 'area' are likely incorrect. Use 'GeoSeries.to_crs()' to re-project geometries to a projected CRS before this operation.\n",
      "\n",
      "  gdf[\"area\"] = gdf.geometry.area\n",
      "/var/folders/f7/jnv35vy91yn53q0rtcj3pklc0000gn/T/ipykernel_77185/2068339415.py:11: UserWarning: Geometry is in a geographic CRS. Results from 'area' are likely incorrect. Use 'GeoSeries.to_crs()' to re-project geometries to a projected CRS before this operation.\n",
      "\n",
      "  gdf[\"area\"] = gdf.geometry.area\n",
      "/var/folders/f7/jnv35vy91yn53q0rtcj3pklc0000gn/T/ipykernel_77185/2068339415.py:11: UserWarning: Geometry is in a geographic CRS. Results from 'area' are likely incorrect. Use 'GeoSeries.to_crs()' to re-project geometries to a projected CRS before this operation.\n",
      "\n",
      "  gdf[\"area\"] = gdf.geometry.area\n",
      "/var/folders/f7/jnv35vy91yn53q0rtcj3pklc0000gn/T/ipykernel_77185/2068339415.py:11: UserWarning: Geometry is in a geographic CRS. Results from 'area' are likely incorrect. Use 'GeoSeries.to_crs()' to re-project geometries to a projected CRS before this operation.\n",
      "\n",
      "  gdf[\"area\"] = gdf.geometry.area\n"
     ]
    },
    {
     "name": "stdout",
     "output_type": "stream",
     "text": [
      "ty <class 'geopandas.geodataframe.GeoDataFrame'>\n",
      "ty <class 'geopandas.geodataframe.GeoDataFrame'>\n",
      "ty <class 'geopandas.geodataframe.GeoDataFrame'>\n"
     ]
    },
    {
     "name": "stderr",
     "output_type": "stream",
     "text": [
      "/var/folders/f7/jnv35vy91yn53q0rtcj3pklc0000gn/T/ipykernel_77185/2068339415.py:11: UserWarning: Geometry is in a geographic CRS. Results from 'area' are likely incorrect. Use 'GeoSeries.to_crs()' to re-project geometries to a projected CRS before this operation.\n",
      "\n",
      "  gdf[\"area\"] = gdf.geometry.area\n",
      "/var/folders/f7/jnv35vy91yn53q0rtcj3pklc0000gn/T/ipykernel_77185/2068339415.py:11: UserWarning: Geometry is in a geographic CRS. Results from 'area' are likely incorrect. Use 'GeoSeries.to_crs()' to re-project geometries to a projected CRS before this operation.\n",
      "\n",
      "  gdf[\"area\"] = gdf.geometry.area\n"
     ]
    },
    {
     "name": "stdout",
     "output_type": "stream",
     "text": [
      "ty <class 'geopandas.geodataframe.GeoDataFrame'>\n",
      "ty <class 'geopandas.geodataframe.GeoDataFrame'>\n"
     ]
    },
    {
     "name": "stderr",
     "output_type": "stream",
     "text": [
      "/var/folders/f7/jnv35vy91yn53q0rtcj3pklc0000gn/T/ipykernel_77185/2068339415.py:11: UserWarning: Geometry is in a geographic CRS. Results from 'area' are likely incorrect. Use 'GeoSeries.to_crs()' to re-project geometries to a projected CRS before this operation.\n",
      "\n",
      "  gdf[\"area\"] = gdf.geometry.area\n",
      "/var/folders/f7/jnv35vy91yn53q0rtcj3pklc0000gn/T/ipykernel_77185/2068339415.py:11: UserWarning: Geometry is in a geographic CRS. Results from 'area' are likely incorrect. Use 'GeoSeries.to_crs()' to re-project geometries to a projected CRS before this operation.\n",
      "\n",
      "  gdf[\"area\"] = gdf.geometry.area\n",
      "/var/folders/f7/jnv35vy91yn53q0rtcj3pklc0000gn/T/ipykernel_77185/2068339415.py:11: UserWarning: Geometry is in a geographic CRS. Results from 'area' are likely incorrect. Use 'GeoSeries.to_crs()' to re-project geometries to a projected CRS before this operation.\n",
      "\n",
      "  gdf[\"area\"] = gdf.geometry.area\n"
     ]
    },
    {
     "name": "stdout",
     "output_type": "stream",
     "text": [
      "ty <class 'geopandas.geodataframe.GeoDataFrame'>\n",
      "Error with the following Polygon\n",
      "ty <class 'geopandas.geodataframe.GeoDataFrame'>\n",
      "ty <class 'geopandas.geodataframe.GeoDataFrame'>\n"
     ]
    },
    {
     "name": "stderr",
     "output_type": "stream",
     "text": [
      "/var/folders/f7/jnv35vy91yn53q0rtcj3pklc0000gn/T/ipykernel_77185/2068339415.py:11: UserWarning: Geometry is in a geographic CRS. Results from 'area' are likely incorrect. Use 'GeoSeries.to_crs()' to re-project geometries to a projected CRS before this operation.\n",
      "\n",
      "  gdf[\"area\"] = gdf.geometry.area\n",
      "/var/folders/f7/jnv35vy91yn53q0rtcj3pklc0000gn/T/ipykernel_77185/2068339415.py:11: UserWarning: Geometry is in a geographic CRS. Results from 'area' are likely incorrect. Use 'GeoSeries.to_crs()' to re-project geometries to a projected CRS before this operation.\n",
      "\n",
      "  gdf[\"area\"] = gdf.geometry.area\n",
      "/var/folders/f7/jnv35vy91yn53q0rtcj3pklc0000gn/T/ipykernel_77185/2068339415.py:11: UserWarning: Geometry is in a geographic CRS. Results from 'area' are likely incorrect. Use 'GeoSeries.to_crs()' to re-project geometries to a projected CRS before this operation.\n",
      "\n",
      "  gdf[\"area\"] = gdf.geometry.area\n"
     ]
    },
    {
     "name": "stdout",
     "output_type": "stream",
     "text": [
      "ty <class 'geopandas.geodataframe.GeoDataFrame'>\n",
      "ty <class 'geopandas.geodataframe.GeoDataFrame'>\n",
      "ty <class 'geopandas.geodataframe.GeoDataFrame'>\n"
     ]
    },
    {
     "name": "stderr",
     "output_type": "stream",
     "text": [
      "/var/folders/f7/jnv35vy91yn53q0rtcj3pklc0000gn/T/ipykernel_77185/2068339415.py:11: UserWarning: Geometry is in a geographic CRS. Results from 'area' are likely incorrect. Use 'GeoSeries.to_crs()' to re-project geometries to a projected CRS before this operation.\n",
      "\n",
      "  gdf[\"area\"] = gdf.geometry.area\n",
      "/var/folders/f7/jnv35vy91yn53q0rtcj3pklc0000gn/T/ipykernel_77185/2068339415.py:11: UserWarning: Geometry is in a geographic CRS. Results from 'area' are likely incorrect. Use 'GeoSeries.to_crs()' to re-project geometries to a projected CRS before this operation.\n",
      "\n",
      "  gdf[\"area\"] = gdf.geometry.area\n",
      "/var/folders/f7/jnv35vy91yn53q0rtcj3pklc0000gn/T/ipykernel_77185/2068339415.py:11: UserWarning: Geometry is in a geographic CRS. Results from 'area' are likely incorrect. Use 'GeoSeries.to_crs()' to re-project geometries to a projected CRS before this operation.\n",
      "\n",
      "  gdf[\"area\"] = gdf.geometry.area\n",
      "/var/folders/f7/jnv35vy91yn53q0rtcj3pklc0000gn/T/ipykernel_77185/2068339415.py:11: UserWarning: Geometry is in a geographic CRS. Results from 'area' are likely incorrect. Use 'GeoSeries.to_crs()' to re-project geometries to a projected CRS before this operation.\n",
      "\n",
      "  gdf[\"area\"] = gdf.geometry.area\n"
     ]
    },
    {
     "name": "stdout",
     "output_type": "stream",
     "text": [
      "ty <class 'geopandas.geodataframe.GeoDataFrame'>\n",
      "ty <class 'geopandas.geodataframe.GeoDataFrame'>\n",
      "ty <class 'geopandas.geodataframe.GeoDataFrame'>\n"
     ]
    },
    {
     "name": "stderr",
     "output_type": "stream",
     "text": [
      "/var/folders/f7/jnv35vy91yn53q0rtcj3pklc0000gn/T/ipykernel_77185/2068339415.py:11: UserWarning: Geometry is in a geographic CRS. Results from 'area' are likely incorrect. Use 'GeoSeries.to_crs()' to re-project geometries to a projected CRS before this operation.\n",
      "\n",
      "  gdf[\"area\"] = gdf.geometry.area\n",
      "/var/folders/f7/jnv35vy91yn53q0rtcj3pklc0000gn/T/ipykernel_77185/2068339415.py:11: UserWarning: Geometry is in a geographic CRS. Results from 'area' are likely incorrect. Use 'GeoSeries.to_crs()' to re-project geometries to a projected CRS before this operation.\n",
      "\n",
      "  gdf[\"area\"] = gdf.geometry.area\n",
      "/var/folders/f7/jnv35vy91yn53q0rtcj3pklc0000gn/T/ipykernel_77185/2068339415.py:11: UserWarning: Geometry is in a geographic CRS. Results from 'area' are likely incorrect. Use 'GeoSeries.to_crs()' to re-project geometries to a projected CRS before this operation.\n",
      "\n",
      "  gdf[\"area\"] = gdf.geometry.area\n",
      "/var/folders/f7/jnv35vy91yn53q0rtcj3pklc0000gn/T/ipykernel_77185/2068339415.py:11: UserWarning: Geometry is in a geographic CRS. Results from 'area' are likely incorrect. Use 'GeoSeries.to_crs()' to re-project geometries to a projected CRS before this operation.\n",
      "\n",
      "  gdf[\"area\"] = gdf.geometry.area\n"
     ]
    },
    {
     "name": "stdout",
     "output_type": "stream",
     "text": [
      "ty <class 'geopandas.geodataframe.GeoDataFrame'>\n",
      "ty <class 'geopandas.geodataframe.GeoDataFrame'>\n",
      "ty <class 'geopandas.geodataframe.GeoDataFrame'>\n",
      "ty <class 'geopandas.geodataframe.GeoDataFrame'>\n"
     ]
    },
    {
     "name": "stderr",
     "output_type": "stream",
     "text": [
      "/var/folders/f7/jnv35vy91yn53q0rtcj3pklc0000gn/T/ipykernel_77185/2068339415.py:11: UserWarning: Geometry is in a geographic CRS. Results from 'area' are likely incorrect. Use 'GeoSeries.to_crs()' to re-project geometries to a projected CRS before this operation.\n",
      "\n",
      "  gdf[\"area\"] = gdf.geometry.area\n",
      "/var/folders/f7/jnv35vy91yn53q0rtcj3pklc0000gn/T/ipykernel_77185/2068339415.py:11: UserWarning: Geometry is in a geographic CRS. Results from 'area' are likely incorrect. Use 'GeoSeries.to_crs()' to re-project geometries to a projected CRS before this operation.\n",
      "\n",
      "  gdf[\"area\"] = gdf.geometry.area\n",
      "/var/folders/f7/jnv35vy91yn53q0rtcj3pklc0000gn/T/ipykernel_77185/2068339415.py:11: UserWarning: Geometry is in a geographic CRS. Results from 'area' are likely incorrect. Use 'GeoSeries.to_crs()' to re-project geometries to a projected CRS before this operation.\n",
      "\n",
      "  gdf[\"area\"] = gdf.geometry.area\n",
      "/var/folders/f7/jnv35vy91yn53q0rtcj3pklc0000gn/T/ipykernel_77185/2068339415.py:11: UserWarning: Geometry is in a geographic CRS. Results from 'area' are likely incorrect. Use 'GeoSeries.to_crs()' to re-project geometries to a projected CRS before this operation.\n",
      "\n",
      "  gdf[\"area\"] = gdf.geometry.area\n"
     ]
    },
    {
     "name": "stdout",
     "output_type": "stream",
     "text": [
      "ty <class 'geopandas.geodataframe.GeoDataFrame'>\n",
      "ty <class 'geopandas.geodataframe.GeoDataFrame'>\n",
      "ty <class 'geopandas.geodataframe.GeoDataFrame'>\n",
      "ty <class 'geopandas.geodataframe.GeoDataFrame'>\n"
     ]
    },
    {
     "name": "stderr",
     "output_type": "stream",
     "text": [
      "/var/folders/f7/jnv35vy91yn53q0rtcj3pklc0000gn/T/ipykernel_77185/2068339415.py:11: UserWarning: Geometry is in a geographic CRS. Results from 'area' are likely incorrect. Use 'GeoSeries.to_crs()' to re-project geometries to a projected CRS before this operation.\n",
      "\n",
      "  gdf[\"area\"] = gdf.geometry.area\n",
      "/var/folders/f7/jnv35vy91yn53q0rtcj3pklc0000gn/T/ipykernel_77185/2068339415.py:11: UserWarning: Geometry is in a geographic CRS. Results from 'area' are likely incorrect. Use 'GeoSeries.to_crs()' to re-project geometries to a projected CRS before this operation.\n",
      "\n",
      "  gdf[\"area\"] = gdf.geometry.area\n",
      "/var/folders/f7/jnv35vy91yn53q0rtcj3pklc0000gn/T/ipykernel_77185/2068339415.py:11: UserWarning: Geometry is in a geographic CRS. Results from 'area' are likely incorrect. Use 'GeoSeries.to_crs()' to re-project geometries to a projected CRS before this operation.\n",
      "\n",
      "  gdf[\"area\"] = gdf.geometry.area\n"
     ]
    },
    {
     "name": "stdout",
     "output_type": "stream",
     "text": [
      "ty <class 'geopandas.geodataframe.GeoDataFrame'>\n",
      "ty <class 'geopandas.geodataframe.GeoDataFrame'>\n",
      "ty <class 'geopandas.geodataframe.GeoDataFrame'>\n"
     ]
    },
    {
     "name": "stderr",
     "output_type": "stream",
     "text": [
      "/var/folders/f7/jnv35vy91yn53q0rtcj3pklc0000gn/T/ipykernel_77185/2068339415.py:11: UserWarning: Geometry is in a geographic CRS. Results from 'area' are likely incorrect. Use 'GeoSeries.to_crs()' to re-project geometries to a projected CRS before this operation.\n",
      "\n",
      "  gdf[\"area\"] = gdf.geometry.area\n",
      "/var/folders/f7/jnv35vy91yn53q0rtcj3pklc0000gn/T/ipykernel_77185/2068339415.py:11: UserWarning: Geometry is in a geographic CRS. Results from 'area' are likely incorrect. Use 'GeoSeries.to_crs()' to re-project geometries to a projected CRS before this operation.\n",
      "\n",
      "  gdf[\"area\"] = gdf.geometry.area\n",
      "/var/folders/f7/jnv35vy91yn53q0rtcj3pklc0000gn/T/ipykernel_77185/2068339415.py:11: UserWarning: Geometry is in a geographic CRS. Results from 'area' are likely incorrect. Use 'GeoSeries.to_crs()' to re-project geometries to a projected CRS before this operation.\n",
      "\n",
      "  gdf[\"area\"] = gdf.geometry.area\n",
      "/var/folders/f7/jnv35vy91yn53q0rtcj3pklc0000gn/T/ipykernel_77185/2068339415.py:11: UserWarning: Geometry is in a geographic CRS. Results from 'area' are likely incorrect. Use 'GeoSeries.to_crs()' to re-project geometries to a projected CRS before this operation.\n",
      "\n",
      "  gdf[\"area\"] = gdf.geometry.area\n"
     ]
    },
    {
     "name": "stdout",
     "output_type": "stream",
     "text": [
      "ty <class 'geopandas.geodataframe.GeoDataFrame'>\n",
      "ty <class 'geopandas.geodataframe.GeoDataFrame'>\n",
      "ty <class 'geopandas.geodataframe.GeoDataFrame'>\n",
      "ty <class 'geopandas.geodataframe.GeoDataFrame'>\n"
     ]
    },
    {
     "name": "stderr",
     "output_type": "stream",
     "text": [
      "/var/folders/f7/jnv35vy91yn53q0rtcj3pklc0000gn/T/ipykernel_77185/2068339415.py:11: UserWarning: Geometry is in a geographic CRS. Results from 'area' are likely incorrect. Use 'GeoSeries.to_crs()' to re-project geometries to a projected CRS before this operation.\n",
      "\n",
      "  gdf[\"area\"] = gdf.geometry.area\n",
      "/var/folders/f7/jnv35vy91yn53q0rtcj3pklc0000gn/T/ipykernel_77185/2068339415.py:11: UserWarning: Geometry is in a geographic CRS. Results from 'area' are likely incorrect. Use 'GeoSeries.to_crs()' to re-project geometries to a projected CRS before this operation.\n",
      "\n",
      "  gdf[\"area\"] = gdf.geometry.area\n",
      "/var/folders/f7/jnv35vy91yn53q0rtcj3pklc0000gn/T/ipykernel_77185/2068339415.py:11: UserWarning: Geometry is in a geographic CRS. Results from 'area' are likely incorrect. Use 'GeoSeries.to_crs()' to re-project geometries to a projected CRS before this operation.\n",
      "\n",
      "  gdf[\"area\"] = gdf.geometry.area\n",
      "/var/folders/f7/jnv35vy91yn53q0rtcj3pklc0000gn/T/ipykernel_77185/2068339415.py:11: UserWarning: Geometry is in a geographic CRS. Results from 'area' are likely incorrect. Use 'GeoSeries.to_crs()' to re-project geometries to a projected CRS before this operation.\n",
      "\n",
      "  gdf[\"area\"] = gdf.geometry.area\n"
     ]
    },
    {
     "name": "stdout",
     "output_type": "stream",
     "text": [
      "ty <class 'geopandas.geodataframe.GeoDataFrame'>\n",
      "ty <class 'geopandas.geodataframe.GeoDataFrame'>\n",
      "ty <class 'geopandas.geodataframe.GeoDataFrame'>\n",
      "ty <class 'geopandas.geodataframe.GeoDataFrame'>\n"
     ]
    },
    {
     "name": "stderr",
     "output_type": "stream",
     "text": [
      "/var/folders/f7/jnv35vy91yn53q0rtcj3pklc0000gn/T/ipykernel_77185/2068339415.py:11: UserWarning: Geometry is in a geographic CRS. Results from 'area' are likely incorrect. Use 'GeoSeries.to_crs()' to re-project geometries to a projected CRS before this operation.\n",
      "\n",
      "  gdf[\"area\"] = gdf.geometry.area\n",
      "/var/folders/f7/jnv35vy91yn53q0rtcj3pklc0000gn/T/ipykernel_77185/2068339415.py:11: UserWarning: Geometry is in a geographic CRS. Results from 'area' are likely incorrect. Use 'GeoSeries.to_crs()' to re-project geometries to a projected CRS before this operation.\n",
      "\n",
      "  gdf[\"area\"] = gdf.geometry.area\n",
      "/var/folders/f7/jnv35vy91yn53q0rtcj3pklc0000gn/T/ipykernel_77185/2068339415.py:11: UserWarning: Geometry is in a geographic CRS. Results from 'area' are likely incorrect. Use 'GeoSeries.to_crs()' to re-project geometries to a projected CRS before this operation.\n",
      "\n",
      "  gdf[\"area\"] = gdf.geometry.area\n",
      "/var/folders/f7/jnv35vy91yn53q0rtcj3pklc0000gn/T/ipykernel_77185/2068339415.py:11: UserWarning: Geometry is in a geographic CRS. Results from 'area' are likely incorrect. Use 'GeoSeries.to_crs()' to re-project geometries to a projected CRS before this operation.\n",
      "\n",
      "  gdf[\"area\"] = gdf.geometry.area\n"
     ]
    },
    {
     "name": "stdout",
     "output_type": "stream",
     "text": [
      "ty <class 'geopandas.geodataframe.GeoDataFrame'>\n",
      "ty <class 'geopandas.geodataframe.GeoDataFrame'>\n",
      "ty <class 'geopandas.geodataframe.GeoDataFrame'>\n",
      "ty <class 'geopandas.geodataframe.GeoDataFrame'>\n"
     ]
    },
    {
     "name": "stderr",
     "output_type": "stream",
     "text": [
      "/var/folders/f7/jnv35vy91yn53q0rtcj3pklc0000gn/T/ipykernel_77185/2068339415.py:11: UserWarning: Geometry is in a geographic CRS. Results from 'area' are likely incorrect. Use 'GeoSeries.to_crs()' to re-project geometries to a projected CRS before this operation.\n",
      "\n",
      "  gdf[\"area\"] = gdf.geometry.area\n",
      "/var/folders/f7/jnv35vy91yn53q0rtcj3pklc0000gn/T/ipykernel_77185/2068339415.py:11: UserWarning: Geometry is in a geographic CRS. Results from 'area' are likely incorrect. Use 'GeoSeries.to_crs()' to re-project geometries to a projected CRS before this operation.\n",
      "\n",
      "  gdf[\"area\"] = gdf.geometry.area\n",
      "/var/folders/f7/jnv35vy91yn53q0rtcj3pklc0000gn/T/ipykernel_77185/2068339415.py:11: UserWarning: Geometry is in a geographic CRS. Results from 'area' are likely incorrect. Use 'GeoSeries.to_crs()' to re-project geometries to a projected CRS before this operation.\n",
      "\n",
      "  gdf[\"area\"] = gdf.geometry.area\n",
      "/var/folders/f7/jnv35vy91yn53q0rtcj3pklc0000gn/T/ipykernel_77185/2068339415.py:11: UserWarning: Geometry is in a geographic CRS. Results from 'area' are likely incorrect. Use 'GeoSeries.to_crs()' to re-project geometries to a projected CRS before this operation.\n",
      "\n",
      "  gdf[\"area\"] = gdf.geometry.area\n"
     ]
    },
    {
     "name": "stdout",
     "output_type": "stream",
     "text": [
      "ty <class 'geopandas.geodataframe.GeoDataFrame'>\n",
      "ty <class 'geopandas.geodataframe.GeoDataFrame'>\n",
      "ty <class 'geopandas.geodataframe.GeoDataFrame'>\n",
      "ty <class 'geopandas.geodataframe.GeoDataFrame'>\n"
     ]
    },
    {
     "name": "stderr",
     "output_type": "stream",
     "text": [
      "/var/folders/f7/jnv35vy91yn53q0rtcj3pklc0000gn/T/ipykernel_77185/2068339415.py:11: UserWarning: Geometry is in a geographic CRS. Results from 'area' are likely incorrect. Use 'GeoSeries.to_crs()' to re-project geometries to a projected CRS before this operation.\n",
      "\n",
      "  gdf[\"area\"] = gdf.geometry.area\n",
      "/var/folders/f7/jnv35vy91yn53q0rtcj3pklc0000gn/T/ipykernel_77185/2068339415.py:11: UserWarning: Geometry is in a geographic CRS. Results from 'area' are likely incorrect. Use 'GeoSeries.to_crs()' to re-project geometries to a projected CRS before this operation.\n",
      "\n",
      "  gdf[\"area\"] = gdf.geometry.area\n",
      "/var/folders/f7/jnv35vy91yn53q0rtcj3pklc0000gn/T/ipykernel_77185/2068339415.py:11: UserWarning: Geometry is in a geographic CRS. Results from 'area' are likely incorrect. Use 'GeoSeries.to_crs()' to re-project geometries to a projected CRS before this operation.\n",
      "\n",
      "  gdf[\"area\"] = gdf.geometry.area\n",
      "/var/folders/f7/jnv35vy91yn53q0rtcj3pklc0000gn/T/ipykernel_77185/2068339415.py:11: UserWarning: Geometry is in a geographic CRS. Results from 'area' are likely incorrect. Use 'GeoSeries.to_crs()' to re-project geometries to a projected CRS before this operation.\n",
      "\n",
      "  gdf[\"area\"] = gdf.geometry.area\n"
     ]
    },
    {
     "name": "stdout",
     "output_type": "stream",
     "text": [
      "ty <class 'geopandas.geodataframe.GeoDataFrame'>\n",
      "ty <class 'geopandas.geodataframe.GeoDataFrame'>\n",
      "ty <class 'geopandas.geodataframe.GeoDataFrame'>\n",
      "ty <class 'geopandas.geodataframe.GeoDataFrame'>\n"
     ]
    },
    {
     "name": "stderr",
     "output_type": "stream",
     "text": [
      "/var/folders/f7/jnv35vy91yn53q0rtcj3pklc0000gn/T/ipykernel_77185/2068339415.py:11: UserWarning: Geometry is in a geographic CRS. Results from 'area' are likely incorrect. Use 'GeoSeries.to_crs()' to re-project geometries to a projected CRS before this operation.\n",
      "\n",
      "  gdf[\"area\"] = gdf.geometry.area\n",
      "/var/folders/f7/jnv35vy91yn53q0rtcj3pklc0000gn/T/ipykernel_77185/2068339415.py:11: UserWarning: Geometry is in a geographic CRS. Results from 'area' are likely incorrect. Use 'GeoSeries.to_crs()' to re-project geometries to a projected CRS before this operation.\n",
      "\n",
      "  gdf[\"area\"] = gdf.geometry.area\n",
      "/var/folders/f7/jnv35vy91yn53q0rtcj3pklc0000gn/T/ipykernel_77185/2068339415.py:11: UserWarning: Geometry is in a geographic CRS. Results from 'area' are likely incorrect. Use 'GeoSeries.to_crs()' to re-project geometries to a projected CRS before this operation.\n",
      "\n",
      "  gdf[\"area\"] = gdf.geometry.area\n",
      "/var/folders/f7/jnv35vy91yn53q0rtcj3pklc0000gn/T/ipykernel_77185/2068339415.py:11: UserWarning: Geometry is in a geographic CRS. Results from 'area' are likely incorrect. Use 'GeoSeries.to_crs()' to re-project geometries to a projected CRS before this operation.\n",
      "\n",
      "  gdf[\"area\"] = gdf.geometry.area\n"
     ]
    },
    {
     "name": "stdout",
     "output_type": "stream",
     "text": [
      "ty <class 'geopandas.geodataframe.GeoDataFrame'>\n",
      "ty <class 'geopandas.geodataframe.GeoDataFrame'>\n",
      "ty <class 'geopandas.geodataframe.GeoDataFrame'>\n",
      "ty <class 'geopandas.geodataframe.GeoDataFrame'>\n"
     ]
    },
    {
     "name": "stderr",
     "output_type": "stream",
     "text": [
      "/var/folders/f7/jnv35vy91yn53q0rtcj3pklc0000gn/T/ipykernel_77185/2068339415.py:11: UserWarning: Geometry is in a geographic CRS. Results from 'area' are likely incorrect. Use 'GeoSeries.to_crs()' to re-project geometries to a projected CRS before this operation.\n",
      "\n",
      "  gdf[\"area\"] = gdf.geometry.area\n",
      "/var/folders/f7/jnv35vy91yn53q0rtcj3pklc0000gn/T/ipykernel_77185/2068339415.py:11: UserWarning: Geometry is in a geographic CRS. Results from 'area' are likely incorrect. Use 'GeoSeries.to_crs()' to re-project geometries to a projected CRS before this operation.\n",
      "\n",
      "  gdf[\"area\"] = gdf.geometry.area\n",
      "/var/folders/f7/jnv35vy91yn53q0rtcj3pklc0000gn/T/ipykernel_77185/2068339415.py:11: UserWarning: Geometry is in a geographic CRS. Results from 'area' are likely incorrect. Use 'GeoSeries.to_crs()' to re-project geometries to a projected CRS before this operation.\n",
      "\n",
      "  gdf[\"area\"] = gdf.geometry.area\n",
      "/var/folders/f7/jnv35vy91yn53q0rtcj3pklc0000gn/T/ipykernel_77185/2068339415.py:11: UserWarning: Geometry is in a geographic CRS. Results from 'area' are likely incorrect. Use 'GeoSeries.to_crs()' to re-project geometries to a projected CRS before this operation.\n",
      "\n",
      "  gdf[\"area\"] = gdf.geometry.area\n"
     ]
    },
    {
     "name": "stdout",
     "output_type": "stream",
     "text": [
      "ty <class 'geopandas.geodataframe.GeoDataFrame'>\n",
      "ty <class 'geopandas.geodataframe.GeoDataFrame'>\n",
      "ty <class 'geopandas.geodataframe.GeoDataFrame'>\n",
      "ty <class 'geopandas.geodataframe.GeoDataFrame'>\n"
     ]
    },
    {
     "name": "stderr",
     "output_type": "stream",
     "text": [
      "/var/folders/f7/jnv35vy91yn53q0rtcj3pklc0000gn/T/ipykernel_77185/2068339415.py:11: UserWarning: Geometry is in a geographic CRS. Results from 'area' are likely incorrect. Use 'GeoSeries.to_crs()' to re-project geometries to a projected CRS before this operation.\n",
      "\n",
      "  gdf[\"area\"] = gdf.geometry.area\n",
      "/var/folders/f7/jnv35vy91yn53q0rtcj3pklc0000gn/T/ipykernel_77185/2068339415.py:11: UserWarning: Geometry is in a geographic CRS. Results from 'area' are likely incorrect. Use 'GeoSeries.to_crs()' to re-project geometries to a projected CRS before this operation.\n",
      "\n",
      "  gdf[\"area\"] = gdf.geometry.area\n",
      "/var/folders/f7/jnv35vy91yn53q0rtcj3pklc0000gn/T/ipykernel_77185/2068339415.py:11: UserWarning: Geometry is in a geographic CRS. Results from 'area' are likely incorrect. Use 'GeoSeries.to_crs()' to re-project geometries to a projected CRS before this operation.\n",
      "\n",
      "  gdf[\"area\"] = gdf.geometry.area\n",
      "/var/folders/f7/jnv35vy91yn53q0rtcj3pklc0000gn/T/ipykernel_77185/2068339415.py:11: UserWarning: Geometry is in a geographic CRS. Results from 'area' are likely incorrect. Use 'GeoSeries.to_crs()' to re-project geometries to a projected CRS before this operation.\n",
      "\n",
      "  gdf[\"area\"] = gdf.geometry.area\n"
     ]
    },
    {
     "name": "stdout",
     "output_type": "stream",
     "text": [
      "ty <class 'geopandas.geodataframe.GeoDataFrame'>\n",
      "ty <class 'geopandas.geodataframe.GeoDataFrame'>\n",
      "ty <class 'geopandas.geodataframe.GeoDataFrame'>\n",
      "ty <class 'geopandas.geodataframe.GeoDataFrame'>\n"
     ]
    },
    {
     "name": "stderr",
     "output_type": "stream",
     "text": [
      "/var/folders/f7/jnv35vy91yn53q0rtcj3pklc0000gn/T/ipykernel_77185/2068339415.py:11: UserWarning: Geometry is in a geographic CRS. Results from 'area' are likely incorrect. Use 'GeoSeries.to_crs()' to re-project geometries to a projected CRS before this operation.\n",
      "\n",
      "  gdf[\"area\"] = gdf.geometry.area\n",
      "/var/folders/f7/jnv35vy91yn53q0rtcj3pklc0000gn/T/ipykernel_77185/2068339415.py:11: UserWarning: Geometry is in a geographic CRS. Results from 'area' are likely incorrect. Use 'GeoSeries.to_crs()' to re-project geometries to a projected CRS before this operation.\n",
      "\n",
      "  gdf[\"area\"] = gdf.geometry.area\n",
      "/var/folders/f7/jnv35vy91yn53q0rtcj3pklc0000gn/T/ipykernel_77185/2068339415.py:11: UserWarning: Geometry is in a geographic CRS. Results from 'area' are likely incorrect. Use 'GeoSeries.to_crs()' to re-project geometries to a projected CRS before this operation.\n",
      "\n",
      "  gdf[\"area\"] = gdf.geometry.area\n",
      "/var/folders/f7/jnv35vy91yn53q0rtcj3pklc0000gn/T/ipykernel_77185/2068339415.py:11: UserWarning: Geometry is in a geographic CRS. Results from 'area' are likely incorrect. Use 'GeoSeries.to_crs()' to re-project geometries to a projected CRS before this operation.\n",
      "\n",
      "  gdf[\"area\"] = gdf.geometry.area\n"
     ]
    },
    {
     "name": "stdout",
     "output_type": "stream",
     "text": [
      "ty <class 'geopandas.geodataframe.GeoDataFrame'>\n",
      "ty <class 'geopandas.geodataframe.GeoDataFrame'>\n",
      "ty <class 'geopandas.geodataframe.GeoDataFrame'>\n",
      "ty <class 'geopandas.geodataframe.GeoDataFrame'>\n"
     ]
    },
    {
     "name": "stderr",
     "output_type": "stream",
     "text": [
      "/var/folders/f7/jnv35vy91yn53q0rtcj3pklc0000gn/T/ipykernel_77185/2068339415.py:11: UserWarning: Geometry is in a geographic CRS. Results from 'area' are likely incorrect. Use 'GeoSeries.to_crs()' to re-project geometries to a projected CRS before this operation.\n",
      "\n",
      "  gdf[\"area\"] = gdf.geometry.area\n",
      "/var/folders/f7/jnv35vy91yn53q0rtcj3pklc0000gn/T/ipykernel_77185/2068339415.py:11: UserWarning: Geometry is in a geographic CRS. Results from 'area' are likely incorrect. Use 'GeoSeries.to_crs()' to re-project geometries to a projected CRS before this operation.\n",
      "\n",
      "  gdf[\"area\"] = gdf.geometry.area\n"
     ]
    },
    {
     "name": "stdout",
     "output_type": "stream",
     "text": [
      "ty <class 'geopandas.geodataframe.GeoDataFrame'>\n",
      "ty <class 'geopandas.geodataframe.GeoDataFrame'>\n"
     ]
    },
    {
     "name": "stderr",
     "output_type": "stream",
     "text": [
      "/var/folders/f7/jnv35vy91yn53q0rtcj3pklc0000gn/T/ipykernel_77185/2068339415.py:11: UserWarning: Geometry is in a geographic CRS. Results from 'area' are likely incorrect. Use 'GeoSeries.to_crs()' to re-project geometries to a projected CRS before this operation.\n",
      "\n",
      "  gdf[\"area\"] = gdf.geometry.area\n",
      "/var/folders/f7/jnv35vy91yn53q0rtcj3pklc0000gn/T/ipykernel_77185/2068339415.py:11: UserWarning: Geometry is in a geographic CRS. Results from 'area' are likely incorrect. Use 'GeoSeries.to_crs()' to re-project geometries to a projected CRS before this operation.\n",
      "\n",
      "  gdf[\"area\"] = gdf.geometry.area\n",
      "/var/folders/f7/jnv35vy91yn53q0rtcj3pklc0000gn/T/ipykernel_77185/2068339415.py:11: UserWarning: Geometry is in a geographic CRS. Results from 'area' are likely incorrect. Use 'GeoSeries.to_crs()' to re-project geometries to a projected CRS before this operation.\n",
      "\n",
      "  gdf[\"area\"] = gdf.geometry.area\n",
      "/var/folders/f7/jnv35vy91yn53q0rtcj3pklc0000gn/T/ipykernel_77185/2068339415.py:11: UserWarning: Geometry is in a geographic CRS. Results from 'area' are likely incorrect. Use 'GeoSeries.to_crs()' to re-project geometries to a projected CRS before this operation.\n",
      "\n",
      "  gdf[\"area\"] = gdf.geometry.area\n"
     ]
    },
    {
     "name": "stdout",
     "output_type": "stream",
     "text": [
      "ty <class 'geopandas.geodataframe.GeoDataFrame'>\n",
      "ty <class 'geopandas.geodataframe.GeoDataFrame'>\n",
      "ty <class 'geopandas.geodataframe.GeoDataFrame'>\n",
      "ty <class 'geopandas.geodataframe.GeoDataFrame'>\n",
      "ty <class 'geopandas.geodataframe.GeoDataFrame'>\n",
      "ty <class 'geopandas.geodataframe.GeoDataFrame'>\n"
     ]
    },
    {
     "name": "stderr",
     "output_type": "stream",
     "text": [
      "/var/folders/f7/jnv35vy91yn53q0rtcj3pklc0000gn/T/ipykernel_77185/2068339415.py:11: UserWarning: Geometry is in a geographic CRS. Results from 'area' are likely incorrect. Use 'GeoSeries.to_crs()' to re-project geometries to a projected CRS before this operation.\n",
      "\n",
      "  gdf[\"area\"] = gdf.geometry.area\n",
      "/var/folders/f7/jnv35vy91yn53q0rtcj3pklc0000gn/T/ipykernel_77185/2068339415.py:11: UserWarning: Geometry is in a geographic CRS. Results from 'area' are likely incorrect. Use 'GeoSeries.to_crs()' to re-project geometries to a projected CRS before this operation.\n",
      "\n",
      "  gdf[\"area\"] = gdf.geometry.area\n",
      "/var/folders/f7/jnv35vy91yn53q0rtcj3pklc0000gn/T/ipykernel_77185/2068339415.py:11: UserWarning: Geometry is in a geographic CRS. Results from 'area' are likely incorrect. Use 'GeoSeries.to_crs()' to re-project geometries to a projected CRS before this operation.\n",
      "\n",
      "  gdf[\"area\"] = gdf.geometry.area\n"
     ]
    },
    {
     "name": "stdout",
     "output_type": "stream",
     "text": [
      "ty <class 'geopandas.geodataframe.GeoDataFrame'>\n",
      "ty <class 'geopandas.geodataframe.GeoDataFrame'>\n",
      "ty <class 'geopandas.geodataframe.GeoDataFrame'>\n"
     ]
    },
    {
     "name": "stderr",
     "output_type": "stream",
     "text": [
      "/var/folders/f7/jnv35vy91yn53q0rtcj3pklc0000gn/T/ipykernel_77185/2068339415.py:11: UserWarning: Geometry is in a geographic CRS. Results from 'area' are likely incorrect. Use 'GeoSeries.to_crs()' to re-project geometries to a projected CRS before this operation.\n",
      "\n",
      "  gdf[\"area\"] = gdf.geometry.area\n",
      "/var/folders/f7/jnv35vy91yn53q0rtcj3pklc0000gn/T/ipykernel_77185/2068339415.py:11: UserWarning: Geometry is in a geographic CRS. Results from 'area' are likely incorrect. Use 'GeoSeries.to_crs()' to re-project geometries to a projected CRS before this operation.\n",
      "\n",
      "  gdf[\"area\"] = gdf.geometry.area\n",
      "/var/folders/f7/jnv35vy91yn53q0rtcj3pklc0000gn/T/ipykernel_77185/2068339415.py:11: UserWarning: Geometry is in a geographic CRS. Results from 'area' are likely incorrect. Use 'GeoSeries.to_crs()' to re-project geometries to a projected CRS before this operation.\n",
      "\n",
      "  gdf[\"area\"] = gdf.geometry.area\n"
     ]
    },
    {
     "name": "stdout",
     "output_type": "stream",
     "text": [
      "ty <class 'geopandas.geodataframe.GeoDataFrame'>\n",
      "ty <class 'geopandas.geodataframe.GeoDataFrame'>\n",
      "ty <class 'geopandas.geodataframe.GeoDataFrame'>\n",
      "ty <class 'geopandas.geodataframe.GeoDataFrame'>\n"
     ]
    },
    {
     "name": "stderr",
     "output_type": "stream",
     "text": [
      "/var/folders/f7/jnv35vy91yn53q0rtcj3pklc0000gn/T/ipykernel_77185/2068339415.py:11: UserWarning: Geometry is in a geographic CRS. Results from 'area' are likely incorrect. Use 'GeoSeries.to_crs()' to re-project geometries to a projected CRS before this operation.\n",
      "\n",
      "  gdf[\"area\"] = gdf.geometry.area\n",
      "/var/folders/f7/jnv35vy91yn53q0rtcj3pklc0000gn/T/ipykernel_77185/2068339415.py:11: UserWarning: Geometry is in a geographic CRS. Results from 'area' are likely incorrect. Use 'GeoSeries.to_crs()' to re-project geometries to a projected CRS before this operation.\n",
      "\n",
      "  gdf[\"area\"] = gdf.geometry.area\n",
      "/var/folders/f7/jnv35vy91yn53q0rtcj3pklc0000gn/T/ipykernel_77185/2068339415.py:11: UserWarning: Geometry is in a geographic CRS. Results from 'area' are likely incorrect. Use 'GeoSeries.to_crs()' to re-project geometries to a projected CRS before this operation.\n",
      "\n",
      "  gdf[\"area\"] = gdf.geometry.area\n",
      "/var/folders/f7/jnv35vy91yn53q0rtcj3pklc0000gn/T/ipykernel_77185/2068339415.py:11: UserWarning: Geometry is in a geographic CRS. Results from 'area' are likely incorrect. Use 'GeoSeries.to_crs()' to re-project geometries to a projected CRS before this operation.\n",
      "\n",
      "  gdf[\"area\"] = gdf.geometry.area\n"
     ]
    },
    {
     "name": "stdout",
     "output_type": "stream",
     "text": [
      "ty <class 'geopandas.geodataframe.GeoDataFrame'>\n",
      "ty <class 'geopandas.geodataframe.GeoDataFrame'>\n",
      "ty <class 'geopandas.geodataframe.GeoDataFrame'>\n"
     ]
    },
    {
     "name": "stderr",
     "output_type": "stream",
     "text": [
      "/var/folders/f7/jnv35vy91yn53q0rtcj3pklc0000gn/T/ipykernel_77185/2068339415.py:11: UserWarning: Geometry is in a geographic CRS. Results from 'area' are likely incorrect. Use 'GeoSeries.to_crs()' to re-project geometries to a projected CRS before this operation.\n",
      "\n",
      "  gdf[\"area\"] = gdf.geometry.area\n",
      "/var/folders/f7/jnv35vy91yn53q0rtcj3pklc0000gn/T/ipykernel_77185/2068339415.py:11: UserWarning: Geometry is in a geographic CRS. Results from 'area' are likely incorrect. Use 'GeoSeries.to_crs()' to re-project geometries to a projected CRS before this operation.\n",
      "\n",
      "  gdf[\"area\"] = gdf.geometry.area\n",
      "/var/folders/f7/jnv35vy91yn53q0rtcj3pklc0000gn/T/ipykernel_77185/2068339415.py:11: UserWarning: Geometry is in a geographic CRS. Results from 'area' are likely incorrect. Use 'GeoSeries.to_crs()' to re-project geometries to a projected CRS before this operation.\n",
      "\n",
      "  gdf[\"area\"] = gdf.geometry.area\n"
     ]
    },
    {
     "name": "stdout",
     "output_type": "stream",
     "text": [
      "ty <class 'geopandas.geodataframe.GeoDataFrame'>\n",
      "ty <class 'geopandas.geodataframe.GeoDataFrame'>\n",
      "ty <class 'geopandas.geodataframe.GeoDataFrame'>\n"
     ]
    },
    {
     "name": "stderr",
     "output_type": "stream",
     "text": [
      "/var/folders/f7/jnv35vy91yn53q0rtcj3pklc0000gn/T/ipykernel_77185/2068339415.py:11: UserWarning: Geometry is in a geographic CRS. Results from 'area' are likely incorrect. Use 'GeoSeries.to_crs()' to re-project geometries to a projected CRS before this operation.\n",
      "\n",
      "  gdf[\"area\"] = gdf.geometry.area\n",
      "/var/folders/f7/jnv35vy91yn53q0rtcj3pklc0000gn/T/ipykernel_77185/2068339415.py:11: UserWarning: Geometry is in a geographic CRS. Results from 'area' are likely incorrect. Use 'GeoSeries.to_crs()' to re-project geometries to a projected CRS before this operation.\n",
      "\n",
      "  gdf[\"area\"] = gdf.geometry.area\n",
      "/var/folders/f7/jnv35vy91yn53q0rtcj3pklc0000gn/T/ipykernel_77185/2068339415.py:11: UserWarning: Geometry is in a geographic CRS. Results from 'area' are likely incorrect. Use 'GeoSeries.to_crs()' to re-project geometries to a projected CRS before this operation.\n",
      "\n",
      "  gdf[\"area\"] = gdf.geometry.area\n",
      "/var/folders/f7/jnv35vy91yn53q0rtcj3pklc0000gn/T/ipykernel_77185/2068339415.py:11: UserWarning: Geometry is in a geographic CRS. Results from 'area' are likely incorrect. Use 'GeoSeries.to_crs()' to re-project geometries to a projected CRS before this operation.\n",
      "\n",
      "  gdf[\"area\"] = gdf.geometry.area\n"
     ]
    },
    {
     "name": "stdout",
     "output_type": "stream",
     "text": [
      "ty <class 'geopandas.geodataframe.GeoDataFrame'>\n",
      "ty <class 'geopandas.geodataframe.GeoDataFrame'>\n",
      "ty <class 'geopandas.geodataframe.GeoDataFrame'>\n"
     ]
    },
    {
     "name": "stderr",
     "output_type": "stream",
     "text": [
      "/var/folders/f7/jnv35vy91yn53q0rtcj3pklc0000gn/T/ipykernel_77185/2068339415.py:11: UserWarning: Geometry is in a geographic CRS. Results from 'area' are likely incorrect. Use 'GeoSeries.to_crs()' to re-project geometries to a projected CRS before this operation.\n",
      "\n",
      "  gdf[\"area\"] = gdf.geometry.area\n",
      "/var/folders/f7/jnv35vy91yn53q0rtcj3pklc0000gn/T/ipykernel_77185/2068339415.py:11: UserWarning: Geometry is in a geographic CRS. Results from 'area' are likely incorrect. Use 'GeoSeries.to_crs()' to re-project geometries to a projected CRS before this operation.\n",
      "\n",
      "  gdf[\"area\"] = gdf.geometry.area\n",
      "/var/folders/f7/jnv35vy91yn53q0rtcj3pklc0000gn/T/ipykernel_77185/2068339415.py:11: UserWarning: Geometry is in a geographic CRS. Results from 'area' are likely incorrect. Use 'GeoSeries.to_crs()' to re-project geometries to a projected CRS before this operation.\n",
      "\n",
      "  gdf[\"area\"] = gdf.geometry.area\n",
      "/var/folders/f7/jnv35vy91yn53q0rtcj3pklc0000gn/T/ipykernel_77185/2068339415.py:11: UserWarning: Geometry is in a geographic CRS. Results from 'area' are likely incorrect. Use 'GeoSeries.to_crs()' to re-project geometries to a projected CRS before this operation.\n",
      "\n",
      "  gdf[\"area\"] = gdf.geometry.area\n"
     ]
    },
    {
     "name": "stdout",
     "output_type": "stream",
     "text": [
      "ty <class 'geopandas.geodataframe.GeoDataFrame'>\n",
      "ty <class 'geopandas.geodataframe.GeoDataFrame'>\n",
      "ty <class 'geopandas.geodataframe.GeoDataFrame'>\n"
     ]
    },
    {
     "name": "stderr",
     "output_type": "stream",
     "text": [
      "/var/folders/f7/jnv35vy91yn53q0rtcj3pklc0000gn/T/ipykernel_77185/2068339415.py:11: UserWarning: Geometry is in a geographic CRS. Results from 'area' are likely incorrect. Use 'GeoSeries.to_crs()' to re-project geometries to a projected CRS before this operation.\n",
      "\n",
      "  gdf[\"area\"] = gdf.geometry.area\n",
      "/var/folders/f7/jnv35vy91yn53q0rtcj3pklc0000gn/T/ipykernel_77185/2068339415.py:11: UserWarning: Geometry is in a geographic CRS. Results from 'area' are likely incorrect. Use 'GeoSeries.to_crs()' to re-project geometries to a projected CRS before this operation.\n",
      "\n",
      "  gdf[\"area\"] = gdf.geometry.area\n",
      "/var/folders/f7/jnv35vy91yn53q0rtcj3pklc0000gn/T/ipykernel_77185/2068339415.py:11: UserWarning: Geometry is in a geographic CRS. Results from 'area' are likely incorrect. Use 'GeoSeries.to_crs()' to re-project geometries to a projected CRS before this operation.\n",
      "\n",
      "  gdf[\"area\"] = gdf.geometry.area\n"
     ]
    },
    {
     "name": "stdout",
     "output_type": "stream",
     "text": [
      "ty <class 'geopandas.geodataframe.GeoDataFrame'>\n",
      "ty <class 'geopandas.geodataframe.GeoDataFrame'>\n",
      "ty <class 'geopandas.geodataframe.GeoDataFrame'>\n"
     ]
    },
    {
     "name": "stderr",
     "output_type": "stream",
     "text": [
      "/var/folders/f7/jnv35vy91yn53q0rtcj3pklc0000gn/T/ipykernel_77185/2068339415.py:11: UserWarning: Geometry is in a geographic CRS. Results from 'area' are likely incorrect. Use 'GeoSeries.to_crs()' to re-project geometries to a projected CRS before this operation.\n",
      "\n",
      "  gdf[\"area\"] = gdf.geometry.area\n",
      "/var/folders/f7/jnv35vy91yn53q0rtcj3pklc0000gn/T/ipykernel_77185/2068339415.py:11: UserWarning: Geometry is in a geographic CRS. Results from 'area' are likely incorrect. Use 'GeoSeries.to_crs()' to re-project geometries to a projected CRS before this operation.\n",
      "\n",
      "  gdf[\"area\"] = gdf.geometry.area\n",
      "/var/folders/f7/jnv35vy91yn53q0rtcj3pklc0000gn/T/ipykernel_77185/2068339415.py:11: UserWarning: Geometry is in a geographic CRS. Results from 'area' are likely incorrect. Use 'GeoSeries.to_crs()' to re-project geometries to a projected CRS before this operation.\n",
      "\n",
      "  gdf[\"area\"] = gdf.geometry.area\n"
     ]
    },
    {
     "name": "stdout",
     "output_type": "stream",
     "text": [
      "ty <class 'geopandas.geodataframe.GeoDataFrame'>\n",
      "ty <class 'geopandas.geodataframe.GeoDataFrame'>\n",
      "ty <class 'geopandas.geodataframe.GeoDataFrame'>\n"
     ]
    },
    {
     "name": "stderr",
     "output_type": "stream",
     "text": [
      "/var/folders/f7/jnv35vy91yn53q0rtcj3pklc0000gn/T/ipykernel_77185/2068339415.py:11: UserWarning: Geometry is in a geographic CRS. Results from 'area' are likely incorrect. Use 'GeoSeries.to_crs()' to re-project geometries to a projected CRS before this operation.\n",
      "\n",
      "  gdf[\"area\"] = gdf.geometry.area\n",
      "/var/folders/f7/jnv35vy91yn53q0rtcj3pklc0000gn/T/ipykernel_77185/2068339415.py:11: UserWarning: Geometry is in a geographic CRS. Results from 'area' are likely incorrect. Use 'GeoSeries.to_crs()' to re-project geometries to a projected CRS before this operation.\n",
      "\n",
      "  gdf[\"area\"] = gdf.geometry.area\n",
      "/var/folders/f7/jnv35vy91yn53q0rtcj3pklc0000gn/T/ipykernel_77185/2068339415.py:11: UserWarning: Geometry is in a geographic CRS. Results from 'area' are likely incorrect. Use 'GeoSeries.to_crs()' to re-project geometries to a projected CRS before this operation.\n",
      "\n",
      "  gdf[\"area\"] = gdf.geometry.area\n",
      "/var/folders/f7/jnv35vy91yn53q0rtcj3pklc0000gn/T/ipykernel_77185/2068339415.py:11: UserWarning: Geometry is in a geographic CRS. Results from 'area' are likely incorrect. Use 'GeoSeries.to_crs()' to re-project geometries to a projected CRS before this operation.\n",
      "\n",
      "  gdf[\"area\"] = gdf.geometry.area\n"
     ]
    },
    {
     "name": "stdout",
     "output_type": "stream",
     "text": [
      "ty <class 'geopandas.geodataframe.GeoDataFrame'>\n",
      "ty <class 'geopandas.geodataframe.GeoDataFrame'>\n",
      "ty <class 'geopandas.geodataframe.GeoDataFrame'>\n",
      "ty <class 'geopandas.geodataframe.GeoDataFrame'>\n"
     ]
    },
    {
     "name": "stderr",
     "output_type": "stream",
     "text": [
      "/var/folders/f7/jnv35vy91yn53q0rtcj3pklc0000gn/T/ipykernel_77185/2068339415.py:11: UserWarning: Geometry is in a geographic CRS. Results from 'area' are likely incorrect. Use 'GeoSeries.to_crs()' to re-project geometries to a projected CRS before this operation.\n",
      "\n",
      "  gdf[\"area\"] = gdf.geometry.area\n",
      "/var/folders/f7/jnv35vy91yn53q0rtcj3pklc0000gn/T/ipykernel_77185/2068339415.py:11: UserWarning: Geometry is in a geographic CRS. Results from 'area' are likely incorrect. Use 'GeoSeries.to_crs()' to re-project geometries to a projected CRS before this operation.\n",
      "\n",
      "  gdf[\"area\"] = gdf.geometry.area\n",
      "/var/folders/f7/jnv35vy91yn53q0rtcj3pklc0000gn/T/ipykernel_77185/2068339415.py:11: UserWarning: Geometry is in a geographic CRS. Results from 'area' are likely incorrect. Use 'GeoSeries.to_crs()' to re-project geometries to a projected CRS before this operation.\n",
      "\n",
      "  gdf[\"area\"] = gdf.geometry.area\n",
      "/var/folders/f7/jnv35vy91yn53q0rtcj3pklc0000gn/T/ipykernel_77185/2068339415.py:11: UserWarning: Geometry is in a geographic CRS. Results from 'area' are likely incorrect. Use 'GeoSeries.to_crs()' to re-project geometries to a projected CRS before this operation.\n",
      "\n",
      "  gdf[\"area\"] = gdf.geometry.area\n"
     ]
    },
    {
     "name": "stdout",
     "output_type": "stream",
     "text": [
      "ty <class 'geopandas.geodataframe.GeoDataFrame'>\n",
      "ty <class 'geopandas.geodataframe.GeoDataFrame'>\n",
      "ty <class 'geopandas.geodataframe.GeoDataFrame'>\n",
      "ty <class 'geopandas.geodataframe.GeoDataFrame'>\n"
     ]
    },
    {
     "name": "stderr",
     "output_type": "stream",
     "text": [
      "/var/folders/f7/jnv35vy91yn53q0rtcj3pklc0000gn/T/ipykernel_77185/2068339415.py:11: UserWarning: Geometry is in a geographic CRS. Results from 'area' are likely incorrect. Use 'GeoSeries.to_crs()' to re-project geometries to a projected CRS before this operation.\n",
      "\n",
      "  gdf[\"area\"] = gdf.geometry.area\n",
      "/var/folders/f7/jnv35vy91yn53q0rtcj3pklc0000gn/T/ipykernel_77185/2068339415.py:11: UserWarning: Geometry is in a geographic CRS. Results from 'area' are likely incorrect. Use 'GeoSeries.to_crs()' to re-project geometries to a projected CRS before this operation.\n",
      "\n",
      "  gdf[\"area\"] = gdf.geometry.area\n",
      "/var/folders/f7/jnv35vy91yn53q0rtcj3pklc0000gn/T/ipykernel_77185/2068339415.py:11: UserWarning: Geometry is in a geographic CRS. Results from 'area' are likely incorrect. Use 'GeoSeries.to_crs()' to re-project geometries to a projected CRS before this operation.\n",
      "\n",
      "  gdf[\"area\"] = gdf.geometry.area\n",
      "/var/folders/f7/jnv35vy91yn53q0rtcj3pklc0000gn/T/ipykernel_77185/2068339415.py:11: UserWarning: Geometry is in a geographic CRS. Results from 'area' are likely incorrect. Use 'GeoSeries.to_crs()' to re-project geometries to a projected CRS before this operation.\n",
      "\n",
      "  gdf[\"area\"] = gdf.geometry.area\n"
     ]
    },
    {
     "name": "stdout",
     "output_type": "stream",
     "text": [
      "ty <class 'geopandas.geodataframe.GeoDataFrame'>\n",
      "ty <class 'geopandas.geodataframe.GeoDataFrame'>\n",
      "ty <class 'geopandas.geodataframe.GeoDataFrame'>\n",
      "ty <class 'geopandas.geodataframe.GeoDataFrame'>\n"
     ]
    },
    {
     "name": "stderr",
     "output_type": "stream",
     "text": [
      "/var/folders/f7/jnv35vy91yn53q0rtcj3pklc0000gn/T/ipykernel_77185/2068339415.py:11: UserWarning: Geometry is in a geographic CRS. Results from 'area' are likely incorrect. Use 'GeoSeries.to_crs()' to re-project geometries to a projected CRS before this operation.\n",
      "\n",
      "  gdf[\"area\"] = gdf.geometry.area\n",
      "/var/folders/f7/jnv35vy91yn53q0rtcj3pklc0000gn/T/ipykernel_77185/2068339415.py:11: UserWarning: Geometry is in a geographic CRS. Results from 'area' are likely incorrect. Use 'GeoSeries.to_crs()' to re-project geometries to a projected CRS before this operation.\n",
      "\n",
      "  gdf[\"area\"] = gdf.geometry.area\n",
      "/var/folders/f7/jnv35vy91yn53q0rtcj3pklc0000gn/T/ipykernel_77185/2068339415.py:11: UserWarning: Geometry is in a geographic CRS. Results from 'area' are likely incorrect. Use 'GeoSeries.to_crs()' to re-project geometries to a projected CRS before this operation.\n",
      "\n",
      "  gdf[\"area\"] = gdf.geometry.area\n",
      "/var/folders/f7/jnv35vy91yn53q0rtcj3pklc0000gn/T/ipykernel_77185/2068339415.py:11: UserWarning: Geometry is in a geographic CRS. Results from 'area' are likely incorrect. Use 'GeoSeries.to_crs()' to re-project geometries to a projected CRS before this operation.\n",
      "\n",
      "  gdf[\"area\"] = gdf.geometry.area\n"
     ]
    },
    {
     "name": "stdout",
     "output_type": "stream",
     "text": [
      "ty <class 'geopandas.geodataframe.GeoDataFrame'>\n",
      "ty <class 'geopandas.geodataframe.GeoDataFrame'>\n",
      "ty <class 'geopandas.geodataframe.GeoDataFrame'>\n",
      "ty <class 'geopandas.geodataframe.GeoDataFrame'>\n"
     ]
    },
    {
     "name": "stderr",
     "output_type": "stream",
     "text": [
      "/var/folders/f7/jnv35vy91yn53q0rtcj3pklc0000gn/T/ipykernel_77185/2068339415.py:11: UserWarning: Geometry is in a geographic CRS. Results from 'area' are likely incorrect. Use 'GeoSeries.to_crs()' to re-project geometries to a projected CRS before this operation.\n",
      "\n",
      "  gdf[\"area\"] = gdf.geometry.area\n",
      "/var/folders/f7/jnv35vy91yn53q0rtcj3pklc0000gn/T/ipykernel_77185/2068339415.py:11: UserWarning: Geometry is in a geographic CRS. Results from 'area' are likely incorrect. Use 'GeoSeries.to_crs()' to re-project geometries to a projected CRS before this operation.\n",
      "\n",
      "  gdf[\"area\"] = gdf.geometry.area\n",
      "/var/folders/f7/jnv35vy91yn53q0rtcj3pklc0000gn/T/ipykernel_77185/2068339415.py:11: UserWarning: Geometry is in a geographic CRS. Results from 'area' are likely incorrect. Use 'GeoSeries.to_crs()' to re-project geometries to a projected CRS before this operation.\n",
      "\n",
      "  gdf[\"area\"] = gdf.geometry.area\n",
      "/var/folders/f7/jnv35vy91yn53q0rtcj3pklc0000gn/T/ipykernel_77185/2068339415.py:11: UserWarning: Geometry is in a geographic CRS. Results from 'area' are likely incorrect. Use 'GeoSeries.to_crs()' to re-project geometries to a projected CRS before this operation.\n",
      "\n",
      "  gdf[\"area\"] = gdf.geometry.area\n"
     ]
    },
    {
     "name": "stdout",
     "output_type": "stream",
     "text": [
      "ty <class 'geopandas.geodataframe.GeoDataFrame'>\n",
      "ty <class 'geopandas.geodataframe.GeoDataFrame'>\n",
      "ty <class 'geopandas.geodataframe.GeoDataFrame'>\n",
      "ty <class 'geopandas.geodataframe.GeoDataFrame'>\n"
     ]
    },
    {
     "name": "stderr",
     "output_type": "stream",
     "text": [
      "/var/folders/f7/jnv35vy91yn53q0rtcj3pklc0000gn/T/ipykernel_77185/2068339415.py:11: UserWarning: Geometry is in a geographic CRS. Results from 'area' are likely incorrect. Use 'GeoSeries.to_crs()' to re-project geometries to a projected CRS before this operation.\n",
      "\n",
      "  gdf[\"area\"] = gdf.geometry.area\n",
      "/var/folders/f7/jnv35vy91yn53q0rtcj3pklc0000gn/T/ipykernel_77185/2068339415.py:11: UserWarning: Geometry is in a geographic CRS. Results from 'area' are likely incorrect. Use 'GeoSeries.to_crs()' to re-project geometries to a projected CRS before this operation.\n",
      "\n",
      "  gdf[\"area\"] = gdf.geometry.area\n",
      "/var/folders/f7/jnv35vy91yn53q0rtcj3pklc0000gn/T/ipykernel_77185/2068339415.py:11: UserWarning: Geometry is in a geographic CRS. Results from 'area' are likely incorrect. Use 'GeoSeries.to_crs()' to re-project geometries to a projected CRS before this operation.\n",
      "\n",
      "  gdf[\"area\"] = gdf.geometry.area\n"
     ]
    },
    {
     "name": "stdout",
     "output_type": "stream",
     "text": [
      "ty <class 'geopandas.geodataframe.GeoDataFrame'>\n",
      "ty <class 'geopandas.geodataframe.GeoDataFrame'>\n",
      "ty <class 'geopandas.geodataframe.GeoDataFrame'>\n"
     ]
    },
    {
     "name": "stderr",
     "output_type": "stream",
     "text": [
      "/var/folders/f7/jnv35vy91yn53q0rtcj3pklc0000gn/T/ipykernel_77185/2068339415.py:11: UserWarning: Geometry is in a geographic CRS. Results from 'area' are likely incorrect. Use 'GeoSeries.to_crs()' to re-project geometries to a projected CRS before this operation.\n",
      "\n",
      "  gdf[\"area\"] = gdf.geometry.area\n",
      "/var/folders/f7/jnv35vy91yn53q0rtcj3pklc0000gn/T/ipykernel_77185/2068339415.py:11: UserWarning: Geometry is in a geographic CRS. Results from 'area' are likely incorrect. Use 'GeoSeries.to_crs()' to re-project geometries to a projected CRS before this operation.\n",
      "\n",
      "  gdf[\"area\"] = gdf.geometry.area\n"
     ]
    },
    {
     "name": "stdout",
     "output_type": "stream",
     "text": [
      "ty <class 'geopandas.geodataframe.GeoDataFrame'>\n",
      "ty <class 'geopandas.geodataframe.GeoDataFrame'>\n"
     ]
    },
    {
     "name": "stderr",
     "output_type": "stream",
     "text": [
      "/var/folders/f7/jnv35vy91yn53q0rtcj3pklc0000gn/T/ipykernel_77185/2068339415.py:11: UserWarning: Geometry is in a geographic CRS. Results from 'area' are likely incorrect. Use 'GeoSeries.to_crs()' to re-project geometries to a projected CRS before this operation.\n",
      "\n",
      "  gdf[\"area\"] = gdf.geometry.area\n",
      "/var/folders/f7/jnv35vy91yn53q0rtcj3pklc0000gn/T/ipykernel_77185/2068339415.py:11: UserWarning: Geometry is in a geographic CRS. Results from 'area' are likely incorrect. Use 'GeoSeries.to_crs()' to re-project geometries to a projected CRS before this operation.\n",
      "\n",
      "  gdf[\"area\"] = gdf.geometry.area\n"
     ]
    },
    {
     "name": "stdout",
     "output_type": "stream",
     "text": [
      "ty <class 'geopandas.geodataframe.GeoDataFrame'>\n",
      "ty <class 'geopandas.geodataframe.GeoDataFrame'>\n",
      "ty <class 'geopandas.geodataframe.GeoDataFrame'>\n"
     ]
    },
    {
     "name": "stderr",
     "output_type": "stream",
     "text": [
      "/var/folders/f7/jnv35vy91yn53q0rtcj3pklc0000gn/T/ipykernel_77185/2068339415.py:11: UserWarning: Geometry is in a geographic CRS. Results from 'area' are likely incorrect. Use 'GeoSeries.to_crs()' to re-project geometries to a projected CRS before this operation.\n",
      "\n",
      "  gdf[\"area\"] = gdf.geometry.area\n",
      "/var/folders/f7/jnv35vy91yn53q0rtcj3pklc0000gn/T/ipykernel_77185/2068339415.py:11: UserWarning: Geometry is in a geographic CRS. Results from 'area' are likely incorrect. Use 'GeoSeries.to_crs()' to re-project geometries to a projected CRS before this operation.\n",
      "\n",
      "  gdf[\"area\"] = gdf.geometry.area\n",
      "/var/folders/f7/jnv35vy91yn53q0rtcj3pklc0000gn/T/ipykernel_77185/2068339415.py:11: UserWarning: Geometry is in a geographic CRS. Results from 'area' are likely incorrect. Use 'GeoSeries.to_crs()' to re-project geometries to a projected CRS before this operation.\n",
      "\n",
      "  gdf[\"area\"] = gdf.geometry.area\n",
      "/var/folders/f7/jnv35vy91yn53q0rtcj3pklc0000gn/T/ipykernel_77185/2068339415.py:11: UserWarning: Geometry is in a geographic CRS. Results from 'area' are likely incorrect. Use 'GeoSeries.to_crs()' to re-project geometries to a projected CRS before this operation.\n",
      "\n",
      "  gdf[\"area\"] = gdf.geometry.area\n"
     ]
    },
    {
     "name": "stdout",
     "output_type": "stream",
     "text": [
      "ty <class 'geopandas.geodataframe.GeoDataFrame'>\n",
      "ty <class 'geopandas.geodataframe.GeoDataFrame'>\n",
      "ty <class 'geopandas.geodataframe.GeoDataFrame'>\n",
      "ty <class 'geopandas.geodataframe.GeoDataFrame'>\n"
     ]
    },
    {
     "name": "stderr",
     "output_type": "stream",
     "text": [
      "/var/folders/f7/jnv35vy91yn53q0rtcj3pklc0000gn/T/ipykernel_77185/2068339415.py:11: UserWarning: Geometry is in a geographic CRS. Results from 'area' are likely incorrect. Use 'GeoSeries.to_crs()' to re-project geometries to a projected CRS before this operation.\n",
      "\n",
      "  gdf[\"area\"] = gdf.geometry.area\n",
      "/var/folders/f7/jnv35vy91yn53q0rtcj3pklc0000gn/T/ipykernel_77185/2068339415.py:11: UserWarning: Geometry is in a geographic CRS. Results from 'area' are likely incorrect. Use 'GeoSeries.to_crs()' to re-project geometries to a projected CRS before this operation.\n",
      "\n",
      "  gdf[\"area\"] = gdf.geometry.area\n",
      "/var/folders/f7/jnv35vy91yn53q0rtcj3pklc0000gn/T/ipykernel_77185/2068339415.py:11: UserWarning: Geometry is in a geographic CRS. Results from 'area' are likely incorrect. Use 'GeoSeries.to_crs()' to re-project geometries to a projected CRS before this operation.\n",
      "\n",
      "  gdf[\"area\"] = gdf.geometry.area\n"
     ]
    },
    {
     "name": "stdout",
     "output_type": "stream",
     "text": [
      "ty <class 'geopandas.geodataframe.GeoDataFrame'>\n",
      "ty <class 'geopandas.geodataframe.GeoDataFrame'>\n",
      "ty <class 'geopandas.geodataframe.GeoDataFrame'>\n"
     ]
    },
    {
     "name": "stderr",
     "output_type": "stream",
     "text": [
      "/var/folders/f7/jnv35vy91yn53q0rtcj3pklc0000gn/T/ipykernel_77185/2068339415.py:11: UserWarning: Geometry is in a geographic CRS. Results from 'area' are likely incorrect. Use 'GeoSeries.to_crs()' to re-project geometries to a projected CRS before this operation.\n",
      "\n",
      "  gdf[\"area\"] = gdf.geometry.area\n",
      "/var/folders/f7/jnv35vy91yn53q0rtcj3pklc0000gn/T/ipykernel_77185/2068339415.py:11: UserWarning: Geometry is in a geographic CRS. Results from 'area' are likely incorrect. Use 'GeoSeries.to_crs()' to re-project geometries to a projected CRS before this operation.\n",
      "\n",
      "  gdf[\"area\"] = gdf.geometry.area\n",
      "/var/folders/f7/jnv35vy91yn53q0rtcj3pklc0000gn/T/ipykernel_77185/2068339415.py:11: UserWarning: Geometry is in a geographic CRS. Results from 'area' are likely incorrect. Use 'GeoSeries.to_crs()' to re-project geometries to a projected CRS before this operation.\n",
      "\n",
      "  gdf[\"area\"] = gdf.geometry.area\n"
     ]
    },
    {
     "name": "stdout",
     "output_type": "stream",
     "text": [
      "ty <class 'geopandas.geodataframe.GeoDataFrame'>\n",
      "ty <class 'geopandas.geodataframe.GeoDataFrame'>\n",
      "ty <class 'geopandas.geodataframe.GeoDataFrame'>\n"
     ]
    },
    {
     "name": "stderr",
     "output_type": "stream",
     "text": [
      "/var/folders/f7/jnv35vy91yn53q0rtcj3pklc0000gn/T/ipykernel_77185/2068339415.py:11: UserWarning: Geometry is in a geographic CRS. Results from 'area' are likely incorrect. Use 'GeoSeries.to_crs()' to re-project geometries to a projected CRS before this operation.\n",
      "\n",
      "  gdf[\"area\"] = gdf.geometry.area\n",
      "/var/folders/f7/jnv35vy91yn53q0rtcj3pklc0000gn/T/ipykernel_77185/2068339415.py:11: UserWarning: Geometry is in a geographic CRS. Results from 'area' are likely incorrect. Use 'GeoSeries.to_crs()' to re-project geometries to a projected CRS before this operation.\n",
      "\n",
      "  gdf[\"area\"] = gdf.geometry.area\n"
     ]
    },
    {
     "name": "stdout",
     "output_type": "stream",
     "text": [
      "ty <class 'geopandas.geodataframe.GeoDataFrame'>\n",
      "ty <class 'geopandas.geodataframe.GeoDataFrame'>\n",
      "ty <class 'geopandas.geodataframe.GeoDataFrame'>\n"
     ]
    },
    {
     "name": "stderr",
     "output_type": "stream",
     "text": [
      "/var/folders/f7/jnv35vy91yn53q0rtcj3pklc0000gn/T/ipykernel_77185/2068339415.py:11: UserWarning: Geometry is in a geographic CRS. Results from 'area' are likely incorrect. Use 'GeoSeries.to_crs()' to re-project geometries to a projected CRS before this operation.\n",
      "\n",
      "  gdf[\"area\"] = gdf.geometry.area\n",
      "/var/folders/f7/jnv35vy91yn53q0rtcj3pklc0000gn/T/ipykernel_77185/2068339415.py:11: UserWarning: Geometry is in a geographic CRS. Results from 'area' are likely incorrect. Use 'GeoSeries.to_crs()' to re-project geometries to a projected CRS before this operation.\n",
      "\n",
      "  gdf[\"area\"] = gdf.geometry.area\n",
      "/var/folders/f7/jnv35vy91yn53q0rtcj3pklc0000gn/T/ipykernel_77185/2068339415.py:11: UserWarning: Geometry is in a geographic CRS. Results from 'area' are likely incorrect. Use 'GeoSeries.to_crs()' to re-project geometries to a projected CRS before this operation.\n",
      "\n",
      "  gdf[\"area\"] = gdf.geometry.area\n"
     ]
    },
    {
     "name": "stdout",
     "output_type": "stream",
     "text": [
      "ty <class 'geopandas.geodataframe.GeoDataFrame'>\n",
      "ty <class 'geopandas.geodataframe.GeoDataFrame'>\n",
      "ty <class 'geopandas.geodataframe.GeoDataFrame'>\n"
     ]
    },
    {
     "name": "stderr",
     "output_type": "stream",
     "text": [
      "/var/folders/f7/jnv35vy91yn53q0rtcj3pklc0000gn/T/ipykernel_77185/2068339415.py:11: UserWarning: Geometry is in a geographic CRS. Results from 'area' are likely incorrect. Use 'GeoSeries.to_crs()' to re-project geometries to a projected CRS before this operation.\n",
      "\n",
      "  gdf[\"area\"] = gdf.geometry.area\n",
      "/var/folders/f7/jnv35vy91yn53q0rtcj3pklc0000gn/T/ipykernel_77185/2068339415.py:11: UserWarning: Geometry is in a geographic CRS. Results from 'area' are likely incorrect. Use 'GeoSeries.to_crs()' to re-project geometries to a projected CRS before this operation.\n",
      "\n",
      "  gdf[\"area\"] = gdf.geometry.area\n",
      "/var/folders/f7/jnv35vy91yn53q0rtcj3pklc0000gn/T/ipykernel_77185/2068339415.py:11: UserWarning: Geometry is in a geographic CRS. Results from 'area' are likely incorrect. Use 'GeoSeries.to_crs()' to re-project geometries to a projected CRS before this operation.\n",
      "\n",
      "  gdf[\"area\"] = gdf.geometry.area\n"
     ]
    },
    {
     "name": "stdout",
     "output_type": "stream",
     "text": [
      "ty <class 'geopandas.geodataframe.GeoDataFrame'>\n",
      "ty <class 'geopandas.geodataframe.GeoDataFrame'>\n",
      "ty <class 'geopandas.geodataframe.GeoDataFrame'>\n",
      "ty <class 'geopandas.geodataframe.GeoDataFrame'>\n"
     ]
    },
    {
     "name": "stderr",
     "output_type": "stream",
     "text": [
      "/var/folders/f7/jnv35vy91yn53q0rtcj3pklc0000gn/T/ipykernel_77185/2068339415.py:11: UserWarning: Geometry is in a geographic CRS. Results from 'area' are likely incorrect. Use 'GeoSeries.to_crs()' to re-project geometries to a projected CRS before this operation.\n",
      "\n",
      "  gdf[\"area\"] = gdf.geometry.area\n",
      "/var/folders/f7/jnv35vy91yn53q0rtcj3pklc0000gn/T/ipykernel_77185/2068339415.py:11: UserWarning: Geometry is in a geographic CRS. Results from 'area' are likely incorrect. Use 'GeoSeries.to_crs()' to re-project geometries to a projected CRS before this operation.\n",
      "\n",
      "  gdf[\"area\"] = gdf.geometry.area\n",
      "/var/folders/f7/jnv35vy91yn53q0rtcj3pklc0000gn/T/ipykernel_77185/2068339415.py:11: UserWarning: Geometry is in a geographic CRS. Results from 'area' are likely incorrect. Use 'GeoSeries.to_crs()' to re-project geometries to a projected CRS before this operation.\n",
      "\n",
      "  gdf[\"area\"] = gdf.geometry.area\n",
      "/var/folders/f7/jnv35vy91yn53q0rtcj3pklc0000gn/T/ipykernel_77185/2068339415.py:11: UserWarning: Geometry is in a geographic CRS. Results from 'area' are likely incorrect. Use 'GeoSeries.to_crs()' to re-project geometries to a projected CRS before this operation.\n",
      "\n",
      "  gdf[\"area\"] = gdf.geometry.area\n"
     ]
    },
    {
     "name": "stdout",
     "output_type": "stream",
     "text": [
      "ty <class 'geopandas.geodataframe.GeoDataFrame'>\n",
      "ty <class 'geopandas.geodataframe.GeoDataFrame'>\n",
      "ty <class 'geopandas.geodataframe.GeoDataFrame'>\n"
     ]
    },
    {
     "name": "stderr",
     "output_type": "stream",
     "text": [
      "/var/folders/f7/jnv35vy91yn53q0rtcj3pklc0000gn/T/ipykernel_77185/2068339415.py:11: UserWarning: Geometry is in a geographic CRS. Results from 'area' are likely incorrect. Use 'GeoSeries.to_crs()' to re-project geometries to a projected CRS before this operation.\n",
      "\n",
      "  gdf[\"area\"] = gdf.geometry.area\n",
      "/var/folders/f7/jnv35vy91yn53q0rtcj3pklc0000gn/T/ipykernel_77185/2068339415.py:11: UserWarning: Geometry is in a geographic CRS. Results from 'area' are likely incorrect. Use 'GeoSeries.to_crs()' to re-project geometries to a projected CRS before this operation.\n",
      "\n",
      "  gdf[\"area\"] = gdf.geometry.area\n",
      "/var/folders/f7/jnv35vy91yn53q0rtcj3pklc0000gn/T/ipykernel_77185/2068339415.py:11: UserWarning: Geometry is in a geographic CRS. Results from 'area' are likely incorrect. Use 'GeoSeries.to_crs()' to re-project geometries to a projected CRS before this operation.\n",
      "\n",
      "  gdf[\"area\"] = gdf.geometry.area\n"
     ]
    },
    {
     "name": "stdout",
     "output_type": "stream",
     "text": [
      "ty <class 'geopandas.geodataframe.GeoDataFrame'>\n",
      "ty <class 'geopandas.geodataframe.GeoDataFrame'>\n",
      "ty <class 'geopandas.geodataframe.GeoDataFrame'>\n"
     ]
    },
    {
     "name": "stderr",
     "output_type": "stream",
     "text": [
      "/var/folders/f7/jnv35vy91yn53q0rtcj3pklc0000gn/T/ipykernel_77185/2068339415.py:11: UserWarning: Geometry is in a geographic CRS. Results from 'area' are likely incorrect. Use 'GeoSeries.to_crs()' to re-project geometries to a projected CRS before this operation.\n",
      "\n",
      "  gdf[\"area\"] = gdf.geometry.area\n",
      "/var/folders/f7/jnv35vy91yn53q0rtcj3pklc0000gn/T/ipykernel_77185/2068339415.py:11: UserWarning: Geometry is in a geographic CRS. Results from 'area' are likely incorrect. Use 'GeoSeries.to_crs()' to re-project geometries to a projected CRS before this operation.\n",
      "\n",
      "  gdf[\"area\"] = gdf.geometry.area\n",
      "/var/folders/f7/jnv35vy91yn53q0rtcj3pklc0000gn/T/ipykernel_77185/2068339415.py:11: UserWarning: Geometry is in a geographic CRS. Results from 'area' are likely incorrect. Use 'GeoSeries.to_crs()' to re-project geometries to a projected CRS before this operation.\n",
      "\n",
      "  gdf[\"area\"] = gdf.geometry.area\n"
     ]
    },
    {
     "name": "stdout",
     "output_type": "stream",
     "text": [
      "ty <class 'geopandas.geodataframe.GeoDataFrame'>\n",
      "ty <class 'geopandas.geodataframe.GeoDataFrame'>\n",
      "ty <class 'geopandas.geodataframe.GeoDataFrame'>\n"
     ]
    },
    {
     "name": "stderr",
     "output_type": "stream",
     "text": [
      "/var/folders/f7/jnv35vy91yn53q0rtcj3pklc0000gn/T/ipykernel_77185/2068339415.py:11: UserWarning: Geometry is in a geographic CRS. Results from 'area' are likely incorrect. Use 'GeoSeries.to_crs()' to re-project geometries to a projected CRS before this operation.\n",
      "\n",
      "  gdf[\"area\"] = gdf.geometry.area\n",
      "/var/folders/f7/jnv35vy91yn53q0rtcj3pklc0000gn/T/ipykernel_77185/2068339415.py:11: UserWarning: Geometry is in a geographic CRS. Results from 'area' are likely incorrect. Use 'GeoSeries.to_crs()' to re-project geometries to a projected CRS before this operation.\n",
      "\n",
      "  gdf[\"area\"] = gdf.geometry.area\n",
      "/var/folders/f7/jnv35vy91yn53q0rtcj3pklc0000gn/T/ipykernel_77185/2068339415.py:11: UserWarning: Geometry is in a geographic CRS. Results from 'area' are likely incorrect. Use 'GeoSeries.to_crs()' to re-project geometries to a projected CRS before this operation.\n",
      "\n",
      "  gdf[\"area\"] = gdf.geometry.area\n"
     ]
    },
    {
     "name": "stdout",
     "output_type": "stream",
     "text": [
      "ty <class 'geopandas.geodataframe.GeoDataFrame'>\n",
      "ty <class 'geopandas.geodataframe.GeoDataFrame'>\n",
      "ty <class 'geopandas.geodataframe.GeoDataFrame'>\n"
     ]
    },
    {
     "name": "stderr",
     "output_type": "stream",
     "text": [
      "/var/folders/f7/jnv35vy91yn53q0rtcj3pklc0000gn/T/ipykernel_77185/2068339415.py:11: UserWarning: Geometry is in a geographic CRS. Results from 'area' are likely incorrect. Use 'GeoSeries.to_crs()' to re-project geometries to a projected CRS before this operation.\n",
      "\n",
      "  gdf[\"area\"] = gdf.geometry.area\n",
      "/var/folders/f7/jnv35vy91yn53q0rtcj3pklc0000gn/T/ipykernel_77185/2068339415.py:11: UserWarning: Geometry is in a geographic CRS. Results from 'area' are likely incorrect. Use 'GeoSeries.to_crs()' to re-project geometries to a projected CRS before this operation.\n",
      "\n",
      "  gdf[\"area\"] = gdf.geometry.area\n",
      "/var/folders/f7/jnv35vy91yn53q0rtcj3pklc0000gn/T/ipykernel_77185/2068339415.py:11: UserWarning: Geometry is in a geographic CRS. Results from 'area' are likely incorrect. Use 'GeoSeries.to_crs()' to re-project geometries to a projected CRS before this operation.\n",
      "\n",
      "  gdf[\"area\"] = gdf.geometry.area\n",
      "/Users/ACER/anaconda3/envs/ox/lib/python3.12/site-packages/osmnx/features.py:1045: FutureWarning: <class 'geopandas.array.GeometryArray'>._reduce will require a `keepdims` parameter in the future\n",
      "  gdf = gdf.dropna(axis=\"columns\", how=\"all\")\n"
     ]
    },
    {
     "name": "stdout",
     "output_type": "stream",
     "text": [
      "ty <class 'pandas.core.frame.DataFrame'>\n"
     ]
    },
    {
     "ename": "AttributeError",
     "evalue": "'DataFrame' object has no attribute 'to_crs'",
     "output_type": "error",
     "traceback": [
      "\u001b[0;31m---------------------------------------------------------------------------\u001b[0m",
      "\u001b[0;31mAttributeError\u001b[0m                            Traceback (most recent call last)",
      "\u001b[0;32m/var/folders/f7/jnv35vy91yn53q0rtcj3pklc0000gn/T/ipykernel_77185/2068339415.py\u001b[0m in \u001b[0;36m?\u001b[0;34m()\u001b[0m\n\u001b[1;32m      6\u001b[0m         \u001b[0mprint\u001b[0m\u001b[0;34m(\u001b[0m\u001b[0;34m\"Error with the following Polygon\"\u001b[0m\u001b[0;34m)\u001b[0m\u001b[0;34m\u001b[0m\u001b[0;34m\u001b[0m\u001b[0m\n\u001b[1;32m      7\u001b[0m         \u001b[0;32mcontinue\u001b[0m\u001b[0;34m;\u001b[0m\u001b[0;34m\u001b[0m\u001b[0;34m\u001b[0m\u001b[0m\n\u001b[1;32m      8\u001b[0m     \u001b[0mprint\u001b[0m\u001b[0;34m(\u001b[0m\u001b[0;34m\"ty\"\u001b[0m\u001b[0;34m,\u001b[0m\u001b[0mtype\u001b[0m\u001b[0;34m(\u001b[0m\u001b[0mgdf\u001b[0m\u001b[0;34m)\u001b[0m\u001b[0;34m)\u001b[0m\u001b[0;34m\u001b[0m\u001b[0;34m\u001b[0m\u001b[0m\n\u001b[1;32m      9\u001b[0m     \u001b[0mgdf\u001b[0m\u001b[0;34m.\u001b[0m\u001b[0mreset_index\u001b[0m\u001b[0;34m(\u001b[0m\u001b[0minplace\u001b[0m\u001b[0;34m=\u001b[0m\u001b[0;32mTrue\u001b[0m\u001b[0;34m)\u001b[0m\u001b[0;34m\u001b[0m\u001b[0;34m\u001b[0m\u001b[0m\n\u001b[0;32m---> 10\u001b[0;31m     \u001b[0mgdf\u001b[0m \u001b[0;34m=\u001b[0m \u001b[0mgdf\u001b[0m\u001b[0;34m.\u001b[0m\u001b[0mto_crs\u001b[0m\u001b[0;34m(\u001b[0m\u001b[0mepsg\u001b[0m\u001b[0;34m=\u001b[0m\u001b[0;36m4269\u001b[0m\u001b[0;34m)\u001b[0m\u001b[0;34m\u001b[0m\u001b[0;34m\u001b[0m\u001b[0m\n\u001b[0m\u001b[1;32m     11\u001b[0m     \u001b[0mgdf\u001b[0m\u001b[0;34m[\u001b[0m\u001b[0;34m\"area\"\u001b[0m\u001b[0;34m]\u001b[0m \u001b[0;34m=\u001b[0m \u001b[0mgdf\u001b[0m\u001b[0;34m.\u001b[0m\u001b[0mgeometry\u001b[0m\u001b[0;34m.\u001b[0m\u001b[0marea\u001b[0m\u001b[0;34m\u001b[0m\u001b[0;34m\u001b[0m\u001b[0m\n\u001b[1;32m     12\u001b[0m     \u001b[0mlanduse_area_dict\u001b[0m \u001b[0;34m=\u001b[0m \u001b[0mgdf\u001b[0m\u001b[0;34m.\u001b[0m\u001b[0mgroupby\u001b[0m\u001b[0;34m(\u001b[0m\u001b[0;34m'landuse'\u001b[0m\u001b[0;34m)\u001b[0m\u001b[0;34m[\u001b[0m\u001b[0;34m'area'\u001b[0m\u001b[0;34m]\u001b[0m\u001b[0;34m.\u001b[0m\u001b[0msum\u001b[0m\u001b[0;34m(\u001b[0m\u001b[0;34m)\u001b[0m\u001b[0;34m.\u001b[0m\u001b[0mto_dict\u001b[0m\u001b[0;34m(\u001b[0m\u001b[0;34m)\u001b[0m\u001b[0;34m\u001b[0m\u001b[0;34m\u001b[0m\u001b[0m\n\u001b[1;32m     13\u001b[0m     \u001b[0mlanduse_area_dict\u001b[0m \u001b[0;34m=\u001b[0m \u001b[0;34m{\u001b[0m\u001b[0mk\u001b[0m\u001b[0;34m:\u001b[0m \u001b[0mv\u001b[0m \u001b[0;32mfor\u001b[0m \u001b[0mk\u001b[0m\u001b[0;34m,\u001b[0m \u001b[0mv\u001b[0m \u001b[0;32min\u001b[0m \u001b[0mlanduse_area_dict\u001b[0m\u001b[0;34m.\u001b[0m\u001b[0mitems\u001b[0m\u001b[0;34m(\u001b[0m\u001b[0;34m)\u001b[0m \u001b[0;32mif\u001b[0m \u001b[0mv\u001b[0m \u001b[0;34m!=\u001b[0m \u001b[0;36m0\u001b[0m\u001b[0;34m}\u001b[0m\u001b[0;34m\u001b[0m\u001b[0;34m\u001b[0m\u001b[0m\n",
      "\u001b[0;32m~/anaconda3/envs/ox/lib/python3.12/site-packages/pandas/core/generic.py\u001b[0m in \u001b[0;36m?\u001b[0;34m(self, name)\u001b[0m\n\u001b[1;32m   6289\u001b[0m             \u001b[0;32mand\u001b[0m \u001b[0mname\u001b[0m \u001b[0;32mnot\u001b[0m \u001b[0;32min\u001b[0m \u001b[0mself\u001b[0m\u001b[0;34m.\u001b[0m\u001b[0m_accessors\u001b[0m\u001b[0;34m\u001b[0m\u001b[0;34m\u001b[0m\u001b[0m\n\u001b[1;32m   6290\u001b[0m             \u001b[0;32mand\u001b[0m \u001b[0mself\u001b[0m\u001b[0;34m.\u001b[0m\u001b[0m_info_axis\u001b[0m\u001b[0;34m.\u001b[0m\u001b[0m_can_hold_identifiers_and_holds_name\u001b[0m\u001b[0;34m(\u001b[0m\u001b[0mname\u001b[0m\u001b[0;34m)\u001b[0m\u001b[0;34m\u001b[0m\u001b[0;34m\u001b[0m\u001b[0m\n\u001b[1;32m   6291\u001b[0m         \u001b[0;34m)\u001b[0m\u001b[0;34m:\u001b[0m\u001b[0;34m\u001b[0m\u001b[0;34m\u001b[0m\u001b[0m\n\u001b[1;32m   6292\u001b[0m             \u001b[0;32mreturn\u001b[0m \u001b[0mself\u001b[0m\u001b[0;34m[\u001b[0m\u001b[0mname\u001b[0m\u001b[0;34m]\u001b[0m\u001b[0;34m\u001b[0m\u001b[0;34m\u001b[0m\u001b[0m\n\u001b[0;32m-> 6293\u001b[0;31m         \u001b[0;32mreturn\u001b[0m \u001b[0mobject\u001b[0m\u001b[0;34m.\u001b[0m\u001b[0m__getattribute__\u001b[0m\u001b[0;34m(\u001b[0m\u001b[0mself\u001b[0m\u001b[0;34m,\u001b[0m \u001b[0mname\u001b[0m\u001b[0;34m)\u001b[0m\u001b[0;34m\u001b[0m\u001b[0;34m\u001b[0m\u001b[0m\n\u001b[0m",
      "\u001b[0;31mAttributeError\u001b[0m: 'DataFrame' object has no attribute 'to_crs'"
     ]
    }
   ],
   "source": [
    "for polygon,E,a in zip(polygons,Entropys,areas):\n",
    "\n",
    "    try:\n",
    "        gdf= ox.features.features_from_polygon(polygon, tags = {'landuse': True})\n",
    "    except:\n",
    "        print(\"Error with the following Polygon\")\n",
    "        continue; \n",
    "    print(\"ty\",type(gdf))\n",
    "    gdf = gpd.GeoDataFrame(gdf, geometry='geometry')\n",
    "    gdf.reset_index(inplace=True)\n",
    "    gdf = gdf.to_crs(epsg=4269)\n",
    "    gdf[\"area\"] = gdf.geometry.area\n",
    "    landuse_area_dict = gdf.groupby('landuse')['area'].sum().to_dict()\n",
    "    landuse_area_dict = {k: v for k, v in landuse_area_dict.items() if v != 0}\n",
    "    remove=[\"aquaculture\",\"basin\",\"salt_pond\",\"railway\"]\n",
    "    valid_landuse_dict = {key: value for key, value in landuse_area_dict.items() if key not in remove}\n",
    "    area = sum(landuse_area_dict.values())\n",
    "    "
   ]
  }
 ],
 "metadata": {
  "kernelspec": {
   "display_name": "ox",
   "language": "python",
   "name": "python3"
  },
  "language_info": {
   "codemirror_mode": {
    "name": "ipython",
    "version": 3
   },
   "file_extension": ".py",
   "mimetype": "text/x-python",
   "name": "python",
   "nbconvert_exporter": "python",
   "pygments_lexer": "ipython3",
   "version": "3.12.2"
  }
 },
 "nbformat": 4,
 "nbformat_minor": 2
}
