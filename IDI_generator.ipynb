{
 "cells": [
  {
   "cell_type": "code",
   "execution_count": 18,
   "metadata": {},
   "outputs": [],
   "source": [
    "import osmnx as ox\n",
    "import matplotlib.pyplot as plt\n",
    "import geopandas as gpd\n",
    "from matplotlib.colors import Normalize\n",
    "from matplotlib.cm import ScalarMappable\n",
    "import csv\n",
    "import json\n"
   ]
  },
  {
   "cell_type": "code",
   "execution_count": 19,
   "metadata": {},
   "outputs": [],
   "source": [
    "#Data Extraction\n",
    "data = gpd.read_file(\"/Users/ACER/Desktop/VIP_IDI/atl_bg.geojson\")\n",
    "polygons=[ i for i in data[\"geometry\"]]#extracting polygons  from the geojson file\n",
    "areas = [i for i in data[\"ALAND\"]]#extracting area from the geojson file\n"
   ]
  },
  {
   "cell_type": "code",
   "execution_count": 20,
   "metadata": {},
   "outputs": [],
   "source": [
    "# Initialize empty lists for calculation results\n",
    "numerator = []\n",
    "intersection_sums = []\n",
    "\n",
    "# Iterate through polygons and their corresponding areas\n",
    "for polygon, area in zip(polygons, areas):\n",
    "    intersection_factor_sum = 0\n",
    "\n",
    "    # Create a street network graph from the current polygon\n",
    "    graph = ox.graph_from_polygon(polygon, network_type='walk') \n",
    "\n",
    "    # Calculate intersection factor sum for the polygon's graph\n",
    "    for node in graph.nodes():\n",
    "        intersection_factor_sum += len(list(graph.neighbors(node)))  # Count neighbors of each node\n",
    "\n",
    "    # Store results    \n",
    "    intersection_sums.append(intersection_factor_sum) \n",
    "    numerator.append(intersection_factor_sum/area)  # Calculate metric, normalized by area\n",
    "\n",
    "# Find the maximum value in 'numerator'\n",
    "maxi = max(numerator)\n",
    "\n",
    "# Calculate the IDI \n",
    "IDI = [value / maxi for value in numerator]  # Normalize values by the maximum"
   ]
  },
  {
   "cell_type": "code",
   "execution_count": 21,
   "metadata": {},
   "outputs": [
    {
     "name": "stdout",
     "output_type": "stream",
     "text": [
      "500\n"
     ]
    }
   ],
   "source": [
    "print(IDI)"
   ]
  },
  {
   "cell_type": "code",
   "execution_count": null,
   "metadata": {},
   "outputs": [],
   "source": [
    "\n",
    "# Create features list\n",
    "features = []\n",
    "for i in range(len(polygons)):\n",
    "  feature = {\n",
    "      \"type\": \"Feature\",\n",
    "      \"geometry\": {\n",
    "          \"type\": \"Polygon\",\n",
    "          \"coordinates\": polygons[i] \n",
    "      },\n",
    "      \"properties\": {\n",
    "          \"Area\": areas[i],\n",
    "          \"Intersection_sums\": intersection_sums[i],\n",
    "          \"Numerator\": numerator[i],\n",
    "          \"IDI\": IDI[i]\n",
    "      }\n",
    "  }\n",
    "  features.append(feature)\n",
    "\n",
    "# Create GeoJSON object\n",
    "geojson = {\n",
    "  \"type\": \"FeatureCollection\",\n",
    "  \"features\": features\n",
    "}\n",
    "\n",
    "# Convert to JSON string\n",
    "json_string = json.dumps(geojson, indent=4)\n",
    "\n",
    "# Write to file\n",
    "with open('Atlanta_IDI_data.geojson', 'w') as outfile:\n",
    "  outfile.write(json_string)"
   ]
  },
  {
   "cell_type": "code",
   "execution_count": null,
   "metadata": {},
   "outputs": [],
   "source": [
    "# Create and write to the CSV file\n",
    "with open('Atlanta_IDI_data.csv', 'w', newline='') as csvfile:\n",
    "    writer = csv.writer(csvfile)\n",
    "    writer.writerow(['Polygon', 'Area', 'Intersection_sums','Numerator','IDI'])  # Header row\n",
    "\n",
    "    # Use zip to combine lists into rows\n",
    "    for polygon, area,sum,num,val in zip(polygons, areas, intersection_sums,numerator,IDI):\n",
    "        writer.writerow([polygon, area,sum,num,val])"
   ]
  }
 ],
 "metadata": {
  "kernelspec": {
   "display_name": "ox",
   "language": "python",
   "name": "python3"
  },
  "language_info": {
   "codemirror_mode": {
    "name": "ipython",
    "version": 3
   },
   "file_extension": ".py",
   "mimetype": "text/x-python",
   "name": "python",
   "nbconvert_exporter": "python",
   "pygments_lexer": "ipython3",
   "version": "3.12.2"
  }
 },
 "nbformat": 4,
 "nbformat_minor": 2
}
